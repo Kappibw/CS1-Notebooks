{
 "cells": [
  {
   "cell_type": "markdown",
   "metadata": {},
   "source": [
    "# Control Systems 1, NB02: Introduction to System Classification and Properties\n",
    "2024 ETH Zurich, Mark Benazet Castells, Jonas Holinger, Felix Muller, Matteo Penlington; Institute for Dynamic Systems and Control; Prof. Emilio Frazzoli\n",
    "\n",
    "\n",
    "This interactive notebook is designed to introduce fundamental concepts in control systems engineering. It covers the basics of system modeling, classification, and analysis, with a focus on building intuition through visual and interactive examples.\n",
    "\n",
    "Authors:\n",
    "- Mark Benazet Castells; mbenazet@ethz.ch\n",
    "- Felix Muller; fmuller@ethz.ch"
   ]
  },
  {
   "cell_type": "markdown",
   "metadata": {},
   "source": [
    "## Learning Objectives\n",
    "\n",
    "After completing this notebook, you should be able to:\n",
    "\n",
    "1. Understand input-output models of linear time-invariant (LTI) systems.\n",
    "2. Write the model of an LTI system with A, B, C, D matrices.\n",
    "3. Understand the concept of \"state\" to model a system.\n",
    "4. Classify systems as static / dynamic, causal/non-causal, time-invariant/time-varying, linear/nonlinear.\n",
    "5. Understand the notion of equilibrium points.\n",
    "6. Approximate a non-linear system with a linear one about an equilibrium point."
   ]
  },
  {
   "cell_type": "markdown",
   "metadata": {},
   "source": [
    "# Setup\n"
   ]
  },
  {
   "cell_type": "markdown",
   "metadata": {},
   "source": [
    "## Installing the required packages:\n"
   ]
  },
  {
   "cell_type": "markdown",
   "metadata": {},
   "source": [
    "The following packages are required to run this notebook. If you haven't installed them yet, you can do so by running the following cell."
   ]
  },
  {
   "cell_type": "code",
   "execution_count": 34,
   "metadata": {},
   "outputs": [
    {
     "name": "stdout",
     "output_type": "stream",
     "text": [
      "Requirement already satisfied: numpy in /Users/matteopenlington/GitHub/CS1-Notebooks/venv/lib/python3.12/site-packages (2.1.0)\n",
      "Requirement already satisfied: matplotlib in /Users/matteopenlington/GitHub/CS1-Notebooks/venv/lib/python3.12/site-packages (3.9.2)\n",
      "Requirement already satisfied: scipy in /Users/matteopenlington/GitHub/CS1-Notebooks/venv/lib/python3.12/site-packages (1.14.1)\n",
      "Requirement already satisfied: ipywidgets in /Users/matteopenlington/GitHub/CS1-Notebooks/venv/lib/python3.12/site-packages (8.1.5)\n",
      "Requirement already satisfied: contourpy>=1.0.1 in /Users/matteopenlington/GitHub/CS1-Notebooks/venv/lib/python3.12/site-packages (from matplotlib) (1.2.1)\n",
      "Requirement already satisfied: cycler>=0.10 in /Users/matteopenlington/GitHub/CS1-Notebooks/venv/lib/python3.12/site-packages (from matplotlib) (0.12.1)\n",
      "Requirement already satisfied: fonttools>=4.22.0 in /Users/matteopenlington/GitHub/CS1-Notebooks/venv/lib/python3.12/site-packages (from matplotlib) (4.53.1)\n",
      "Requirement already satisfied: kiwisolver>=1.3.1 in /Users/matteopenlington/GitHub/CS1-Notebooks/venv/lib/python3.12/site-packages (from matplotlib) (1.4.5)\n",
      "Requirement already satisfied: packaging>=20.0 in /Users/matteopenlington/GitHub/CS1-Notebooks/venv/lib/python3.12/site-packages (from matplotlib) (24.1)\n",
      "Requirement already satisfied: pillow>=8 in /Users/matteopenlington/GitHub/CS1-Notebooks/venv/lib/python3.12/site-packages (from matplotlib) (10.4.0)\n",
      "Requirement already satisfied: pyparsing>=2.3.1 in /Users/matteopenlington/GitHub/CS1-Notebooks/venv/lib/python3.12/site-packages (from matplotlib) (3.1.4)\n",
      "Requirement already satisfied: python-dateutil>=2.7 in /Users/matteopenlington/GitHub/CS1-Notebooks/venv/lib/python3.12/site-packages (from matplotlib) (2.9.0.post0)\n",
      "Requirement already satisfied: comm>=0.1.3 in /Users/matteopenlington/GitHub/CS1-Notebooks/venv/lib/python3.12/site-packages (from ipywidgets) (0.2.2)\n",
      "Requirement already satisfied: ipython>=6.1.0 in /Users/matteopenlington/GitHub/CS1-Notebooks/venv/lib/python3.12/site-packages (from ipywidgets) (8.26.0)\n",
      "Requirement already satisfied: traitlets>=4.3.1 in /Users/matteopenlington/GitHub/CS1-Notebooks/venv/lib/python3.12/site-packages (from ipywidgets) (5.14.3)\n",
      "Requirement already satisfied: widgetsnbextension~=4.0.12 in /Users/matteopenlington/GitHub/CS1-Notebooks/venv/lib/python3.12/site-packages (from ipywidgets) (4.0.13)\n",
      "Requirement already satisfied: jupyterlab-widgets~=3.0.12 in /Users/matteopenlington/GitHub/CS1-Notebooks/venv/lib/python3.12/site-packages (from ipywidgets) (3.0.13)\n",
      "Requirement already satisfied: decorator in /Users/matteopenlington/GitHub/CS1-Notebooks/venv/lib/python3.12/site-packages (from ipython>=6.1.0->ipywidgets) (5.1.1)\n",
      "Requirement already satisfied: jedi>=0.16 in /Users/matteopenlington/GitHub/CS1-Notebooks/venv/lib/python3.12/site-packages (from ipython>=6.1.0->ipywidgets) (0.19.1)\n",
      "Requirement already satisfied: matplotlib-inline in /Users/matteopenlington/GitHub/CS1-Notebooks/venv/lib/python3.12/site-packages (from ipython>=6.1.0->ipywidgets) (0.1.7)\n",
      "Requirement already satisfied: prompt-toolkit<3.1.0,>=3.0.41 in /Users/matteopenlington/GitHub/CS1-Notebooks/venv/lib/python3.12/site-packages (from ipython>=6.1.0->ipywidgets) (3.0.47)\n",
      "Requirement already satisfied: pygments>=2.4.0 in /Users/matteopenlington/GitHub/CS1-Notebooks/venv/lib/python3.12/site-packages (from ipython>=6.1.0->ipywidgets) (2.18.0)\n",
      "Requirement already satisfied: stack-data in /Users/matteopenlington/GitHub/CS1-Notebooks/venv/lib/python3.12/site-packages (from ipython>=6.1.0->ipywidgets) (0.6.3)\n",
      "Requirement already satisfied: pexpect>4.3 in /Users/matteopenlington/GitHub/CS1-Notebooks/venv/lib/python3.12/site-packages (from ipython>=6.1.0->ipywidgets) (4.9.0)\n",
      "Requirement already satisfied: six>=1.5 in /Users/matteopenlington/GitHub/CS1-Notebooks/venv/lib/python3.12/site-packages (from python-dateutil>=2.7->matplotlib) (1.16.0)\n",
      "Requirement already satisfied: parso<0.9.0,>=0.8.3 in /Users/matteopenlington/GitHub/CS1-Notebooks/venv/lib/python3.12/site-packages (from jedi>=0.16->ipython>=6.1.0->ipywidgets) (0.8.4)\n",
      "Requirement already satisfied: ptyprocess>=0.5 in /Users/matteopenlington/GitHub/CS1-Notebooks/venv/lib/python3.12/site-packages (from pexpect>4.3->ipython>=6.1.0->ipywidgets) (0.7.0)\n",
      "Requirement already satisfied: wcwidth in /Users/matteopenlington/GitHub/CS1-Notebooks/venv/lib/python3.12/site-packages (from prompt-toolkit<3.1.0,>=3.0.41->ipython>=6.1.0->ipywidgets) (0.2.13)\n",
      "Requirement already satisfied: executing>=1.2.0 in /Users/matteopenlington/GitHub/CS1-Notebooks/venv/lib/python3.12/site-packages (from stack-data->ipython>=6.1.0->ipywidgets) (2.0.1)\n",
      "Requirement already satisfied: asttokens>=2.1.0 in /Users/matteopenlington/GitHub/CS1-Notebooks/venv/lib/python3.12/site-packages (from stack-data->ipython>=6.1.0->ipywidgets) (2.4.1)\n",
      "Requirement already satisfied: pure-eval in /Users/matteopenlington/GitHub/CS1-Notebooks/venv/lib/python3.12/site-packages (from stack-data->ipython>=6.1.0->ipywidgets) (0.2.3)\n",
      "Note: you may need to restart the kernel to use updated packages.\n"
     ]
    }
   ],
   "source": [
    "%pip install numpy matplotlib scipy ipywidgets"
   ]
  },
  {
   "cell_type": "markdown",
   "metadata": {},
   "source": [
    "## Import the packages:\n",
    "The following cell imports the required packages. Run it before running the rest of the notebook."
   ]
  },
  {
   "cell_type": "code",
   "execution_count": 35,
   "metadata": {},
   "outputs": [],
   "source": [
    "import numpy as np\n",
    "import matplotlib.pyplot as plt\n",
    "from scipy.integrate import odeint\n",
    "from ipywidgets import interact, interactive, widgets, FloatSlider, Dropdown\n",
    "from IPython.display import display"
   ]
  },
  {
   "cell_type": "markdown",
   "metadata": {},
   "source": [
    "# 1. Input-Output Models\n"
   ]
  },
  {
   "cell_type": "markdown",
   "metadata": {},
   "source": [
    "In NB01 we saw that an input-output model is a map Σ from an input signal u(t) to an output signal y(t):\n",
    "\n",
    "$$y = \\Sigma u$$\n",
    "\n",
    "or more explicitly:\n",
    "\n",
    "$$y(t) = (\\Sigma u)(t), \\quad \\forall t \\in T$$\n",
    "\n",
    "This can be represented by a block diagram:"
   ]
  },
  {
   "cell_type": "markdown",
   "metadata": {},
   "source": [
    "<div style=\"text-align:center;\">\n",
    "    <img src=\"./img/block_dgm.png\" alt=\"Block Diagram\" width=\"500\">\n",
    "</div>"
   ]
  },
  {
   "cell_type": "markdown",
   "metadata": {},
   "source": [
    "Depending on how Σ affects u, it is possible to classify the system in different ways:\n",
    "- Linear vs. Nonlinear\n",
    "- Causal vs. Non-causal\n",
    "- Static (memoryless) vs. Dynamic\n",
    "- Time-invariant vs. Time-varying\n",
    "\n",
    "It is important to note, as we will see through the course, that certain tools are analysis techniques are required/useful only on certain types of systems. In general, in this course we focus on **Linear Time-invariant (LTI)** Systems. Thus, one should be able to determine whether a given system is already LTI or whether some transformation (e.g., non-linear → linear) is required."
   ]
  },
  {
   "cell_type": "markdown",
   "metadata": {},
   "source": [
    "# 2. Classification of Systems\n"
   ]
  },
  {
   "cell_type": "markdown",
   "metadata": {},
   "source": [
    "## 1. Linear vs. Nonlinear Systems\n"
   ]
  },
  {
   "cell_type": "markdown",
   "metadata": {},
   "source": [
    "\n",
    "A system is linear if it satisfies the superposition principle (i.e., is additive and homogenous):\n",
    "\n",
    "$$\\Sigma(a u_1 + b u_2) = a(\\Sigma u_1) + b(\\Sigma u_2)$$\n",
    "\n",
    "Or in other words:\n",
    "\n",
    "$$y(a u_1 + b u_2) = a y(u_1) + b y(u_2)$$\n",
    "\n",
    "Where $\\Sigma$ represents the system, $u = a u_1 + b u_2$ are control input signals, $y = a y_1 + b y_2$ are output signals, and a and b are scalars.\n",
    "\n",
    "> As a core competency, given a system, you should be able to determine whether it is linear or non-linear. In general, the process is to determine whether the above superposition principle holds. \n",
    "\n",
    "The below examples, illustrate the general process:"
   ]
  },
  {
   "cell_type": "markdown",
   "metadata": {},
   "source": [
    "### Example 1 - linear"
   ]
  },
  {
   "cell_type": "markdown",
   "metadata": {},
   "source": [
    "Consider the system $y=3u$. To prove whether it is linear or non-linear:\n",
    "\n",
    "**Step 1**: Let $u = a u_1 + b u_2$\n",
    "\n",
    "**Step 2**: Substitute the above into $y$: $\\quad y = 3 (a u_1 + b u_2)$\n",
    "\n",
    "**Step 3**: Simplify the above to determine whether the superposition principle holds: \n",
    "\\begin{align*}\n",
    "y =& 3 a u_1 + 3 b u_2 + 4 \\\\\n",
    "  =& a (3u_1) + b(3u_2) \\\\\n",
    "  =& a (y_1) + b (y_2)\n",
    "\\end{align*}\n",
    "Since the superposition principle holds, $y=3u$ is linear. "
   ]
  },
  {
   "cell_type": "markdown",
   "metadata": {},
   "source": [
    "### Example 2 - Non-linear\n",
    "\n",
    "Consider the system $y = u^2$. To prove whether it is linear or non-linear:\n",
    "\n",
    "**Step 1**: Let $u = a u_1 + b u_2$\n",
    "\n",
    "**Step 2**: Substitute the above into $y$: $\\quad y = (a u_1 + b u_2)^2$\n",
    "\n",
    "**Step 3**: Simplify the above to determine whether the superposition principle holds: \n",
    "\\begin{align*}\n",
    "y &= (a u_1 + b u_2)^2 \\\\\n",
    "    &= a^2 u_1^2 + 2 a b u_1 u_2 + b^2 u_2^2 \\\\\n",
    "    &\\neq a (u_1^2) + b (u_2^2)\n",
    "\\end{align*}\n",
    "\n",
    "Since the superposition principle does not hold, $y = u^2$ is non-linear."
   ]
  },
  {
   "cell_type": "markdown",
   "metadata": {},
   "source": [
    "### Practical examples"
   ]
  },
  {
   "cell_type": "markdown",
   "metadata": {},
   "source": [
    "The above examples may seem a bit abstract, so to help contextualize the origin of such equations (e.g., $y=ku, k\\in\\mathbb{R}_{\\geq0}$), consider the below examples of practical systems:\n",
    "\n",
    "A **simple electrical circuit** with a resistor is a linear system:\n",
    "- The relationship between voltage (V) and current (I) follows Ohm's Law: $V = IR$.\n",
    "- Combining two current sources, results in a voltage that is the sum of both current sources.\n",
    "\n",
    "A **pendulum** in a grandfather clock is a non-linear system:\n",
    "- Its motion is described by a non-linear equation: $\\frac{d^2\t\\theta}{dt^2} + \\frac{g}{L} \\sin(\t\\theta) = 0$. \n",
    "- Doubling the initial displacement doesn't double the period or amplitude of oscillation.\n",
    "- The behavior changes significantly with large displacements.\n",
    "- Combining two initial conditions doesn't result in a simple combination of their individual motions.\n",
    "\n",
    "Use the interactive plot below to check this property for different systems:\n",
    "\n",
    "- Linear system: $y = u$\n",
    "- Nonlinear system: $y = u^2$\n",
    "- Nonlinear system: $y = \\sin(u)$\n",
    "- Nonlinear + Linear system: $y = \\sin(u) + u$\n",
    "\n",
    "Parameters:\n",
    "- $a, b$: Scalars for the superposition principle\n",
    "\n",
    "Adjust the parameters and observe:\n",
    "- If the solid and dashed lines overlap for all inputs, the system is linear.\n",
    "- If they diverge, the system is nonlinear.\n",
    "- Is there a region of attraction around some values of $u$, where the non-linear and linear systems have similar outputs $y$?"
   ]
  },
  {
   "cell_type": "code",
   "execution_count": 36,
   "metadata": {},
   "outputs": [
    {
     "data": {
      "application/vnd.jupyter.widget-view+json": {
       "model_id": "373602e221d64c67a99da0b0f9c304f3",
       "version_major": 2,
       "version_minor": 0
      },
      "text/plain": [
       "interactive(children=(Dropdown(description='System', options=('Linear: y = u', 'Nonlinear: y = u²', 'Nonlinear…"
      ]
     },
     "metadata": {},
     "output_type": "display_data"
    }
   ],
   "source": [
    "system_types = {\n",
    "    'Linear: y = u': lambda u: u,\n",
    "    'Nonlinear: y = u²': lambda u: u**2,\n",
    "    'Nonlinear (Sine)': np.sin,\n",
    "    'Nonlinear + Linear (Sine + Linear)': lambda u: np.sin(u) + u\n",
    "}\n",
    "\n",
    "def system_response(system_type, u):\n",
    "    return system_types[system_type](u)\n",
    "\n",
    "def check_linearity(system_type, a, b):\n",
    "    u1 = np.linspace(-2, 2, 200)\n",
    "    u2 = np.linspace(-2, 2, 200)\n",
    "    \n",
    "    # Individual responses\n",
    "    y1 = system_response(system_type, u1)\n",
    "    y2 = system_response(system_type, u2)\n",
    "    \n",
    "    # Linearity check\n",
    "    y_sum = system_response(system_type, a*u1 + b*u2)\n",
    "    y_individual_sum = a*y1 + b*y2\n",
    "    \n",
    "    fig, ax = plt.subplots()\n",
    "    \n",
    "    # Linearity plot with LaTeX labels\n",
    "    ax.plot(u1, y_sum, label=r'$\\Sigma(au_1 + bu_2)$')\n",
    "    ax.plot(u1, y_individual_sum, label=r'$a\\Sigma(u_1) + b\\Sigma(u_2)$', linestyle='--')\n",
    "    ax.set_title('Linearity Check')\n",
    "    ax.set_xlabel('Input, $u$')\n",
    "    ax.set_ylabel('Output, $y$')\n",
    "    ax.legend()\n",
    "    ax.grid(True)\n",
    "    \n",
    "    plt.tight_layout()\n",
    "    plt.show()\n",
    "\n",
    "# Create the interactive widgets\n",
    "system_dropdown = Dropdown(\n",
    "    options=list(system_types.keys()),\n",
    "    value=list(system_types.keys())[0], \n",
    "    description='System'\n",
    ")\n",
    "a_slider = FloatSlider(min=-2, max=2, step=0.1, value=1)\n",
    "b_slider = FloatSlider(min=-2, max=2, step=0.1, value=1)\n",
    "\n",
    "# Create interactive plot\n",
    "interactive_plot = interactive(check_linearity, system_type=system_dropdown, a=a_slider, b=b_slider)\n",
    "\n",
    "# dipslay the widgets and plot\n",
    "display(interactive_plot)"
   ]
  },
  {
   "cell_type": "markdown",
   "metadata": {},
   "source": [
    "## 2. Causal vs Non-Causal Systems\n"
   ]
  },
  {
   "cell_type": "markdown",
   "metadata": {},
   "source": [
    "\n",
    "1. **Causal System**: A system where the output at any time $t$ depends only on the values of the input on ($-\\infty, t$]. \n",
    "   In other words, the system doesn't respond to future inputs.\n",
    "\n",
    "2. **Non-Causal System**: A system where the output at time $t$ can depend on future inputs (after time $t$). \n",
    "   Such systems are not physically realizable in \"the real world\" as it would depend on future information.\n",
    "\n",
    "\n",
    "A **thermostat** in your home is a causal system:\n",
    "- It responds to current and past temperature readings.\n",
    "- When the temperature drops below a set point, it turns on the heater.\n",
    "- The thermostat's actions are based solely on present and past inputs, never on future temperatures.\n",
    "\n",
    "While true non-causal systems don't exist in real-time physical world, we can find examples in data processing:\n",
    "\n",
    "A **video editing software** applying a blur effect to an entire video clip is effectively non-causal:\n",
    "- When blurring a frame at time t, it uses information from frames before and after t.\n",
    "- This process \"knows\" about future frames, making it non-causal from the perspective of real-time video processing."
   ]
  },
  {
   "cell_type": "markdown",
   "metadata": {},
   "source": [
    "## 3. Static vs. Dynamic\n"
   ]
  },
  {
   "cell_type": "markdown",
   "metadata": {},
   "source": [
    "\n",
    "1. **Static System**: A system where the output at time $t$ depends only on the input at time $t$.\n",
    "   In other words, the system has no memory of past inputs.\n",
    "\n",
    "2. **Dynamic System**: A system where the output at time $t$ depends on the input at time $t$ and past inputs.\n",
    "\n",
    "A good example of a static system is a **volume knob on a speaker**. The volume level is always controlled by the current position of the knob, without any consideration of previous settings. No matter how much the knob was turned earlier, the current volume depends only on the knob's current position.\n",
    "\n",
    "An example of a dynamic system is the **longitudinal speed of a car**. A specific depression of the gas pedal does not correspond to one specific speed, because the car's speed depends on both how much the gas pedal is currently pressed and how it has been pressed over time. Other factors such as inertia and friction also contribute, meaning the speed evolves dynamically based on the system's history."
   ]
  },
  {
   "cell_type": "markdown",
   "metadata": {},
   "source": [
    "## 4. Time-Invariant vs. Time-Varying\n"
   ]
  },
  {
   "cell_type": "markdown",
   "metadata": {},
   "source": [
    "\n",
    "1. **Time-Invariant System**: A system where the input-output relationship does not change over time.\n",
    "   In other words, the system's properties do not change with time.\n",
    "\n",
    "2. **Time-Varying System**: A system where the input-output relationship changes over time.\n",
    "\n",
    "Imagine a perfect actuator in a control system:\n",
    "\n",
    "1. Ideal Motor: \n",
    "   This actuator consistently produces the same output for a given input, regardless of when the input is applied. It's like a brand-new, high-quality motor that responds identically today, tomorrow, or a year from now.\n",
    "\n",
    "2. Aging Motor:\n",
    "   In reality, actuators may degrade over time due to wear and tear. An aging motor might produce less output for the same input as time passes. This change in behavior over time characterizes a time-varying system.\n",
    "\n",
    "<div style=\"text-align:center;\">\n",
    "    <img src=\"./img/actuator_decay.png\" alt=\"Block Diagram\" width=\"400\">\n",
    "</div>\n",
    "\n",
    "> Given a system, you must be able to determine whether it is time-invariant or time-varying. "
   ]
  },
  {
   "cell_type": "markdown",
   "metadata": {},
   "source": [
    "### Example"
   ]
  },
  {
   "cell_type": "markdown",
   "metadata": {},
   "source": [
    "To help understand the notation and general process, consider the simple system below:\n",
    "\n",
    "$$ y(t) = t \\cdot u(t) $$\n",
    "\n",
    "Then, the two time shifted operations are:\n",
    "\n",
    "$$\n",
    "\\begin{align*}\n",
    "\\left(\\sigma_\\tau \\Sigma_u \\right) \\quad=\\quad& y(t-\\tau) &=\\quad& (t-\\tau) u(t-\\tau) \\\\\n",
    "\\left(\\Sigma \\sigma_\\tau u\\right)(t) \\quad=\\quad& \\left(\\Sigma \\tilde{u}\\right)(t) &=\\quad& t u(t-\\tau)  \n",
    "\\end{align*}\n",
    "$$\n",
    "\n",
    "By noting that $(t-\\tau) u(t-\\tau) \\neq t u(t-\\tau)$, it is concludes that the system $y$ is time-varying. "
   ]
  },
  {
   "cell_type": "markdown",
   "metadata": {},
   "source": [
    "# 3. State-Space Models"
   ]
  },
  {
   "cell_type": "markdown",
   "metadata": {},
   "source": [
    "In the previous notebook, NB01, the state-space representation of a system was introduced. However, note that a system has to be *casual* such that a system can be transformed into its state-space representation -- consider that the state space representation contains . \n",
    "\n",
    "$$\\dot{x}(t) = f(t, x(t), u(t))$$\n",
    "$$y(t) = g(t, x(t), u(t))$$\n",
    "$$x(t_0) = x_0$$\n",
    "\n",
    "Where:\n",
    "- $x(t)$ is the state of the system.\n",
    "- $u(t)$ is the control input.\n",
    "- $y(t)$ is the output.\n",
    "- $x_0$ is the initial condition.\n",
    "\n",
    "In this course, we will study only Linear Time-Invariant (LTI) systems. These systems are linear and time-invariant, which means they satisfy the superposition principle and their properties do not change over time. There are many useful techniques that we can't use for nonlinear systems that work great for LTI systems.\n",
    "\n",
    "In the LTI case, the state-space model can be written as:\n",
    "\n",
    "$$\\dot{x}(t) = Ax(t) + Bu(t)$$\n",
    "$$y(t) = Cx(t) + Du(t)$$\n",
    "$$x(t_0) = x_0$$\n",
    "\n",
    "Where:\n",
    "- $A, B, C, D$ are matrices that define the system.\n",
    "\n",
    "Most Systems are not LTI, but many systems can be approximated very well by LTI models. On the [graph above](#1-linear-vs-nonlinear-systems), you can see that $\\Sigma(a u_1 + b u_2)$ and $a\\Sigma(u_1) + b\\Sigma(u_2)$ are very similar in some spots for the nonlinear systems, mainly the origin. We take advantage of that by **linearizing** nonlinear systems around these spots.\n",
    "\n",
    "These spots, where a linearization is valid and useful, are called equilibrium points. For the general nonlinear state-space model, as seen model above, the equilibrium point $(x_e, u_e)$ is defined with:\n",
    "\n",
    "$$f(x_e, u_e) = 0$$\n",
    "\n",
    "This means that if $x_e$ is specified we can calculate $u_e$, and vice-versa. It's possible for a system to have multiple equilibrium points."
   ]
  },
  {
   "cell_type": "markdown",
   "metadata": {},
   "source": [
    "## 4. Linearization of a Nonlinear System\n"
   ]
  },
  {
   "cell_type": "markdown",
   "metadata": {},
   "source": [
    "\n",
    "In general, a nonlinear system can be approximated by a linear model through a Taylor series expansion around its equilibrium point. The linearization process, in its most basic form, follows this structure:\n",
    "\n",
    "### Given:\n",
    "$$\n",
    "\\begin{cases}\n",
    "\\dot{x}(t) = f(x(t), u(t)) \\\\\n",
    "y(t) = g(x(t), u(t))\n",
    "\\end{cases}\n",
    "$$\n",
    "\n",
    "### Wanted:\n",
    "$$\n",
    "\\begin{cases}\n",
    "\\dot{x}(t) = A x(t) + B u(t) \\\\\n",
    "y(t) = C x(t) + D u(t)\n",
    "\\end{cases}\n",
    "$$\n",
    "\n",
    "### Equilibrium point: \n",
    "$$(x_e, u_e)$$\n",
    "\n",
    "### Linearization:\n",
    "\n",
    "$$\n",
    "A = \\begin{bmatrix}\n",
    "\\frac{\\partial f_1}{\\partial x_1} & \\cdots & \\frac{\\partial f_1}{\\partial x_n} \\\\\n",
    "\\vdots & \\ddots & \\vdots \\\\\n",
    "\\frac{\\partial f_n}{\\partial x_1} & \\cdots & \\frac{\\partial f_n}{\\partial x_n}\n",
    "\\end{bmatrix}_{x_e, u_e}\n",
    "$$\n",
    "\n",
    "$$\n",
    "B = \\begin{bmatrix}\n",
    "\\frac{\\partial f_1}{\\partial u_1} \\\\\n",
    "\\vdots \\\\\n",
    "\\frac{\\partial f_n}{\\partial u_1}\n",
    "\\end{bmatrix}_{x_e, u_e}\n",
    "$$\n",
    "\n",
    "$$\n",
    "C = \\begin{bmatrix}\n",
    "\\frac{\\partial g_1}{\\partial x_1} & \\cdots & \\frac{\\partial g_1}{\\partial x_n} \n",
    "\\end{bmatrix}_{x_e, u_e}\n",
    "$$\n",
    "\n",
    "$$\n",
    "D = \\begin{bmatrix}\n",
    "\\frac{\\partial g_1}{\\partial u_1}\n",
    "\\end{bmatrix}_{x_e, u_e}\n",
    "$$\n",
    "\n",
    "\n",
    "It is important to note that in the resulting linear system, $x(t)$, $u(t)$ and $y(t)$ are not the original modeling coordinates, but rather represent the deviations from the equilibrium point.\n",
    "\n",
    "### Example:\n",
    "\n",
    "We now explore the linearization of an example nonlinear system around an equilibrium point. This system is not a practical control example, but facilitates showing the effect of linearization visually. The system we analyze is the nonlinear function:\n",
    "\n",
    "$$\n",
    "f(x) = \\sin(x)\n",
    "$$\n",
    "\n",
    "We will take a more intuitive approach, but the general approach would of course also work. Later in this notebook you will see an example using the general approach.\n",
    "\n",
    "First we have to find an equilibrium point, in this case, we choose the equilibrium point $x = \\pi$, where $\\sin(\\pi) = 0$.\n",
    "\n",
    "The linear approximation of a simple nonlinear function is given by the tangent line at the equilibrium point. To find this, we calculate the derivative of $f(x)$. For $f(x) = \\sin(x)$, the derivative is:\n",
    "\n",
    "$$\n",
    "f'(x) = \\cos(x)\n",
    "$$\n",
    "\n",
    "At $x = \\pi$, the slope of the tangent line is:\n",
    "\n",
    "$$\n",
    "f'(\\pi) = \\cos(\\pi) = -1\n",
    "$$\n",
    "\n",
    "Thus, the linear approximation of the system near $x = \\pi$ is:\n",
    "\n",
    "$$\n",
    "y = -1 \\cdot (x - \\pi)\n",
    "$$\n",
    "\n",
    "### Visualization\n",
    "\n",
    "In the visualization, you can see the nonlinear function as well as the linearization at the point $x_0$​ (adjustable with the slider). When you zoom in, meaning you see the area close to the linearization point, there is almost no difference between both functions when $x_0 = \\pi$, as it's the equilibrium point. However, if you zoom out, you see that both functions begin to differ by a lot far from the equilibrium point.\n",
    "The time-domain plot shows how this difference affects the system's behavior over time. The blue line represents the nonlinear system, while the red dashed line shows the linearized system.\n",
    "This effect also exists for the linearization of control systems in general and must always be considered. The linearization of a system is only valid close to the equilibrium point around which the system was linearized."
   ]
  },
  {
   "cell_type": "code",
   "execution_count": 37,
   "metadata": {},
   "outputs": [
    {
     "data": {
      "application/vnd.jupyter.widget-view+json": {
       "model_id": "48eda38f925643a2afea2cdfbf9dfe28",
       "version_major": 2,
       "version_minor": 0
      },
      "text/plain": [
       "interactive(children=(FloatSlider(value=0.0, description='x0:', max=3.141592653589793, min=-3.141592653589793,…"
      ]
     },
     "metadata": {},
     "output_type": "display_data"
    }
   ],
   "source": [
    "# Nonlinear system\n",
    "def nonlinearized_system(X, t):\n",
    "    x, y = X\n",
    "    dx = y\n",
    "    dy = -np.sin(x)\n",
    "    return [dx, dy]\n",
    "\n",
    "# Linearized system\n",
    "def linearized_system(X, t, x0):\n",
    "    x, y = X\n",
    "    dx = y\n",
    "    dy = -np.cos(x0) * (x - x0)\n",
    "    return [dx, dy]\n",
    "\n",
    "# Solve and plot time domain\n",
    "def solve_and_plot_time(x0):\n",
    "    t = np.linspace(0, 10, 1000)\n",
    "    X0 = [0.1, 0]\n",
    "    \n",
    "    # Nonlinear solution\n",
    "    sol_nonlinear = odeint(nonlinearized_system, X0, t)\n",
    "    \n",
    "    # Linearized solution\n",
    "    sol_linear = odeint(linearized_system, X0, t, args=(x0,))\n",
    "    \n",
    "    plt.figure(figsize=(6, 3))\n",
    "    plt.plot(t, sol_nonlinear[:, 0], label='Nonlinear')\n",
    "    plt.plot(t, sol_linear[:, 0], label='Linearized')\n",
    "    plt.xlabel('Time')\n",
    "    plt.ylabel('x')\n",
    "    plt.title(f'System behavior (linearized at x0 = {x0:.2f})')\n",
    "    plt.legend()\n",
    "    plt.grid(True)\n",
    "    plt.show()\n",
    "\n",
    "# Define the nonlinear system f(x) = sin(x)\n",
    "def nonlinear_function(x):\n",
    "    return np.sin(x)\n",
    "\n",
    "# Calculate the linear approximation around the equilibrium point\n",
    "def linear_approximation(x, equilibrium_point):\n",
    "    slope = np.cos(equilibrium_point)\n",
    "    return slope * (x - equilibrium_point) + np.sin(equilibrium_point)\n",
    "\n",
    "# Plot the nonlinear system and its linearization\n",
    "def plot_system(zoom, x0):\n",
    "    # Generate x values based on zoom level\n",
    "    x_vals = np.linspace(x0 - zoom, x0 + zoom, 400)\n",
    "    \n",
    "    # Nonlinear system output\n",
    "    y_nonlinear = nonlinear_function(x_vals)\n",
    "    \n",
    "    # Linear approximation at equilibrium point x0\n",
    "    y_linear = linear_approximation(x_vals, x0)\n",
    "    \n",
    "    # Plot the results\n",
    "    plt.figure(figsize=(6, 3))\n",
    "    \n",
    "    # Plot the nonlinear system\n",
    "    plt.plot(x_vals, y_nonlinear, label=r'Nonlinear System: $f(x) = \\sin(x)$', color='blue')\n",
    "    \n",
    "    # Plot the linear approximation (tangent line)\n",
    "    plt.plot(x_vals, y_linear, label=f'Linearization at x={x0:.2f}', linestyle='--', color='red')\n",
    "    \n",
    "    # Highlight the equilibrium point\n",
    "    plt.scatter(x0, nonlinear_function(x0), color='black', zorder=5)\n",
    "    plt.text(x0 + 0.1, np.sin(x0), f'Linearization Point ({x0:.2f}, {np.sin(x0):.2f})', fontsize=12)\n",
    "    \n",
    "    # Set plot details\n",
    "    plt.title(f'Nonlinear System and Linearization around x = {x0:.2f}')\n",
    "    plt.xlabel('x')\n",
    "    plt.ylabel('y')\n",
    "    plt.legend()\n",
    "    plt.grid(True)\n",
    "    \n",
    "    # Adjust x and y limits to keep linearization point in the middle\n",
    "    plt.xlim(x0 - zoom, x0 + zoom)\n",
    "    y_center = nonlinear_function(x0)\n",
    "    plt.ylim(y_center - zoom, y_center + zoom)\n",
    "    \n",
    "    plt.show()\n",
    "\n",
    "# Combined interactive function\n",
    "def interactive_analysis(x0, zoom):\n",
    "    plot_system(zoom, x0)\n",
    "    solve_and_plot_time(x0)\n",
    "    \n",
    "\n",
    "# Create interactive widgets\n",
    "interactive_plot = interactive(\n",
    "    interactive_analysis, \n",
    "    x0=widgets.FloatSlider(min=-np.pi, max=np.pi, step=0.01, value=0, description='x0:'),\n",
    "    zoom=widgets.FloatSlider(min=0.1, max=4.0, step=0.1, value=2.0, description='Zoom:')\n",
    ")\n",
    "display(interactive_plot)"
   ]
  },
  {
   "cell_type": "markdown",
   "metadata": {},
   "source": [
    "We can clearly see that if the linearization is done around the equilibrium point, the linear approximation is very good in the vicinity of the equilibrium point. However, as we move further away from the equilibrium point, the linear approximation becomes less accurate and the linear model deviates greatly from the nonlinear one, even becoming unstable."
   ]
  },
  {
   "cell_type": "markdown",
   "metadata": {},
   "source": [
    "# 4. PS2 Exercise 5"
   ]
  },
  {
   "cell_type": "markdown",
   "metadata": {},
   "source": [
    "Consider a pendulum that is mounted to a wall and connected to a horizontal spring as shown in Figure \\ref{fig:eng_diag}.\n",
    "Let $l$ be the length of the pendulum, $J$ its moment of inertia, $m$ its mass, and let $\\lambda$ represent the damping constant of the pendulum acting at the pivot (damped rotation due to friction).\n",
    "\n",
    "Further, let $k$ represent the spring constant of the spring, and denote by $a$ the distance to the pivot of the point that connects the spring and the pendulum. Assume the spring to be relaxed at $\\varphi =0$.\n",
    "The system is actuated by an external force $F(t)$ which acts at a right angle to the pendulum.\n",
    "There is a sensor measuring the angle $\\varphi$ which we assume to be limited to $\\varphi(t)\\in\\left(-\\frac{\\pi}{2},\\frac{\\pi}{2}\\right)$.\n",
    "\n",
    "<div style=\"text-align:center;\">\n",
    "    <img src=\"./img/pendel.png\" alt=\"Block Diagram\" width=\"400\">\n",
    "</div>"
   ]
  },
  {
   "cell_type": "markdown",
   "metadata": {},
   "source": [
    "## System Dynamics\n"
   ]
  },
  {
   "cell_type": "markdown",
   "metadata": {},
   "source": [
    "\n",
    "The differential equation governing the dynamics of the above described system is assumed to be given by\n",
    "\n",
    "$$J  \\cdot\\ddot{\\varphi}(t) = -l \\cdot m \\cdot g  \\cdot \\sin \\varphi(t) - \\frac{a^2 \\cdot k}{2} \\cdot \\sin 2\\varphi(t) - \\lambda \\cdot \\dot{\\varphi}(t) + l\\cdot F(t).$$\n",
    "\n",
    "Further, let the system parameters be\n",
    "$$\n",
    "\\begin{array}{rcl}\n",
    "l &=& 1\\text{ m}\\\\[0.2em]\n",
    "m &=& 1\\text{ kg}\\\\[0.2em]\n",
    "g &=& 10\\text{ m/s}^2\\\\[0.2em]\n",
    "a &=& 0.5\\text{ m}\\\\[0.2em]\n",
    "k &=& 10\\text{ N/m}\\\\[0.2em]\n",
    "\\lambda &=& 3\\text{ Nms/rad}\\\\[0.2em]\n",
    "J &=& 1\\text{ Nms}^2\\text{/rad}\\\\[0.2em]\n",
    "\\end{array}\n",
    "$$\n",
    "The initial conditions at $t=0$ are assumed to be such that pendulum is at angle $\\varphi=0$ with angular velocity $\\dot \\varphi =0$."
   ]
  },
  {
   "cell_type": "markdown",
   "metadata": {},
   "source": [
    "## Nonlinear System Representation\n"
   ]
  },
  {
   "cell_type": "markdown",
   "metadata": {},
   "source": [
    "Choosing the state vector $x(t) = \\begin{bmatrix} x_1(t) \\\\ x_2(t) \\end{bmatrix} = \\begin{bmatrix} \\varphi(t) \\\\ \\dot \\varphi(t) \\end{bmatrix}$, the input vector $u(t) = F(t)$, and the output vector $y(t) = \\varphi(t)$, the system can be represented in state-space form as follows:\n",
    "\n",
    "$$\n",
    "\\begin{array}{rcl}\n",
    "\\dot{x}(t) &=& f(x(t),u(t))\\\\\n",
    "y(t) &=& g(x(t),u(t))\n",
    "\\end{array}\n",
    "$$\n",
    "\n",
    "For our specific case, this becomes:\n",
    "\n",
    "$$\n",
    "\\begin{array}{rcl}\n",
    "\\dot{x}(t) &=& \\begin{bmatrix} x_2(t) \\\\ \\frac{-l \\cdot m \\cdot g  \\cdot \\sin x_1(t) - \\frac{a^2 \\cdot k}{2} \\cdot \\sin 2x_1(t) - \\lambda \\cdot x_2(t) + l\\cdot u(t)}{J} \\end{bmatrix}\\\\\n",
    "y(t) &=& x_1(t)\n",
    "\\end{array}\n",
    "$$"
   ]
  },
  {
   "cell_type": "markdown",
   "metadata": {},
   "source": [
    "## Linearizing the System\n"
   ]
  },
  {
   "cell_type": "markdown",
   "metadata": {},
   "source": [
    "The system is nonlinear, but we can linearize it around an equilibrium point. In this case, we will linearize it around the equilibrium point $\\varphi = 0$, $\\dot \\varphi = 0$ and $F(t) = 0$.\n",
    "\n",
    "The linearized system is given by:\n",
    "\n",
    "$$\n",
    "\\begin{array}{rcl}\n",
    "\\dot{x}(t) &=& \\begin{bmatrix} 0 & 1 \\\\ -\\frac{l \\cdot m \\cdot g + a^2 \\cdot k}{J} & -\\frac{\\lambda}{J} \\end{bmatrix} x(t) + \\begin{bmatrix} 0 \\\\ \\frac{l}{J} \\end{bmatrix} u(t) \\\\[0.5em]\n",
    "y(t) &=& \\begin{bmatrix} 1 & 0 \\end{bmatrix} x(t)\n",
    "\\end{array}\n",
    "$$\n",
    "\n"
   ]
  },
  {
   "cell_type": "markdown",
   "metadata": {},
   "source": [
    "\n",
    "## Interactive Task\n"
   ]
  },
  {
   "cell_type": "markdown",
   "metadata": {},
   "source": [
    "\n",
    "We'll simulate a pendulum system with a control input $F(t)$ that jumps from $0 N$ to $0.1 N$ at $10$ seconds, then to $5 N$ at $15$ seconds. Our Python script will model this input and simulate the system's response over $20$ seconds, plotting the results to verify the behavior. We will also see how the linearized system behaves compared to the nonlinear one.\n",
    "\n",
    "You can also change how much $F_1$ is applied at $t_1$ and how much $F_2$ is applied at $t_2$ and the initial conditions to see how the system behaves.\n",
    "\n",
    "We can clearly see that the linearized system is a good approximation of the nonlinear system in soft inputs, but as the input becomes more aggressive, the linearized system deviates from the nonlinear one.\n"
   ]
  },
  {
   "cell_type": "code",
   "execution_count": 38,
   "metadata": {},
   "outputs": [
    {
     "data": {
      "application/vnd.jupyter.widget-view+json": {
       "model_id": "173f04f8c0234b7cbf6d49fa6f44a815",
       "version_major": 2,
       "version_minor": 0
      },
      "text/plain": [
       "interactive(children=(FloatSlider(value=0.1, description='F1:', max=1.0), FloatSlider(value=5.0, description='…"
      ]
     },
     "metadata": {},
     "output_type": "display_data"
    },
    {
     "name": "stdout",
     "output_type": "stream",
     "text": [
      "Error in callback <function _draw_all_if_interactive at 0x118de9300> (for post_execute), with arguments args (),kwargs {}:\n"
     ]
    },
    {
     "ename": "RuntimeError",
     "evalue": "latex was not able to process the following string:\nb'Pendulum Angle (\\\\u03c6)'\n\nHere is the full command invocation and its output:\n\nlatex -interaction=nonstopmode --halt-on-error --output-directory=tmpay0nt4xe 12815e8d73fcceece6fac34a21c2ccb2.tex\n\nThis is pdfTeX, Version 3.141592653-2.6-1.40.25 (TeX Live 2023/MacPorts 2023.66589_5) (preloaded format=latex)\n restricted \\write18 enabled.\nentering extended mode\n(./12815e8d73fcceece6fac34a21c2ccb2.tex\nLaTeX2e <2022-11-01> patch level 1\nL3 programming layer <2023-02-22>\n(/opt/local/share/texmf-texlive/tex/latex/base/article.cls\nDocument Class: article 2022/07/02 v1.4n Standard LaTeX document class\n(/opt/local/share/texmf-texlive/tex/latex/base/size10.clo))\n(/opt/local/share/texmf-texlive/tex/latex/type1cm/type1cm.sty)\n(/opt/local/share/texmf-texlive/tex/latex/cm-super/type1ec.sty\n(/opt/local/share/texmf-texlive/tex/latex/base/t1cmr.fd))\n(/opt/local/share/texmf-texlive/tex/latex/base/inputenc.sty)\n(/opt/local/share/texmf-texlive/tex/latex/geometry/geometry.sty\n(/opt/local/share/texmf-texlive/tex/latex/graphics/keyval.sty)\n(/opt/local/share/texmf-texlive/tex/generic/iftex/ifvtex.sty\n(/opt/local/share/texmf-texlive/tex/generic/iftex/iftex.sty)))\n(/opt/local/share/texmf-texlive/tex/latex/underscore/underscore.sty)\n(/opt/local/share/texmf-texlive/tex/latex/base/textcomp.sty)\n(/opt/local/share/texmf-texlive/tex/latex/l3backend/l3backend-dvips.def)\nNo file 12815e8d73fcceece6fac34a21c2ccb2.aux.\n*geometry* driver: auto-detecting\n*geometry* detected driver: dvips\n\n! LaTeX Error: Unicode character φ (U+03C6)\n               not set up for use with LaTeX.\n\nSee the LaTeX manual or LaTeX Companion for explanation.\nType  H <return>  for immediate help.\n ...                                              \n                                                  \nl.29 {\\sffamily Pendulum Angle (φ\n                                  )}%\nNo pages of output.\nTranscript written on tmpay0nt4xe/12815e8d73fcceece6fac34a21c2ccb2.log.\n\n\n",
     "output_type": "error",
     "traceback": [
      "\u001b[0;31m---------------------------------------------------------------------------\u001b[0m",
      "\u001b[0;31mRuntimeError\u001b[0m                              Traceback (most recent call last)",
      "File \u001b[0;32m~/GitHub/CS1-Notebooks/venv/lib/python3.12/site-packages/matplotlib/pyplot.py:268\u001b[0m, in \u001b[0;36m_draw_all_if_interactive\u001b[0;34m()\u001b[0m\n\u001b[1;32m    266\u001b[0m \u001b[38;5;28;01mdef\u001b[39;00m \u001b[38;5;21m_draw_all_if_interactive\u001b[39m() \u001b[38;5;241m-\u001b[39m\u001b[38;5;241m>\u001b[39m \u001b[38;5;28;01mNone\u001b[39;00m:\n\u001b[1;32m    267\u001b[0m     \u001b[38;5;28;01mif\u001b[39;00m matplotlib\u001b[38;5;241m.\u001b[39mis_interactive():\n\u001b[0;32m--> 268\u001b[0m         \u001b[43mdraw_all\u001b[49m\u001b[43m(\u001b[49m\u001b[43m)\u001b[49m\n",
      "File \u001b[0;32m~/GitHub/CS1-Notebooks/venv/lib/python3.12/site-packages/matplotlib/_pylab_helpers.py:131\u001b[0m, in \u001b[0;36mGcf.draw_all\u001b[0;34m(cls, force)\u001b[0m\n\u001b[1;32m    129\u001b[0m \u001b[38;5;28;01mfor\u001b[39;00m manager \u001b[38;5;129;01min\u001b[39;00m \u001b[38;5;28mcls\u001b[39m\u001b[38;5;241m.\u001b[39mget_all_fig_managers():\n\u001b[1;32m    130\u001b[0m     \u001b[38;5;28;01mif\u001b[39;00m force \u001b[38;5;129;01mor\u001b[39;00m manager\u001b[38;5;241m.\u001b[39mcanvas\u001b[38;5;241m.\u001b[39mfigure\u001b[38;5;241m.\u001b[39mstale:\n\u001b[0;32m--> 131\u001b[0m         \u001b[43mmanager\u001b[49m\u001b[38;5;241;43m.\u001b[39;49m\u001b[43mcanvas\u001b[49m\u001b[38;5;241;43m.\u001b[39;49m\u001b[43mdraw_idle\u001b[49m\u001b[43m(\u001b[49m\u001b[43m)\u001b[49m\n",
      "File \u001b[0;32m~/GitHub/CS1-Notebooks/venv/lib/python3.12/site-packages/matplotlib/backend_bases.py:1905\u001b[0m, in \u001b[0;36mFigureCanvasBase.draw_idle\u001b[0;34m(self, *args, **kwargs)\u001b[0m\n\u001b[1;32m   1903\u001b[0m \u001b[38;5;28;01mif\u001b[39;00m \u001b[38;5;129;01mnot\u001b[39;00m \u001b[38;5;28mself\u001b[39m\u001b[38;5;241m.\u001b[39m_is_idle_drawing:\n\u001b[1;32m   1904\u001b[0m     \u001b[38;5;28;01mwith\u001b[39;00m \u001b[38;5;28mself\u001b[39m\u001b[38;5;241m.\u001b[39m_idle_draw_cntx():\n\u001b[0;32m-> 1905\u001b[0m         \u001b[38;5;28;43mself\u001b[39;49m\u001b[38;5;241;43m.\u001b[39;49m\u001b[43mdraw\u001b[49m\u001b[43m(\u001b[49m\u001b[38;5;241;43m*\u001b[39;49m\u001b[43margs\u001b[49m\u001b[43m,\u001b[49m\u001b[43m \u001b[49m\u001b[38;5;241;43m*\u001b[39;49m\u001b[38;5;241;43m*\u001b[39;49m\u001b[43mkwargs\u001b[49m\u001b[43m)\u001b[49m\n",
      "File \u001b[0;32m~/GitHub/CS1-Notebooks/venv/lib/python3.12/site-packages/matplotlib/backends/backend_agg.py:387\u001b[0m, in \u001b[0;36mFigureCanvasAgg.draw\u001b[0;34m(self)\u001b[0m\n\u001b[1;32m    384\u001b[0m \u001b[38;5;66;03m# Acquire a lock on the shared font cache.\u001b[39;00m\n\u001b[1;32m    385\u001b[0m \u001b[38;5;28;01mwith\u001b[39;00m (\u001b[38;5;28mself\u001b[39m\u001b[38;5;241m.\u001b[39mtoolbar\u001b[38;5;241m.\u001b[39m_wait_cursor_for_draw_cm() \u001b[38;5;28;01mif\u001b[39;00m \u001b[38;5;28mself\u001b[39m\u001b[38;5;241m.\u001b[39mtoolbar\n\u001b[1;32m    386\u001b[0m       \u001b[38;5;28;01melse\u001b[39;00m nullcontext()):\n\u001b[0;32m--> 387\u001b[0m     \u001b[38;5;28;43mself\u001b[39;49m\u001b[38;5;241;43m.\u001b[39;49m\u001b[43mfigure\u001b[49m\u001b[38;5;241;43m.\u001b[39;49m\u001b[43mdraw\u001b[49m\u001b[43m(\u001b[49m\u001b[38;5;28;43mself\u001b[39;49m\u001b[38;5;241;43m.\u001b[39;49m\u001b[43mrenderer\u001b[49m\u001b[43m)\u001b[49m\n\u001b[1;32m    388\u001b[0m     \u001b[38;5;66;03m# A GUI class may be need to update a window using this draw, so\u001b[39;00m\n\u001b[1;32m    389\u001b[0m     \u001b[38;5;66;03m# don't forget to call the superclass.\u001b[39;00m\n\u001b[1;32m    390\u001b[0m     \u001b[38;5;28msuper\u001b[39m()\u001b[38;5;241m.\u001b[39mdraw()\n",
      "File \u001b[0;32m~/GitHub/CS1-Notebooks/venv/lib/python3.12/site-packages/matplotlib/artist.py:95\u001b[0m, in \u001b[0;36m_finalize_rasterization.<locals>.draw_wrapper\u001b[0;34m(artist, renderer, *args, **kwargs)\u001b[0m\n\u001b[1;32m     93\u001b[0m \u001b[38;5;129m@wraps\u001b[39m(draw)\n\u001b[1;32m     94\u001b[0m \u001b[38;5;28;01mdef\u001b[39;00m \u001b[38;5;21mdraw_wrapper\u001b[39m(artist, renderer, \u001b[38;5;241m*\u001b[39margs, \u001b[38;5;241m*\u001b[39m\u001b[38;5;241m*\u001b[39mkwargs):\n\u001b[0;32m---> 95\u001b[0m     result \u001b[38;5;241m=\u001b[39m \u001b[43mdraw\u001b[49m\u001b[43m(\u001b[49m\u001b[43martist\u001b[49m\u001b[43m,\u001b[49m\u001b[43m \u001b[49m\u001b[43mrenderer\u001b[49m\u001b[43m,\u001b[49m\u001b[43m \u001b[49m\u001b[38;5;241;43m*\u001b[39;49m\u001b[43margs\u001b[49m\u001b[43m,\u001b[49m\u001b[43m \u001b[49m\u001b[38;5;241;43m*\u001b[39;49m\u001b[38;5;241;43m*\u001b[39;49m\u001b[43mkwargs\u001b[49m\u001b[43m)\u001b[49m\n\u001b[1;32m     96\u001b[0m     \u001b[38;5;28;01mif\u001b[39;00m renderer\u001b[38;5;241m.\u001b[39m_rasterizing:\n\u001b[1;32m     97\u001b[0m         renderer\u001b[38;5;241m.\u001b[39mstop_rasterizing()\n",
      "File \u001b[0;32m~/GitHub/CS1-Notebooks/venv/lib/python3.12/site-packages/matplotlib/artist.py:72\u001b[0m, in \u001b[0;36mallow_rasterization.<locals>.draw_wrapper\u001b[0;34m(artist, renderer)\u001b[0m\n\u001b[1;32m     69\u001b[0m     \u001b[38;5;28;01mif\u001b[39;00m artist\u001b[38;5;241m.\u001b[39mget_agg_filter() \u001b[38;5;129;01mis\u001b[39;00m \u001b[38;5;129;01mnot\u001b[39;00m \u001b[38;5;28;01mNone\u001b[39;00m:\n\u001b[1;32m     70\u001b[0m         renderer\u001b[38;5;241m.\u001b[39mstart_filter()\n\u001b[0;32m---> 72\u001b[0m     \u001b[38;5;28;01mreturn\u001b[39;00m \u001b[43mdraw\u001b[49m\u001b[43m(\u001b[49m\u001b[43martist\u001b[49m\u001b[43m,\u001b[49m\u001b[43m \u001b[49m\u001b[43mrenderer\u001b[49m\u001b[43m)\u001b[49m\n\u001b[1;32m     73\u001b[0m \u001b[38;5;28;01mfinally\u001b[39;00m:\n\u001b[1;32m     74\u001b[0m     \u001b[38;5;28;01mif\u001b[39;00m artist\u001b[38;5;241m.\u001b[39mget_agg_filter() \u001b[38;5;129;01mis\u001b[39;00m \u001b[38;5;129;01mnot\u001b[39;00m \u001b[38;5;28;01mNone\u001b[39;00m:\n",
      "File \u001b[0;32m~/GitHub/CS1-Notebooks/venv/lib/python3.12/site-packages/matplotlib/figure.py:3162\u001b[0m, in \u001b[0;36mFigure.draw\u001b[0;34m(self, renderer)\u001b[0m\n\u001b[1;32m   3159\u001b[0m             \u001b[38;5;66;03m# ValueError can occur when resizing a window.\u001b[39;00m\n\u001b[1;32m   3161\u001b[0m     \u001b[38;5;28mself\u001b[39m\u001b[38;5;241m.\u001b[39mpatch\u001b[38;5;241m.\u001b[39mdraw(renderer)\n\u001b[0;32m-> 3162\u001b[0m     \u001b[43mmimage\u001b[49m\u001b[38;5;241;43m.\u001b[39;49m\u001b[43m_draw_list_compositing_images\u001b[49m\u001b[43m(\u001b[49m\n\u001b[1;32m   3163\u001b[0m \u001b[43m        \u001b[49m\u001b[43mrenderer\u001b[49m\u001b[43m,\u001b[49m\u001b[43m \u001b[49m\u001b[38;5;28;43mself\u001b[39;49m\u001b[43m,\u001b[49m\u001b[43m \u001b[49m\u001b[43martists\u001b[49m\u001b[43m,\u001b[49m\u001b[43m \u001b[49m\u001b[38;5;28;43mself\u001b[39;49m\u001b[38;5;241;43m.\u001b[39;49m\u001b[43msuppressComposite\u001b[49m\u001b[43m)\u001b[49m\n\u001b[1;32m   3165\u001b[0m     renderer\u001b[38;5;241m.\u001b[39mclose_group(\u001b[38;5;124m'\u001b[39m\u001b[38;5;124mfigure\u001b[39m\u001b[38;5;124m'\u001b[39m)\n\u001b[1;32m   3166\u001b[0m \u001b[38;5;28;01mfinally\u001b[39;00m:\n",
      "File \u001b[0;32m~/GitHub/CS1-Notebooks/venv/lib/python3.12/site-packages/matplotlib/image.py:132\u001b[0m, in \u001b[0;36m_draw_list_compositing_images\u001b[0;34m(renderer, parent, artists, suppress_composite)\u001b[0m\n\u001b[1;32m    130\u001b[0m \u001b[38;5;28;01mif\u001b[39;00m not_composite \u001b[38;5;129;01mor\u001b[39;00m \u001b[38;5;129;01mnot\u001b[39;00m has_images:\n\u001b[1;32m    131\u001b[0m     \u001b[38;5;28;01mfor\u001b[39;00m a \u001b[38;5;129;01min\u001b[39;00m artists:\n\u001b[0;32m--> 132\u001b[0m         \u001b[43ma\u001b[49m\u001b[38;5;241;43m.\u001b[39;49m\u001b[43mdraw\u001b[49m\u001b[43m(\u001b[49m\u001b[43mrenderer\u001b[49m\u001b[43m)\u001b[49m\n\u001b[1;32m    133\u001b[0m \u001b[38;5;28;01melse\u001b[39;00m:\n\u001b[1;32m    134\u001b[0m     \u001b[38;5;66;03m# Composite any adjacent images together\u001b[39;00m\n\u001b[1;32m    135\u001b[0m     image_group \u001b[38;5;241m=\u001b[39m []\n",
      "File \u001b[0;32m~/GitHub/CS1-Notebooks/venv/lib/python3.12/site-packages/matplotlib/artist.py:72\u001b[0m, in \u001b[0;36mallow_rasterization.<locals>.draw_wrapper\u001b[0;34m(artist, renderer)\u001b[0m\n\u001b[1;32m     69\u001b[0m     \u001b[38;5;28;01mif\u001b[39;00m artist\u001b[38;5;241m.\u001b[39mget_agg_filter() \u001b[38;5;129;01mis\u001b[39;00m \u001b[38;5;129;01mnot\u001b[39;00m \u001b[38;5;28;01mNone\u001b[39;00m:\n\u001b[1;32m     70\u001b[0m         renderer\u001b[38;5;241m.\u001b[39mstart_filter()\n\u001b[0;32m---> 72\u001b[0m     \u001b[38;5;28;01mreturn\u001b[39;00m \u001b[43mdraw\u001b[49m\u001b[43m(\u001b[49m\u001b[43martist\u001b[49m\u001b[43m,\u001b[49m\u001b[43m \u001b[49m\u001b[43mrenderer\u001b[49m\u001b[43m)\u001b[49m\n\u001b[1;32m     73\u001b[0m \u001b[38;5;28;01mfinally\u001b[39;00m:\n\u001b[1;32m     74\u001b[0m     \u001b[38;5;28;01mif\u001b[39;00m artist\u001b[38;5;241m.\u001b[39mget_agg_filter() \u001b[38;5;129;01mis\u001b[39;00m \u001b[38;5;129;01mnot\u001b[39;00m \u001b[38;5;28;01mNone\u001b[39;00m:\n",
      "File \u001b[0;32m~/GitHub/CS1-Notebooks/venv/lib/python3.12/site-packages/matplotlib/axes/_base.py:3101\u001b[0m, in \u001b[0;36m_AxesBase.draw\u001b[0;34m(self, renderer)\u001b[0m\n\u001b[1;32m   3098\u001b[0m     \u001b[38;5;28;01mfor\u001b[39;00m spine \u001b[38;5;129;01min\u001b[39;00m \u001b[38;5;28mself\u001b[39m\u001b[38;5;241m.\u001b[39mspines\u001b[38;5;241m.\u001b[39mvalues():\n\u001b[1;32m   3099\u001b[0m         artists\u001b[38;5;241m.\u001b[39mremove(spine)\n\u001b[0;32m-> 3101\u001b[0m \u001b[38;5;28;43mself\u001b[39;49m\u001b[38;5;241;43m.\u001b[39;49m\u001b[43m_update_title_position\u001b[49m\u001b[43m(\u001b[49m\u001b[43mrenderer\u001b[49m\u001b[43m)\u001b[49m\n\u001b[1;32m   3103\u001b[0m \u001b[38;5;28;01mif\u001b[39;00m \u001b[38;5;129;01mnot\u001b[39;00m \u001b[38;5;28mself\u001b[39m\u001b[38;5;241m.\u001b[39maxison:\n\u001b[1;32m   3104\u001b[0m     \u001b[38;5;28;01mfor\u001b[39;00m _axis \u001b[38;5;129;01min\u001b[39;00m \u001b[38;5;28mself\u001b[39m\u001b[38;5;241m.\u001b[39m_axis_map\u001b[38;5;241m.\u001b[39mvalues():\n",
      "File \u001b[0;32m~/GitHub/CS1-Notebooks/venv/lib/python3.12/site-packages/matplotlib/axes/_base.py:3055\u001b[0m, in \u001b[0;36m_AxesBase._update_title_position\u001b[0;34m(self, renderer)\u001b[0m\n\u001b[1;32m   3053\u001b[0m     _log\u001b[38;5;241m.\u001b[39mdebug(\u001b[38;5;124m'\u001b[39m\u001b[38;5;124mtop of Axes not in the figure, so title not moved\u001b[39m\u001b[38;5;124m'\u001b[39m)\n\u001b[1;32m   3054\u001b[0m     \u001b[38;5;28;01mreturn\u001b[39;00m\n\u001b[0;32m-> 3055\u001b[0m \u001b[38;5;28;01mif\u001b[39;00m \u001b[43mtitle\u001b[49m\u001b[38;5;241;43m.\u001b[39;49m\u001b[43mget_window_extent\u001b[49m\u001b[43m(\u001b[49m\u001b[43mrenderer\u001b[49m\u001b[43m)\u001b[49m\u001b[38;5;241m.\u001b[39mymin \u001b[38;5;241m<\u001b[39m top:\n\u001b[1;32m   3056\u001b[0m     _, y \u001b[38;5;241m=\u001b[39m \u001b[38;5;28mself\u001b[39m\u001b[38;5;241m.\u001b[39mtransAxes\u001b[38;5;241m.\u001b[39minverted()\u001b[38;5;241m.\u001b[39mtransform((\u001b[38;5;241m0\u001b[39m, top))\n\u001b[1;32m   3057\u001b[0m     title\u001b[38;5;241m.\u001b[39mset_position((x, y))\n",
      "File \u001b[0;32m~/GitHub/CS1-Notebooks/venv/lib/python3.12/site-packages/matplotlib/text.py:959\u001b[0m, in \u001b[0;36mText.get_window_extent\u001b[0;34m(self, renderer, dpi)\u001b[0m\n\u001b[1;32m    954\u001b[0m     \u001b[38;5;28;01mraise\u001b[39;00m \u001b[38;5;167;01mRuntimeError\u001b[39;00m(\n\u001b[1;32m    955\u001b[0m         \u001b[38;5;124m\"\u001b[39m\u001b[38;5;124mCannot get window extent of text w/o renderer. You likely \u001b[39m\u001b[38;5;124m\"\u001b[39m\n\u001b[1;32m    956\u001b[0m         \u001b[38;5;124m\"\u001b[39m\u001b[38;5;124mwant to call \u001b[39m\u001b[38;5;124m'\u001b[39m\u001b[38;5;124mfigure.draw_without_rendering()\u001b[39m\u001b[38;5;124m'\u001b[39m\u001b[38;5;124m first.\u001b[39m\u001b[38;5;124m\"\u001b[39m)\n\u001b[1;32m    958\u001b[0m \u001b[38;5;28;01mwith\u001b[39;00m cbook\u001b[38;5;241m.\u001b[39m_setattr_cm(\u001b[38;5;28mself\u001b[39m\u001b[38;5;241m.\u001b[39mfigure, dpi\u001b[38;5;241m=\u001b[39mdpi):\n\u001b[0;32m--> 959\u001b[0m     bbox, info, descent \u001b[38;5;241m=\u001b[39m \u001b[38;5;28;43mself\u001b[39;49m\u001b[38;5;241;43m.\u001b[39;49m\u001b[43m_get_layout\u001b[49m\u001b[43m(\u001b[49m\u001b[38;5;28;43mself\u001b[39;49m\u001b[38;5;241;43m.\u001b[39;49m\u001b[43m_renderer\u001b[49m\u001b[43m)\u001b[49m\n\u001b[1;32m    960\u001b[0m     x, y \u001b[38;5;241m=\u001b[39m \u001b[38;5;28mself\u001b[39m\u001b[38;5;241m.\u001b[39mget_unitless_position()\n\u001b[1;32m    961\u001b[0m     x, y \u001b[38;5;241m=\u001b[39m \u001b[38;5;28mself\u001b[39m\u001b[38;5;241m.\u001b[39mget_transform()\u001b[38;5;241m.\u001b[39mtransform((x, y))\n",
      "File \u001b[0;32m~/GitHub/CS1-Notebooks/venv/lib/python3.12/site-packages/matplotlib/text.py:381\u001b[0m, in \u001b[0;36mText._get_layout\u001b[0;34m(self, renderer)\u001b[0m\n\u001b[1;32m    379\u001b[0m clean_line, ismath \u001b[38;5;241m=\u001b[39m \u001b[38;5;28mself\u001b[39m\u001b[38;5;241m.\u001b[39m_preprocess_math(line)\n\u001b[1;32m    380\u001b[0m \u001b[38;5;28;01mif\u001b[39;00m clean_line:\n\u001b[0;32m--> 381\u001b[0m     w, h, d \u001b[38;5;241m=\u001b[39m \u001b[43m_get_text_metrics_with_cache\u001b[49m\u001b[43m(\u001b[49m\n\u001b[1;32m    382\u001b[0m \u001b[43m        \u001b[49m\u001b[43mrenderer\u001b[49m\u001b[43m,\u001b[49m\u001b[43m \u001b[49m\u001b[43mclean_line\u001b[49m\u001b[43m,\u001b[49m\u001b[43m \u001b[49m\u001b[38;5;28;43mself\u001b[39;49m\u001b[38;5;241;43m.\u001b[39;49m\u001b[43m_fontproperties\u001b[49m\u001b[43m,\u001b[49m\n\u001b[1;32m    383\u001b[0m \u001b[43m        \u001b[49m\u001b[43mismath\u001b[49m\u001b[38;5;241;43m=\u001b[39;49m\u001b[43mismath\u001b[49m\u001b[43m,\u001b[49m\u001b[43m \u001b[49m\u001b[43mdpi\u001b[49m\u001b[38;5;241;43m=\u001b[39;49m\u001b[38;5;28;43mself\u001b[39;49m\u001b[38;5;241;43m.\u001b[39;49m\u001b[43mfigure\u001b[49m\u001b[38;5;241;43m.\u001b[39;49m\u001b[43mdpi\u001b[49m\u001b[43m)\u001b[49m\n\u001b[1;32m    384\u001b[0m \u001b[38;5;28;01melse\u001b[39;00m:\n\u001b[1;32m    385\u001b[0m     w \u001b[38;5;241m=\u001b[39m h \u001b[38;5;241m=\u001b[39m d \u001b[38;5;241m=\u001b[39m \u001b[38;5;241m0\u001b[39m\n",
      "File \u001b[0;32m~/GitHub/CS1-Notebooks/venv/lib/python3.12/site-packages/matplotlib/text.py:69\u001b[0m, in \u001b[0;36m_get_text_metrics_with_cache\u001b[0;34m(renderer, text, fontprop, ismath, dpi)\u001b[0m\n\u001b[1;32m     66\u001b[0m \u001b[38;5;250m\u001b[39m\u001b[38;5;124;03m\"\"\"Call ``renderer.get_text_width_height_descent``, caching the results.\"\"\"\u001b[39;00m\n\u001b[1;32m     67\u001b[0m \u001b[38;5;66;03m# Cached based on a copy of fontprop so that later in-place mutations of\u001b[39;00m\n\u001b[1;32m     68\u001b[0m \u001b[38;5;66;03m# the passed-in argument do not mess up the cache.\u001b[39;00m\n\u001b[0;32m---> 69\u001b[0m \u001b[38;5;28;01mreturn\u001b[39;00m \u001b[43m_get_text_metrics_with_cache_impl\u001b[49m\u001b[43m(\u001b[49m\n\u001b[1;32m     70\u001b[0m \u001b[43m    \u001b[49m\u001b[43mweakref\u001b[49m\u001b[38;5;241;43m.\u001b[39;49m\u001b[43mref\u001b[49m\u001b[43m(\u001b[49m\u001b[43mrenderer\u001b[49m\u001b[43m)\u001b[49m\u001b[43m,\u001b[49m\u001b[43m \u001b[49m\u001b[43mtext\u001b[49m\u001b[43m,\u001b[49m\u001b[43m \u001b[49m\u001b[43mfontprop\u001b[49m\u001b[38;5;241;43m.\u001b[39;49m\u001b[43mcopy\u001b[49m\u001b[43m(\u001b[49m\u001b[43m)\u001b[49m\u001b[43m,\u001b[49m\u001b[43m \u001b[49m\u001b[43mismath\u001b[49m\u001b[43m,\u001b[49m\u001b[43m \u001b[49m\u001b[43mdpi\u001b[49m\u001b[43m)\u001b[49m\n",
      "File \u001b[0;32m~/GitHub/CS1-Notebooks/venv/lib/python3.12/site-packages/matplotlib/text.py:77\u001b[0m, in \u001b[0;36m_get_text_metrics_with_cache_impl\u001b[0;34m(renderer_ref, text, fontprop, ismath, dpi)\u001b[0m\n\u001b[1;32m     73\u001b[0m \u001b[38;5;129m@functools\u001b[39m\u001b[38;5;241m.\u001b[39mlru_cache(\u001b[38;5;241m4096\u001b[39m)\n\u001b[1;32m     74\u001b[0m \u001b[38;5;28;01mdef\u001b[39;00m \u001b[38;5;21m_get_text_metrics_with_cache_impl\u001b[39m(\n\u001b[1;32m     75\u001b[0m         renderer_ref, text, fontprop, ismath, dpi):\n\u001b[1;32m     76\u001b[0m     \u001b[38;5;66;03m# dpi is unused, but participates in cache invalidation (via the renderer).\u001b[39;00m\n\u001b[0;32m---> 77\u001b[0m     \u001b[38;5;28;01mreturn\u001b[39;00m \u001b[43mrenderer_ref\u001b[49m\u001b[43m(\u001b[49m\u001b[43m)\u001b[49m\u001b[38;5;241;43m.\u001b[39;49m\u001b[43mget_text_width_height_descent\u001b[49m\u001b[43m(\u001b[49m\u001b[43mtext\u001b[49m\u001b[43m,\u001b[49m\u001b[43m \u001b[49m\u001b[43mfontprop\u001b[49m\u001b[43m,\u001b[49m\u001b[43m \u001b[49m\u001b[43mismath\u001b[49m\u001b[43m)\u001b[49m\n",
      "File \u001b[0;32m~/GitHub/CS1-Notebooks/venv/lib/python3.12/site-packages/matplotlib/backends/backend_agg.py:212\u001b[0m, in \u001b[0;36mRendererAgg.get_text_width_height_descent\u001b[0;34m(self, s, prop, ismath)\u001b[0m\n\u001b[1;32m    210\u001b[0m _api\u001b[38;5;241m.\u001b[39mcheck_in_list([\u001b[38;5;124m\"\u001b[39m\u001b[38;5;124mTeX\u001b[39m\u001b[38;5;124m\"\u001b[39m, \u001b[38;5;28;01mTrue\u001b[39;00m, \u001b[38;5;28;01mFalse\u001b[39;00m], ismath\u001b[38;5;241m=\u001b[39mismath)\n\u001b[1;32m    211\u001b[0m \u001b[38;5;28;01mif\u001b[39;00m ismath \u001b[38;5;241m==\u001b[39m \u001b[38;5;124m\"\u001b[39m\u001b[38;5;124mTeX\u001b[39m\u001b[38;5;124m\"\u001b[39m:\n\u001b[0;32m--> 212\u001b[0m     \u001b[38;5;28;01mreturn\u001b[39;00m \u001b[38;5;28;43msuper\u001b[39;49m\u001b[43m(\u001b[49m\u001b[43m)\u001b[49m\u001b[38;5;241;43m.\u001b[39;49m\u001b[43mget_text_width_height_descent\u001b[49m\u001b[43m(\u001b[49m\u001b[43ms\u001b[49m\u001b[43m,\u001b[49m\u001b[43m \u001b[49m\u001b[43mprop\u001b[49m\u001b[43m,\u001b[49m\u001b[43m \u001b[49m\u001b[43mismath\u001b[49m\u001b[43m)\u001b[49m\n\u001b[1;32m    214\u001b[0m \u001b[38;5;28;01mif\u001b[39;00m ismath:\n\u001b[1;32m    215\u001b[0m     ox, oy, width, height, descent, font_image \u001b[38;5;241m=\u001b[39m \\\n\u001b[1;32m    216\u001b[0m         \u001b[38;5;28mself\u001b[39m\u001b[38;5;241m.\u001b[39mmathtext_parser\u001b[38;5;241m.\u001b[39mparse(s, \u001b[38;5;28mself\u001b[39m\u001b[38;5;241m.\u001b[39mdpi, prop)\n",
      "File \u001b[0;32m~/GitHub/CS1-Notebooks/venv/lib/python3.12/site-packages/matplotlib/backend_bases.py:597\u001b[0m, in \u001b[0;36mRendererBase.get_text_width_height_descent\u001b[0;34m(self, s, prop, ismath)\u001b[0m\n\u001b[1;32m    593\u001b[0m fontsize \u001b[38;5;241m=\u001b[39m prop\u001b[38;5;241m.\u001b[39mget_size_in_points()\n\u001b[1;32m    595\u001b[0m \u001b[38;5;28;01mif\u001b[39;00m ismath \u001b[38;5;241m==\u001b[39m \u001b[38;5;124m'\u001b[39m\u001b[38;5;124mTeX\u001b[39m\u001b[38;5;124m'\u001b[39m:\n\u001b[1;32m    596\u001b[0m     \u001b[38;5;66;03m# todo: handle properties\u001b[39;00m\n\u001b[0;32m--> 597\u001b[0m     \u001b[38;5;28;01mreturn\u001b[39;00m \u001b[38;5;28;43mself\u001b[39;49m\u001b[38;5;241;43m.\u001b[39;49m\u001b[43mget_texmanager\u001b[49m\u001b[43m(\u001b[49m\u001b[43m)\u001b[49m\u001b[38;5;241;43m.\u001b[39;49m\u001b[43mget_text_width_height_descent\u001b[49m\u001b[43m(\u001b[49m\n\u001b[1;32m    598\u001b[0m \u001b[43m        \u001b[49m\u001b[43ms\u001b[49m\u001b[43m,\u001b[49m\u001b[43m \u001b[49m\u001b[43mfontsize\u001b[49m\u001b[43m,\u001b[49m\u001b[43m \u001b[49m\u001b[43mrenderer\u001b[49m\u001b[38;5;241;43m=\u001b[39;49m\u001b[38;5;28;43mself\u001b[39;49m\u001b[43m)\u001b[49m\n\u001b[1;32m    600\u001b[0m dpi \u001b[38;5;241m=\u001b[39m \u001b[38;5;28mself\u001b[39m\u001b[38;5;241m.\u001b[39mpoints_to_pixels(\u001b[38;5;241m72\u001b[39m)\n\u001b[1;32m    601\u001b[0m \u001b[38;5;28;01mif\u001b[39;00m ismath:\n",
      "File \u001b[0;32m~/GitHub/CS1-Notebooks/venv/lib/python3.12/site-packages/matplotlib/texmanager.py:363\u001b[0m, in \u001b[0;36mTexManager.get_text_width_height_descent\u001b[0;34m(cls, tex, fontsize, renderer)\u001b[0m\n\u001b[1;32m    361\u001b[0m \u001b[38;5;28;01mif\u001b[39;00m tex\u001b[38;5;241m.\u001b[39mstrip() \u001b[38;5;241m==\u001b[39m \u001b[38;5;124m'\u001b[39m\u001b[38;5;124m'\u001b[39m:\n\u001b[1;32m    362\u001b[0m     \u001b[38;5;28;01mreturn\u001b[39;00m \u001b[38;5;241m0\u001b[39m, \u001b[38;5;241m0\u001b[39m, \u001b[38;5;241m0\u001b[39m\n\u001b[0;32m--> 363\u001b[0m dvifile \u001b[38;5;241m=\u001b[39m \u001b[38;5;28;43mcls\u001b[39;49m\u001b[38;5;241;43m.\u001b[39;49m\u001b[43mmake_dvi\u001b[49m\u001b[43m(\u001b[49m\u001b[43mtex\u001b[49m\u001b[43m,\u001b[49m\u001b[43m \u001b[49m\u001b[43mfontsize\u001b[49m\u001b[43m)\u001b[49m\n\u001b[1;32m    364\u001b[0m dpi_fraction \u001b[38;5;241m=\u001b[39m renderer\u001b[38;5;241m.\u001b[39mpoints_to_pixels(\u001b[38;5;241m1.\u001b[39m) \u001b[38;5;28;01mif\u001b[39;00m renderer \u001b[38;5;28;01melse\u001b[39;00m \u001b[38;5;241m1\u001b[39m\n\u001b[1;32m    365\u001b[0m \u001b[38;5;28;01mwith\u001b[39;00m dviread\u001b[38;5;241m.\u001b[39mDvi(dvifile, \u001b[38;5;241m72\u001b[39m \u001b[38;5;241m*\u001b[39m dpi_fraction) \u001b[38;5;28;01mas\u001b[39;00m dvi:\n",
      "File \u001b[0;32m~/GitHub/CS1-Notebooks/venv/lib/python3.12/site-packages/matplotlib/texmanager.py:295\u001b[0m, in \u001b[0;36mTexManager.make_dvi\u001b[0;34m(cls, tex, fontsize)\u001b[0m\n\u001b[1;32m    293\u001b[0m     \u001b[38;5;28;01mwith\u001b[39;00m TemporaryDirectory(\u001b[38;5;28mdir\u001b[39m\u001b[38;5;241m=\u001b[39mcwd) \u001b[38;5;28;01mas\u001b[39;00m tmpdir:\n\u001b[1;32m    294\u001b[0m         tmppath \u001b[38;5;241m=\u001b[39m Path(tmpdir)\n\u001b[0;32m--> 295\u001b[0m         \u001b[38;5;28;43mcls\u001b[39;49m\u001b[38;5;241;43m.\u001b[39;49m\u001b[43m_run_checked_subprocess\u001b[49m\u001b[43m(\u001b[49m\n\u001b[1;32m    296\u001b[0m \u001b[43m            \u001b[49m\u001b[43m[\u001b[49m\u001b[38;5;124;43m\"\u001b[39;49m\u001b[38;5;124;43mlatex\u001b[39;49m\u001b[38;5;124;43m\"\u001b[39;49m\u001b[43m,\u001b[49m\u001b[43m \u001b[49m\u001b[38;5;124;43m\"\u001b[39;49m\u001b[38;5;124;43m-interaction=nonstopmode\u001b[39;49m\u001b[38;5;124;43m\"\u001b[39;49m\u001b[43m,\u001b[49m\u001b[43m \u001b[49m\u001b[38;5;124;43m\"\u001b[39;49m\u001b[38;5;124;43m--halt-on-error\u001b[39;49m\u001b[38;5;124;43m\"\u001b[39;49m\u001b[43m,\u001b[49m\n\u001b[1;32m    297\u001b[0m \u001b[43m             \u001b[49m\u001b[38;5;124;43mf\u001b[39;49m\u001b[38;5;124;43m\"\u001b[39;49m\u001b[38;5;124;43m--output-directory=\u001b[39;49m\u001b[38;5;132;43;01m{\u001b[39;49;00m\u001b[43mtmppath\u001b[49m\u001b[38;5;241;43m.\u001b[39;49m\u001b[43mname\u001b[49m\u001b[38;5;132;43;01m}\u001b[39;49;00m\u001b[38;5;124;43m\"\u001b[39;49m\u001b[43m,\u001b[49m\n\u001b[1;32m    298\u001b[0m \u001b[43m             \u001b[49m\u001b[38;5;124;43mf\u001b[39;49m\u001b[38;5;124;43m\"\u001b[39;49m\u001b[38;5;132;43;01m{\u001b[39;49;00m\u001b[43mtexfile\u001b[49m\u001b[38;5;241;43m.\u001b[39;49m\u001b[43mname\u001b[49m\u001b[38;5;132;43;01m}\u001b[39;49;00m\u001b[38;5;124;43m\"\u001b[39;49m\u001b[43m]\u001b[49m\u001b[43m,\u001b[49m\u001b[43m \u001b[49m\u001b[43mtex\u001b[49m\u001b[43m,\u001b[49m\u001b[43m \u001b[49m\u001b[43mcwd\u001b[49m\u001b[38;5;241;43m=\u001b[39;49m\u001b[43mcwd\u001b[49m\u001b[43m)\u001b[49m\n\u001b[1;32m    299\u001b[0m         (tmppath \u001b[38;5;241m/\u001b[39m Path(dvifile)\u001b[38;5;241m.\u001b[39mname)\u001b[38;5;241m.\u001b[39mreplace(dvifile)\n\u001b[1;32m    300\u001b[0m \u001b[38;5;28;01mreturn\u001b[39;00m dvifile\n",
      "File \u001b[0;32m~/GitHub/CS1-Notebooks/venv/lib/python3.12/site-packages/matplotlib/texmanager.py:258\u001b[0m, in \u001b[0;36mTexManager._run_checked_subprocess\u001b[0;34m(cls, command, tex, cwd)\u001b[0m\n\u001b[1;32m    254\u001b[0m     \u001b[38;5;28;01mraise\u001b[39;00m \u001b[38;5;167;01mRuntimeError\u001b[39;00m(\n\u001b[1;32m    255\u001b[0m         \u001b[38;5;124mf\u001b[39m\u001b[38;5;124m'\u001b[39m\u001b[38;5;124mFailed to process string with tex because \u001b[39m\u001b[38;5;132;01m{\u001b[39;00mcommand[\u001b[38;5;241m0\u001b[39m]\u001b[38;5;132;01m}\u001b[39;00m\u001b[38;5;124m \u001b[39m\u001b[38;5;124m'\u001b[39m\n\u001b[1;32m    256\u001b[0m         \u001b[38;5;124m'\u001b[39m\u001b[38;5;124mcould not be found\u001b[39m\u001b[38;5;124m'\u001b[39m) \u001b[38;5;28;01mfrom\u001b[39;00m \u001b[38;5;21;01mexc\u001b[39;00m\n\u001b[1;32m    257\u001b[0m \u001b[38;5;28;01mexcept\u001b[39;00m subprocess\u001b[38;5;241m.\u001b[39mCalledProcessError \u001b[38;5;28;01mas\u001b[39;00m exc:\n\u001b[0;32m--> 258\u001b[0m     \u001b[38;5;28;01mraise\u001b[39;00m \u001b[38;5;167;01mRuntimeError\u001b[39;00m(\n\u001b[1;32m    259\u001b[0m         \u001b[38;5;124m'\u001b[39m\u001b[38;5;132;01m{prog}\u001b[39;00m\u001b[38;5;124m was not able to process the following string:\u001b[39m\u001b[38;5;130;01m\\n\u001b[39;00m\u001b[38;5;124m'\u001b[39m\n\u001b[1;32m    260\u001b[0m         \u001b[38;5;124m'\u001b[39m\u001b[38;5;132;01m{tex!r}\u001b[39;00m\u001b[38;5;130;01m\\n\u001b[39;00m\u001b[38;5;130;01m\\n\u001b[39;00m\u001b[38;5;124m'\u001b[39m\n\u001b[1;32m    261\u001b[0m         \u001b[38;5;124m'\u001b[39m\u001b[38;5;124mHere is the full command invocation and its output:\u001b[39m\u001b[38;5;130;01m\\n\u001b[39;00m\u001b[38;5;130;01m\\n\u001b[39;00m\u001b[38;5;124m'\u001b[39m\n\u001b[1;32m    262\u001b[0m         \u001b[38;5;124m'\u001b[39m\u001b[38;5;132;01m{format_command}\u001b[39;00m\u001b[38;5;130;01m\\n\u001b[39;00m\u001b[38;5;130;01m\\n\u001b[39;00m\u001b[38;5;124m'\u001b[39m\n\u001b[1;32m    263\u001b[0m         \u001b[38;5;124m'\u001b[39m\u001b[38;5;132;01m{exc}\u001b[39;00m\u001b[38;5;130;01m\\n\u001b[39;00m\u001b[38;5;130;01m\\n\u001b[39;00m\u001b[38;5;124m'\u001b[39m\u001b[38;5;241m.\u001b[39mformat(\n\u001b[1;32m    264\u001b[0m             prog\u001b[38;5;241m=\u001b[39mcommand[\u001b[38;5;241m0\u001b[39m],\n\u001b[1;32m    265\u001b[0m             format_command\u001b[38;5;241m=\u001b[39mcbook\u001b[38;5;241m.\u001b[39m_pformat_subprocess(command),\n\u001b[1;32m    266\u001b[0m             tex\u001b[38;5;241m=\u001b[39mtex\u001b[38;5;241m.\u001b[39mencode(\u001b[38;5;124m'\u001b[39m\u001b[38;5;124municode_escape\u001b[39m\u001b[38;5;124m'\u001b[39m),\n\u001b[1;32m    267\u001b[0m             exc\u001b[38;5;241m=\u001b[39mexc\u001b[38;5;241m.\u001b[39moutput\u001b[38;5;241m.\u001b[39mdecode(\u001b[38;5;124m'\u001b[39m\u001b[38;5;124mutf-8\u001b[39m\u001b[38;5;124m'\u001b[39m, \u001b[38;5;124m'\u001b[39m\u001b[38;5;124mbackslashreplace\u001b[39m\u001b[38;5;124m'\u001b[39m))\n\u001b[1;32m    268\u001b[0m         ) \u001b[38;5;28;01mfrom\u001b[39;00m \u001b[38;5;28;01mNone\u001b[39;00m\n\u001b[1;32m    269\u001b[0m _log\u001b[38;5;241m.\u001b[39mdebug(report)\n\u001b[1;32m    270\u001b[0m \u001b[38;5;28;01mreturn\u001b[39;00m report\n",
      "\u001b[0;31mRuntimeError\u001b[0m: latex was not able to process the following string:\nb'Pendulum Angle (\\\\u03c6)'\n\nHere is the full command invocation and its output:\n\nlatex -interaction=nonstopmode --halt-on-error --output-directory=tmpay0nt4xe 12815e8d73fcceece6fac34a21c2ccb2.tex\n\nThis is pdfTeX, Version 3.141592653-2.6-1.40.25 (TeX Live 2023/MacPorts 2023.66589_5) (preloaded format=latex)\n restricted \\write18 enabled.\nentering extended mode\n(./12815e8d73fcceece6fac34a21c2ccb2.tex\nLaTeX2e <2022-11-01> patch level 1\nL3 programming layer <2023-02-22>\n(/opt/local/share/texmf-texlive/tex/latex/base/article.cls\nDocument Class: article 2022/07/02 v1.4n Standard LaTeX document class\n(/opt/local/share/texmf-texlive/tex/latex/base/size10.clo))\n(/opt/local/share/texmf-texlive/tex/latex/type1cm/type1cm.sty)\n(/opt/local/share/texmf-texlive/tex/latex/cm-super/type1ec.sty\n(/opt/local/share/texmf-texlive/tex/latex/base/t1cmr.fd))\n(/opt/local/share/texmf-texlive/tex/latex/base/inputenc.sty)\n(/opt/local/share/texmf-texlive/tex/latex/geometry/geometry.sty\n(/opt/local/share/texmf-texlive/tex/latex/graphics/keyval.sty)\n(/opt/local/share/texmf-texlive/tex/generic/iftex/ifvtex.sty\n(/opt/local/share/texmf-texlive/tex/generic/iftex/iftex.sty)))\n(/opt/local/share/texmf-texlive/tex/latex/underscore/underscore.sty)\n(/opt/local/share/texmf-texlive/tex/latex/base/textcomp.sty)\n(/opt/local/share/texmf-texlive/tex/latex/l3backend/l3backend-dvips.def)\nNo file 12815e8d73fcceece6fac34a21c2ccb2.aux.\n*geometry* driver: auto-detecting\n*geometry* detected driver: dvips\n\n! LaTeX Error: Unicode character φ (U+03C6)\n               not set up for use with LaTeX.\n\nSee the LaTeX manual or LaTeX Companion for explanation.\nType  H <return>  for immediate help.\n ...                                              \n                                                  \nl.29 {\\sffamily Pendulum Angle (φ\n                                  )}%\nNo pages of output.\nTranscript written on tmpay0nt4xe/12815e8d73fcceece6fac34a21c2ccb2.log.\n\n\n"
     ]
    },
    {
     "ename": "RuntimeError",
     "evalue": "latex was not able to process the following string:\nb'Pendulum Angle (\\\\u03c6)'\n\nHere is the full command invocation and its output:\n\nlatex -interaction=nonstopmode --halt-on-error --output-directory=tmpczw7tui0 12815e8d73fcceece6fac34a21c2ccb2.tex\n\nThis is pdfTeX, Version 3.141592653-2.6-1.40.25 (TeX Live 2023/MacPorts 2023.66589_5) (preloaded format=latex)\n restricted \\write18 enabled.\nentering extended mode\n(./12815e8d73fcceece6fac34a21c2ccb2.tex\nLaTeX2e <2022-11-01> patch level 1\nL3 programming layer <2023-02-22>\n(/opt/local/share/texmf-texlive/tex/latex/base/article.cls\nDocument Class: article 2022/07/02 v1.4n Standard LaTeX document class\n(/opt/local/share/texmf-texlive/tex/latex/base/size10.clo))\n(/opt/local/share/texmf-texlive/tex/latex/type1cm/type1cm.sty)\n(/opt/local/share/texmf-texlive/tex/latex/cm-super/type1ec.sty\n(/opt/local/share/texmf-texlive/tex/latex/base/t1cmr.fd))\n(/opt/local/share/texmf-texlive/tex/latex/base/inputenc.sty)\n(/opt/local/share/texmf-texlive/tex/latex/geometry/geometry.sty\n(/opt/local/share/texmf-texlive/tex/latex/graphics/keyval.sty)\n(/opt/local/share/texmf-texlive/tex/generic/iftex/ifvtex.sty\n(/opt/local/share/texmf-texlive/tex/generic/iftex/iftex.sty)))\n(/opt/local/share/texmf-texlive/tex/latex/underscore/underscore.sty)\n(/opt/local/share/texmf-texlive/tex/latex/base/textcomp.sty)\n(/opt/local/share/texmf-texlive/tex/latex/l3backend/l3backend-dvips.def)\nNo file 12815e8d73fcceece6fac34a21c2ccb2.aux.\n*geometry* driver: auto-detecting\n*geometry* detected driver: dvips\n\n! LaTeX Error: Unicode character φ (U+03C6)\n               not set up for use with LaTeX.\n\nSee the LaTeX manual or LaTeX Companion for explanation.\nType  H <return>  for immediate help.\n ...                                              \n                                                  \nl.29 {\\sffamily Pendulum Angle (φ\n                                  )}%\nNo pages of output.\nTranscript written on tmpczw7tui0/12815e8d73fcceece6fac34a21c2ccb2.log.\n\n\n",
     "output_type": "error",
     "traceback": [
      "\u001b[0;31m---------------------------------------------------------------------------\u001b[0m",
      "\u001b[0;31mRuntimeError\u001b[0m                              Traceback (most recent call last)",
      "File \u001b[0;32m~/GitHub/CS1-Notebooks/venv/lib/python3.12/site-packages/IPython/core/formatters.py:343\u001b[0m, in \u001b[0;36mBaseFormatter.__call__\u001b[0;34m(self, obj)\u001b[0m\n\u001b[1;32m    341\u001b[0m     \u001b[38;5;28;01mpass\u001b[39;00m\n\u001b[1;32m    342\u001b[0m \u001b[38;5;28;01melse\u001b[39;00m:\n\u001b[0;32m--> 343\u001b[0m     \u001b[38;5;28;01mreturn\u001b[39;00m \u001b[43mprinter\u001b[49m\u001b[43m(\u001b[49m\u001b[43mobj\u001b[49m\u001b[43m)\u001b[49m\n\u001b[1;32m    344\u001b[0m \u001b[38;5;66;03m# Finally look for special method names\u001b[39;00m\n\u001b[1;32m    345\u001b[0m method \u001b[38;5;241m=\u001b[39m get_real_method(obj, \u001b[38;5;28mself\u001b[39m\u001b[38;5;241m.\u001b[39mprint_method)\n",
      "File \u001b[0;32m~/GitHub/CS1-Notebooks/venv/lib/python3.12/site-packages/IPython/core/pylabtools.py:170\u001b[0m, in \u001b[0;36mprint_figure\u001b[0;34m(fig, fmt, bbox_inches, base64, **kwargs)\u001b[0m\n\u001b[1;32m    167\u001b[0m     \u001b[38;5;28;01mfrom\u001b[39;00m \u001b[38;5;21;01mmatplotlib\u001b[39;00m\u001b[38;5;21;01m.\u001b[39;00m\u001b[38;5;21;01mbackend_bases\u001b[39;00m \u001b[38;5;28;01mimport\u001b[39;00m FigureCanvasBase\n\u001b[1;32m    168\u001b[0m     FigureCanvasBase(fig)\n\u001b[0;32m--> 170\u001b[0m \u001b[43mfig\u001b[49m\u001b[38;5;241;43m.\u001b[39;49m\u001b[43mcanvas\u001b[49m\u001b[38;5;241;43m.\u001b[39;49m\u001b[43mprint_figure\u001b[49m\u001b[43m(\u001b[49m\u001b[43mbytes_io\u001b[49m\u001b[43m,\u001b[49m\u001b[43m \u001b[49m\u001b[38;5;241;43m*\u001b[39;49m\u001b[38;5;241;43m*\u001b[39;49m\u001b[43mkw\u001b[49m\u001b[43m)\u001b[49m\n\u001b[1;32m    171\u001b[0m data \u001b[38;5;241m=\u001b[39m bytes_io\u001b[38;5;241m.\u001b[39mgetvalue()\n\u001b[1;32m    172\u001b[0m \u001b[38;5;28;01mif\u001b[39;00m fmt \u001b[38;5;241m==\u001b[39m \u001b[38;5;124m'\u001b[39m\u001b[38;5;124msvg\u001b[39m\u001b[38;5;124m'\u001b[39m:\n",
      "File \u001b[0;32m~/GitHub/CS1-Notebooks/venv/lib/python3.12/site-packages/matplotlib/backend_bases.py:2175\u001b[0m, in \u001b[0;36mFigureCanvasBase.print_figure\u001b[0;34m(self, filename, dpi, facecolor, edgecolor, orientation, format, bbox_inches, pad_inches, bbox_extra_artists, backend, **kwargs)\u001b[0m\n\u001b[1;32m   2172\u001b[0m     \u001b[38;5;66;03m# we do this instead of `self.figure.draw_without_rendering`\u001b[39;00m\n\u001b[1;32m   2173\u001b[0m     \u001b[38;5;66;03m# so that we can inject the orientation\u001b[39;00m\n\u001b[1;32m   2174\u001b[0m     \u001b[38;5;28;01mwith\u001b[39;00m \u001b[38;5;28mgetattr\u001b[39m(renderer, \u001b[38;5;124m\"\u001b[39m\u001b[38;5;124m_draw_disabled\u001b[39m\u001b[38;5;124m\"\u001b[39m, nullcontext)():\n\u001b[0;32m-> 2175\u001b[0m         \u001b[38;5;28;43mself\u001b[39;49m\u001b[38;5;241;43m.\u001b[39;49m\u001b[43mfigure\u001b[49m\u001b[38;5;241;43m.\u001b[39;49m\u001b[43mdraw\u001b[49m\u001b[43m(\u001b[49m\u001b[43mrenderer\u001b[49m\u001b[43m)\u001b[49m\n\u001b[1;32m   2176\u001b[0m \u001b[38;5;28;01mif\u001b[39;00m bbox_inches:\n\u001b[1;32m   2177\u001b[0m     \u001b[38;5;28;01mif\u001b[39;00m bbox_inches \u001b[38;5;241m==\u001b[39m \u001b[38;5;124m\"\u001b[39m\u001b[38;5;124mtight\u001b[39m\u001b[38;5;124m\"\u001b[39m:\n",
      "File \u001b[0;32m~/GitHub/CS1-Notebooks/venv/lib/python3.12/site-packages/matplotlib/artist.py:95\u001b[0m, in \u001b[0;36m_finalize_rasterization.<locals>.draw_wrapper\u001b[0;34m(artist, renderer, *args, **kwargs)\u001b[0m\n\u001b[1;32m     93\u001b[0m \u001b[38;5;129m@wraps\u001b[39m(draw)\n\u001b[1;32m     94\u001b[0m \u001b[38;5;28;01mdef\u001b[39;00m \u001b[38;5;21mdraw_wrapper\u001b[39m(artist, renderer, \u001b[38;5;241m*\u001b[39margs, \u001b[38;5;241m*\u001b[39m\u001b[38;5;241m*\u001b[39mkwargs):\n\u001b[0;32m---> 95\u001b[0m     result \u001b[38;5;241m=\u001b[39m \u001b[43mdraw\u001b[49m\u001b[43m(\u001b[49m\u001b[43martist\u001b[49m\u001b[43m,\u001b[49m\u001b[43m \u001b[49m\u001b[43mrenderer\u001b[49m\u001b[43m,\u001b[49m\u001b[43m \u001b[49m\u001b[38;5;241;43m*\u001b[39;49m\u001b[43margs\u001b[49m\u001b[43m,\u001b[49m\u001b[43m \u001b[49m\u001b[38;5;241;43m*\u001b[39;49m\u001b[38;5;241;43m*\u001b[39;49m\u001b[43mkwargs\u001b[49m\u001b[43m)\u001b[49m\n\u001b[1;32m     96\u001b[0m     \u001b[38;5;28;01mif\u001b[39;00m renderer\u001b[38;5;241m.\u001b[39m_rasterizing:\n\u001b[1;32m     97\u001b[0m         renderer\u001b[38;5;241m.\u001b[39mstop_rasterizing()\n",
      "File \u001b[0;32m~/GitHub/CS1-Notebooks/venv/lib/python3.12/site-packages/matplotlib/artist.py:72\u001b[0m, in \u001b[0;36mallow_rasterization.<locals>.draw_wrapper\u001b[0;34m(artist, renderer)\u001b[0m\n\u001b[1;32m     69\u001b[0m     \u001b[38;5;28;01mif\u001b[39;00m artist\u001b[38;5;241m.\u001b[39mget_agg_filter() \u001b[38;5;129;01mis\u001b[39;00m \u001b[38;5;129;01mnot\u001b[39;00m \u001b[38;5;28;01mNone\u001b[39;00m:\n\u001b[1;32m     70\u001b[0m         renderer\u001b[38;5;241m.\u001b[39mstart_filter()\n\u001b[0;32m---> 72\u001b[0m     \u001b[38;5;28;01mreturn\u001b[39;00m \u001b[43mdraw\u001b[49m\u001b[43m(\u001b[49m\u001b[43martist\u001b[49m\u001b[43m,\u001b[49m\u001b[43m \u001b[49m\u001b[43mrenderer\u001b[49m\u001b[43m)\u001b[49m\n\u001b[1;32m     73\u001b[0m \u001b[38;5;28;01mfinally\u001b[39;00m:\n\u001b[1;32m     74\u001b[0m     \u001b[38;5;28;01mif\u001b[39;00m artist\u001b[38;5;241m.\u001b[39mget_agg_filter() \u001b[38;5;129;01mis\u001b[39;00m \u001b[38;5;129;01mnot\u001b[39;00m \u001b[38;5;28;01mNone\u001b[39;00m:\n",
      "File \u001b[0;32m~/GitHub/CS1-Notebooks/venv/lib/python3.12/site-packages/matplotlib/figure.py:3162\u001b[0m, in \u001b[0;36mFigure.draw\u001b[0;34m(self, renderer)\u001b[0m\n\u001b[1;32m   3159\u001b[0m             \u001b[38;5;66;03m# ValueError can occur when resizing a window.\u001b[39;00m\n\u001b[1;32m   3161\u001b[0m     \u001b[38;5;28mself\u001b[39m\u001b[38;5;241m.\u001b[39mpatch\u001b[38;5;241m.\u001b[39mdraw(renderer)\n\u001b[0;32m-> 3162\u001b[0m     \u001b[43mmimage\u001b[49m\u001b[38;5;241;43m.\u001b[39;49m\u001b[43m_draw_list_compositing_images\u001b[49m\u001b[43m(\u001b[49m\n\u001b[1;32m   3163\u001b[0m \u001b[43m        \u001b[49m\u001b[43mrenderer\u001b[49m\u001b[43m,\u001b[49m\u001b[43m \u001b[49m\u001b[38;5;28;43mself\u001b[39;49m\u001b[43m,\u001b[49m\u001b[43m \u001b[49m\u001b[43martists\u001b[49m\u001b[43m,\u001b[49m\u001b[43m \u001b[49m\u001b[38;5;28;43mself\u001b[39;49m\u001b[38;5;241;43m.\u001b[39;49m\u001b[43msuppressComposite\u001b[49m\u001b[43m)\u001b[49m\n\u001b[1;32m   3165\u001b[0m     renderer\u001b[38;5;241m.\u001b[39mclose_group(\u001b[38;5;124m'\u001b[39m\u001b[38;5;124mfigure\u001b[39m\u001b[38;5;124m'\u001b[39m)\n\u001b[1;32m   3166\u001b[0m \u001b[38;5;28;01mfinally\u001b[39;00m:\n",
      "File \u001b[0;32m~/GitHub/CS1-Notebooks/venv/lib/python3.12/site-packages/matplotlib/image.py:132\u001b[0m, in \u001b[0;36m_draw_list_compositing_images\u001b[0;34m(renderer, parent, artists, suppress_composite)\u001b[0m\n\u001b[1;32m    130\u001b[0m \u001b[38;5;28;01mif\u001b[39;00m not_composite \u001b[38;5;129;01mor\u001b[39;00m \u001b[38;5;129;01mnot\u001b[39;00m has_images:\n\u001b[1;32m    131\u001b[0m     \u001b[38;5;28;01mfor\u001b[39;00m a \u001b[38;5;129;01min\u001b[39;00m artists:\n\u001b[0;32m--> 132\u001b[0m         \u001b[43ma\u001b[49m\u001b[38;5;241;43m.\u001b[39;49m\u001b[43mdraw\u001b[49m\u001b[43m(\u001b[49m\u001b[43mrenderer\u001b[49m\u001b[43m)\u001b[49m\n\u001b[1;32m    133\u001b[0m \u001b[38;5;28;01melse\u001b[39;00m:\n\u001b[1;32m    134\u001b[0m     \u001b[38;5;66;03m# Composite any adjacent images together\u001b[39;00m\n\u001b[1;32m    135\u001b[0m     image_group \u001b[38;5;241m=\u001b[39m []\n",
      "File \u001b[0;32m~/GitHub/CS1-Notebooks/venv/lib/python3.12/site-packages/matplotlib/artist.py:72\u001b[0m, in \u001b[0;36mallow_rasterization.<locals>.draw_wrapper\u001b[0;34m(artist, renderer)\u001b[0m\n\u001b[1;32m     69\u001b[0m     \u001b[38;5;28;01mif\u001b[39;00m artist\u001b[38;5;241m.\u001b[39mget_agg_filter() \u001b[38;5;129;01mis\u001b[39;00m \u001b[38;5;129;01mnot\u001b[39;00m \u001b[38;5;28;01mNone\u001b[39;00m:\n\u001b[1;32m     70\u001b[0m         renderer\u001b[38;5;241m.\u001b[39mstart_filter()\n\u001b[0;32m---> 72\u001b[0m     \u001b[38;5;28;01mreturn\u001b[39;00m \u001b[43mdraw\u001b[49m\u001b[43m(\u001b[49m\u001b[43martist\u001b[49m\u001b[43m,\u001b[49m\u001b[43m \u001b[49m\u001b[43mrenderer\u001b[49m\u001b[43m)\u001b[49m\n\u001b[1;32m     73\u001b[0m \u001b[38;5;28;01mfinally\u001b[39;00m:\n\u001b[1;32m     74\u001b[0m     \u001b[38;5;28;01mif\u001b[39;00m artist\u001b[38;5;241m.\u001b[39mget_agg_filter() \u001b[38;5;129;01mis\u001b[39;00m \u001b[38;5;129;01mnot\u001b[39;00m \u001b[38;5;28;01mNone\u001b[39;00m:\n",
      "File \u001b[0;32m~/GitHub/CS1-Notebooks/venv/lib/python3.12/site-packages/matplotlib/axes/_base.py:3101\u001b[0m, in \u001b[0;36m_AxesBase.draw\u001b[0;34m(self, renderer)\u001b[0m\n\u001b[1;32m   3098\u001b[0m     \u001b[38;5;28;01mfor\u001b[39;00m spine \u001b[38;5;129;01min\u001b[39;00m \u001b[38;5;28mself\u001b[39m\u001b[38;5;241m.\u001b[39mspines\u001b[38;5;241m.\u001b[39mvalues():\n\u001b[1;32m   3099\u001b[0m         artists\u001b[38;5;241m.\u001b[39mremove(spine)\n\u001b[0;32m-> 3101\u001b[0m \u001b[38;5;28;43mself\u001b[39;49m\u001b[38;5;241;43m.\u001b[39;49m\u001b[43m_update_title_position\u001b[49m\u001b[43m(\u001b[49m\u001b[43mrenderer\u001b[49m\u001b[43m)\u001b[49m\n\u001b[1;32m   3103\u001b[0m \u001b[38;5;28;01mif\u001b[39;00m \u001b[38;5;129;01mnot\u001b[39;00m \u001b[38;5;28mself\u001b[39m\u001b[38;5;241m.\u001b[39maxison:\n\u001b[1;32m   3104\u001b[0m     \u001b[38;5;28;01mfor\u001b[39;00m _axis \u001b[38;5;129;01min\u001b[39;00m \u001b[38;5;28mself\u001b[39m\u001b[38;5;241m.\u001b[39m_axis_map\u001b[38;5;241m.\u001b[39mvalues():\n",
      "File \u001b[0;32m~/GitHub/CS1-Notebooks/venv/lib/python3.12/site-packages/matplotlib/axes/_base.py:3055\u001b[0m, in \u001b[0;36m_AxesBase._update_title_position\u001b[0;34m(self, renderer)\u001b[0m\n\u001b[1;32m   3053\u001b[0m     _log\u001b[38;5;241m.\u001b[39mdebug(\u001b[38;5;124m'\u001b[39m\u001b[38;5;124mtop of Axes not in the figure, so title not moved\u001b[39m\u001b[38;5;124m'\u001b[39m)\n\u001b[1;32m   3054\u001b[0m     \u001b[38;5;28;01mreturn\u001b[39;00m\n\u001b[0;32m-> 3055\u001b[0m \u001b[38;5;28;01mif\u001b[39;00m \u001b[43mtitle\u001b[49m\u001b[38;5;241;43m.\u001b[39;49m\u001b[43mget_window_extent\u001b[49m\u001b[43m(\u001b[49m\u001b[43mrenderer\u001b[49m\u001b[43m)\u001b[49m\u001b[38;5;241m.\u001b[39mymin \u001b[38;5;241m<\u001b[39m top:\n\u001b[1;32m   3056\u001b[0m     _, y \u001b[38;5;241m=\u001b[39m \u001b[38;5;28mself\u001b[39m\u001b[38;5;241m.\u001b[39mtransAxes\u001b[38;5;241m.\u001b[39minverted()\u001b[38;5;241m.\u001b[39mtransform((\u001b[38;5;241m0\u001b[39m, top))\n\u001b[1;32m   3057\u001b[0m     title\u001b[38;5;241m.\u001b[39mset_position((x, y))\n",
      "File \u001b[0;32m~/GitHub/CS1-Notebooks/venv/lib/python3.12/site-packages/matplotlib/text.py:959\u001b[0m, in \u001b[0;36mText.get_window_extent\u001b[0;34m(self, renderer, dpi)\u001b[0m\n\u001b[1;32m    954\u001b[0m     \u001b[38;5;28;01mraise\u001b[39;00m \u001b[38;5;167;01mRuntimeError\u001b[39;00m(\n\u001b[1;32m    955\u001b[0m         \u001b[38;5;124m\"\u001b[39m\u001b[38;5;124mCannot get window extent of text w/o renderer. You likely \u001b[39m\u001b[38;5;124m\"\u001b[39m\n\u001b[1;32m    956\u001b[0m         \u001b[38;5;124m\"\u001b[39m\u001b[38;5;124mwant to call \u001b[39m\u001b[38;5;124m'\u001b[39m\u001b[38;5;124mfigure.draw_without_rendering()\u001b[39m\u001b[38;5;124m'\u001b[39m\u001b[38;5;124m first.\u001b[39m\u001b[38;5;124m\"\u001b[39m)\n\u001b[1;32m    958\u001b[0m \u001b[38;5;28;01mwith\u001b[39;00m cbook\u001b[38;5;241m.\u001b[39m_setattr_cm(\u001b[38;5;28mself\u001b[39m\u001b[38;5;241m.\u001b[39mfigure, dpi\u001b[38;5;241m=\u001b[39mdpi):\n\u001b[0;32m--> 959\u001b[0m     bbox, info, descent \u001b[38;5;241m=\u001b[39m \u001b[38;5;28;43mself\u001b[39;49m\u001b[38;5;241;43m.\u001b[39;49m\u001b[43m_get_layout\u001b[49m\u001b[43m(\u001b[49m\u001b[38;5;28;43mself\u001b[39;49m\u001b[38;5;241;43m.\u001b[39;49m\u001b[43m_renderer\u001b[49m\u001b[43m)\u001b[49m\n\u001b[1;32m    960\u001b[0m     x, y \u001b[38;5;241m=\u001b[39m \u001b[38;5;28mself\u001b[39m\u001b[38;5;241m.\u001b[39mget_unitless_position()\n\u001b[1;32m    961\u001b[0m     x, y \u001b[38;5;241m=\u001b[39m \u001b[38;5;28mself\u001b[39m\u001b[38;5;241m.\u001b[39mget_transform()\u001b[38;5;241m.\u001b[39mtransform((x, y))\n",
      "File \u001b[0;32m~/GitHub/CS1-Notebooks/venv/lib/python3.12/site-packages/matplotlib/text.py:381\u001b[0m, in \u001b[0;36mText._get_layout\u001b[0;34m(self, renderer)\u001b[0m\n\u001b[1;32m    379\u001b[0m clean_line, ismath \u001b[38;5;241m=\u001b[39m \u001b[38;5;28mself\u001b[39m\u001b[38;5;241m.\u001b[39m_preprocess_math(line)\n\u001b[1;32m    380\u001b[0m \u001b[38;5;28;01mif\u001b[39;00m clean_line:\n\u001b[0;32m--> 381\u001b[0m     w, h, d \u001b[38;5;241m=\u001b[39m \u001b[43m_get_text_metrics_with_cache\u001b[49m\u001b[43m(\u001b[49m\n\u001b[1;32m    382\u001b[0m \u001b[43m        \u001b[49m\u001b[43mrenderer\u001b[49m\u001b[43m,\u001b[49m\u001b[43m \u001b[49m\u001b[43mclean_line\u001b[49m\u001b[43m,\u001b[49m\u001b[43m \u001b[49m\u001b[38;5;28;43mself\u001b[39;49m\u001b[38;5;241;43m.\u001b[39;49m\u001b[43m_fontproperties\u001b[49m\u001b[43m,\u001b[49m\n\u001b[1;32m    383\u001b[0m \u001b[43m        \u001b[49m\u001b[43mismath\u001b[49m\u001b[38;5;241;43m=\u001b[39;49m\u001b[43mismath\u001b[49m\u001b[43m,\u001b[49m\u001b[43m \u001b[49m\u001b[43mdpi\u001b[49m\u001b[38;5;241;43m=\u001b[39;49m\u001b[38;5;28;43mself\u001b[39;49m\u001b[38;5;241;43m.\u001b[39;49m\u001b[43mfigure\u001b[49m\u001b[38;5;241;43m.\u001b[39;49m\u001b[43mdpi\u001b[49m\u001b[43m)\u001b[49m\n\u001b[1;32m    384\u001b[0m \u001b[38;5;28;01melse\u001b[39;00m:\n\u001b[1;32m    385\u001b[0m     w \u001b[38;5;241m=\u001b[39m h \u001b[38;5;241m=\u001b[39m d \u001b[38;5;241m=\u001b[39m \u001b[38;5;241m0\u001b[39m\n",
      "File \u001b[0;32m~/GitHub/CS1-Notebooks/venv/lib/python3.12/site-packages/matplotlib/text.py:69\u001b[0m, in \u001b[0;36m_get_text_metrics_with_cache\u001b[0;34m(renderer, text, fontprop, ismath, dpi)\u001b[0m\n\u001b[1;32m     66\u001b[0m \u001b[38;5;250m\u001b[39m\u001b[38;5;124;03m\"\"\"Call ``renderer.get_text_width_height_descent``, caching the results.\"\"\"\u001b[39;00m\n\u001b[1;32m     67\u001b[0m \u001b[38;5;66;03m# Cached based on a copy of fontprop so that later in-place mutations of\u001b[39;00m\n\u001b[1;32m     68\u001b[0m \u001b[38;5;66;03m# the passed-in argument do not mess up the cache.\u001b[39;00m\n\u001b[0;32m---> 69\u001b[0m \u001b[38;5;28;01mreturn\u001b[39;00m \u001b[43m_get_text_metrics_with_cache_impl\u001b[49m\u001b[43m(\u001b[49m\n\u001b[1;32m     70\u001b[0m \u001b[43m    \u001b[49m\u001b[43mweakref\u001b[49m\u001b[38;5;241;43m.\u001b[39;49m\u001b[43mref\u001b[49m\u001b[43m(\u001b[49m\u001b[43mrenderer\u001b[49m\u001b[43m)\u001b[49m\u001b[43m,\u001b[49m\u001b[43m \u001b[49m\u001b[43mtext\u001b[49m\u001b[43m,\u001b[49m\u001b[43m \u001b[49m\u001b[43mfontprop\u001b[49m\u001b[38;5;241;43m.\u001b[39;49m\u001b[43mcopy\u001b[49m\u001b[43m(\u001b[49m\u001b[43m)\u001b[49m\u001b[43m,\u001b[49m\u001b[43m \u001b[49m\u001b[43mismath\u001b[49m\u001b[43m,\u001b[49m\u001b[43m \u001b[49m\u001b[43mdpi\u001b[49m\u001b[43m)\u001b[49m\n",
      "File \u001b[0;32m~/GitHub/CS1-Notebooks/venv/lib/python3.12/site-packages/matplotlib/text.py:77\u001b[0m, in \u001b[0;36m_get_text_metrics_with_cache_impl\u001b[0;34m(renderer_ref, text, fontprop, ismath, dpi)\u001b[0m\n\u001b[1;32m     73\u001b[0m \u001b[38;5;129m@functools\u001b[39m\u001b[38;5;241m.\u001b[39mlru_cache(\u001b[38;5;241m4096\u001b[39m)\n\u001b[1;32m     74\u001b[0m \u001b[38;5;28;01mdef\u001b[39;00m \u001b[38;5;21m_get_text_metrics_with_cache_impl\u001b[39m(\n\u001b[1;32m     75\u001b[0m         renderer_ref, text, fontprop, ismath, dpi):\n\u001b[1;32m     76\u001b[0m     \u001b[38;5;66;03m# dpi is unused, but participates in cache invalidation (via the renderer).\u001b[39;00m\n\u001b[0;32m---> 77\u001b[0m     \u001b[38;5;28;01mreturn\u001b[39;00m \u001b[43mrenderer_ref\u001b[49m\u001b[43m(\u001b[49m\u001b[43m)\u001b[49m\u001b[38;5;241;43m.\u001b[39;49m\u001b[43mget_text_width_height_descent\u001b[49m\u001b[43m(\u001b[49m\u001b[43mtext\u001b[49m\u001b[43m,\u001b[49m\u001b[43m \u001b[49m\u001b[43mfontprop\u001b[49m\u001b[43m,\u001b[49m\u001b[43m \u001b[49m\u001b[43mismath\u001b[49m\u001b[43m)\u001b[49m\n",
      "File \u001b[0;32m~/GitHub/CS1-Notebooks/venv/lib/python3.12/site-packages/matplotlib/backends/backend_agg.py:212\u001b[0m, in \u001b[0;36mRendererAgg.get_text_width_height_descent\u001b[0;34m(self, s, prop, ismath)\u001b[0m\n\u001b[1;32m    210\u001b[0m _api\u001b[38;5;241m.\u001b[39mcheck_in_list([\u001b[38;5;124m\"\u001b[39m\u001b[38;5;124mTeX\u001b[39m\u001b[38;5;124m\"\u001b[39m, \u001b[38;5;28;01mTrue\u001b[39;00m, \u001b[38;5;28;01mFalse\u001b[39;00m], ismath\u001b[38;5;241m=\u001b[39mismath)\n\u001b[1;32m    211\u001b[0m \u001b[38;5;28;01mif\u001b[39;00m ismath \u001b[38;5;241m==\u001b[39m \u001b[38;5;124m\"\u001b[39m\u001b[38;5;124mTeX\u001b[39m\u001b[38;5;124m\"\u001b[39m:\n\u001b[0;32m--> 212\u001b[0m     \u001b[38;5;28;01mreturn\u001b[39;00m \u001b[38;5;28;43msuper\u001b[39;49m\u001b[43m(\u001b[49m\u001b[43m)\u001b[49m\u001b[38;5;241;43m.\u001b[39;49m\u001b[43mget_text_width_height_descent\u001b[49m\u001b[43m(\u001b[49m\u001b[43ms\u001b[49m\u001b[43m,\u001b[49m\u001b[43m \u001b[49m\u001b[43mprop\u001b[49m\u001b[43m,\u001b[49m\u001b[43m \u001b[49m\u001b[43mismath\u001b[49m\u001b[43m)\u001b[49m\n\u001b[1;32m    214\u001b[0m \u001b[38;5;28;01mif\u001b[39;00m ismath:\n\u001b[1;32m    215\u001b[0m     ox, oy, width, height, descent, font_image \u001b[38;5;241m=\u001b[39m \\\n\u001b[1;32m    216\u001b[0m         \u001b[38;5;28mself\u001b[39m\u001b[38;5;241m.\u001b[39mmathtext_parser\u001b[38;5;241m.\u001b[39mparse(s, \u001b[38;5;28mself\u001b[39m\u001b[38;5;241m.\u001b[39mdpi, prop)\n",
      "File \u001b[0;32m~/GitHub/CS1-Notebooks/venv/lib/python3.12/site-packages/matplotlib/backend_bases.py:597\u001b[0m, in \u001b[0;36mRendererBase.get_text_width_height_descent\u001b[0;34m(self, s, prop, ismath)\u001b[0m\n\u001b[1;32m    593\u001b[0m fontsize \u001b[38;5;241m=\u001b[39m prop\u001b[38;5;241m.\u001b[39mget_size_in_points()\n\u001b[1;32m    595\u001b[0m \u001b[38;5;28;01mif\u001b[39;00m ismath \u001b[38;5;241m==\u001b[39m \u001b[38;5;124m'\u001b[39m\u001b[38;5;124mTeX\u001b[39m\u001b[38;5;124m'\u001b[39m:\n\u001b[1;32m    596\u001b[0m     \u001b[38;5;66;03m# todo: handle properties\u001b[39;00m\n\u001b[0;32m--> 597\u001b[0m     \u001b[38;5;28;01mreturn\u001b[39;00m \u001b[38;5;28;43mself\u001b[39;49m\u001b[38;5;241;43m.\u001b[39;49m\u001b[43mget_texmanager\u001b[49m\u001b[43m(\u001b[49m\u001b[43m)\u001b[49m\u001b[38;5;241;43m.\u001b[39;49m\u001b[43mget_text_width_height_descent\u001b[49m\u001b[43m(\u001b[49m\n\u001b[1;32m    598\u001b[0m \u001b[43m        \u001b[49m\u001b[43ms\u001b[49m\u001b[43m,\u001b[49m\u001b[43m \u001b[49m\u001b[43mfontsize\u001b[49m\u001b[43m,\u001b[49m\u001b[43m \u001b[49m\u001b[43mrenderer\u001b[49m\u001b[38;5;241;43m=\u001b[39;49m\u001b[38;5;28;43mself\u001b[39;49m\u001b[43m)\u001b[49m\n\u001b[1;32m    600\u001b[0m dpi \u001b[38;5;241m=\u001b[39m \u001b[38;5;28mself\u001b[39m\u001b[38;5;241m.\u001b[39mpoints_to_pixels(\u001b[38;5;241m72\u001b[39m)\n\u001b[1;32m    601\u001b[0m \u001b[38;5;28;01mif\u001b[39;00m ismath:\n",
      "File \u001b[0;32m~/GitHub/CS1-Notebooks/venv/lib/python3.12/site-packages/matplotlib/texmanager.py:363\u001b[0m, in \u001b[0;36mTexManager.get_text_width_height_descent\u001b[0;34m(cls, tex, fontsize, renderer)\u001b[0m\n\u001b[1;32m    361\u001b[0m \u001b[38;5;28;01mif\u001b[39;00m tex\u001b[38;5;241m.\u001b[39mstrip() \u001b[38;5;241m==\u001b[39m \u001b[38;5;124m'\u001b[39m\u001b[38;5;124m'\u001b[39m:\n\u001b[1;32m    362\u001b[0m     \u001b[38;5;28;01mreturn\u001b[39;00m \u001b[38;5;241m0\u001b[39m, \u001b[38;5;241m0\u001b[39m, \u001b[38;5;241m0\u001b[39m\n\u001b[0;32m--> 363\u001b[0m dvifile \u001b[38;5;241m=\u001b[39m \u001b[38;5;28;43mcls\u001b[39;49m\u001b[38;5;241;43m.\u001b[39;49m\u001b[43mmake_dvi\u001b[49m\u001b[43m(\u001b[49m\u001b[43mtex\u001b[49m\u001b[43m,\u001b[49m\u001b[43m \u001b[49m\u001b[43mfontsize\u001b[49m\u001b[43m)\u001b[49m\n\u001b[1;32m    364\u001b[0m dpi_fraction \u001b[38;5;241m=\u001b[39m renderer\u001b[38;5;241m.\u001b[39mpoints_to_pixels(\u001b[38;5;241m1.\u001b[39m) \u001b[38;5;28;01mif\u001b[39;00m renderer \u001b[38;5;28;01melse\u001b[39;00m \u001b[38;5;241m1\u001b[39m\n\u001b[1;32m    365\u001b[0m \u001b[38;5;28;01mwith\u001b[39;00m dviread\u001b[38;5;241m.\u001b[39mDvi(dvifile, \u001b[38;5;241m72\u001b[39m \u001b[38;5;241m*\u001b[39m dpi_fraction) \u001b[38;5;28;01mas\u001b[39;00m dvi:\n",
      "File \u001b[0;32m~/GitHub/CS1-Notebooks/venv/lib/python3.12/site-packages/matplotlib/texmanager.py:295\u001b[0m, in \u001b[0;36mTexManager.make_dvi\u001b[0;34m(cls, tex, fontsize)\u001b[0m\n\u001b[1;32m    293\u001b[0m     \u001b[38;5;28;01mwith\u001b[39;00m TemporaryDirectory(\u001b[38;5;28mdir\u001b[39m\u001b[38;5;241m=\u001b[39mcwd) \u001b[38;5;28;01mas\u001b[39;00m tmpdir:\n\u001b[1;32m    294\u001b[0m         tmppath \u001b[38;5;241m=\u001b[39m Path(tmpdir)\n\u001b[0;32m--> 295\u001b[0m         \u001b[38;5;28;43mcls\u001b[39;49m\u001b[38;5;241;43m.\u001b[39;49m\u001b[43m_run_checked_subprocess\u001b[49m\u001b[43m(\u001b[49m\n\u001b[1;32m    296\u001b[0m \u001b[43m            \u001b[49m\u001b[43m[\u001b[49m\u001b[38;5;124;43m\"\u001b[39;49m\u001b[38;5;124;43mlatex\u001b[39;49m\u001b[38;5;124;43m\"\u001b[39;49m\u001b[43m,\u001b[49m\u001b[43m \u001b[49m\u001b[38;5;124;43m\"\u001b[39;49m\u001b[38;5;124;43m-interaction=nonstopmode\u001b[39;49m\u001b[38;5;124;43m\"\u001b[39;49m\u001b[43m,\u001b[49m\u001b[43m \u001b[49m\u001b[38;5;124;43m\"\u001b[39;49m\u001b[38;5;124;43m--halt-on-error\u001b[39;49m\u001b[38;5;124;43m\"\u001b[39;49m\u001b[43m,\u001b[49m\n\u001b[1;32m    297\u001b[0m \u001b[43m             \u001b[49m\u001b[38;5;124;43mf\u001b[39;49m\u001b[38;5;124;43m\"\u001b[39;49m\u001b[38;5;124;43m--output-directory=\u001b[39;49m\u001b[38;5;132;43;01m{\u001b[39;49;00m\u001b[43mtmppath\u001b[49m\u001b[38;5;241;43m.\u001b[39;49m\u001b[43mname\u001b[49m\u001b[38;5;132;43;01m}\u001b[39;49;00m\u001b[38;5;124;43m\"\u001b[39;49m\u001b[43m,\u001b[49m\n\u001b[1;32m    298\u001b[0m \u001b[43m             \u001b[49m\u001b[38;5;124;43mf\u001b[39;49m\u001b[38;5;124;43m\"\u001b[39;49m\u001b[38;5;132;43;01m{\u001b[39;49;00m\u001b[43mtexfile\u001b[49m\u001b[38;5;241;43m.\u001b[39;49m\u001b[43mname\u001b[49m\u001b[38;5;132;43;01m}\u001b[39;49;00m\u001b[38;5;124;43m\"\u001b[39;49m\u001b[43m]\u001b[49m\u001b[43m,\u001b[49m\u001b[43m \u001b[49m\u001b[43mtex\u001b[49m\u001b[43m,\u001b[49m\u001b[43m \u001b[49m\u001b[43mcwd\u001b[49m\u001b[38;5;241;43m=\u001b[39;49m\u001b[43mcwd\u001b[49m\u001b[43m)\u001b[49m\n\u001b[1;32m    299\u001b[0m         (tmppath \u001b[38;5;241m/\u001b[39m Path(dvifile)\u001b[38;5;241m.\u001b[39mname)\u001b[38;5;241m.\u001b[39mreplace(dvifile)\n\u001b[1;32m    300\u001b[0m \u001b[38;5;28;01mreturn\u001b[39;00m dvifile\n",
      "File \u001b[0;32m~/GitHub/CS1-Notebooks/venv/lib/python3.12/site-packages/matplotlib/texmanager.py:258\u001b[0m, in \u001b[0;36mTexManager._run_checked_subprocess\u001b[0;34m(cls, command, tex, cwd)\u001b[0m\n\u001b[1;32m    254\u001b[0m     \u001b[38;5;28;01mraise\u001b[39;00m \u001b[38;5;167;01mRuntimeError\u001b[39;00m(\n\u001b[1;32m    255\u001b[0m         \u001b[38;5;124mf\u001b[39m\u001b[38;5;124m'\u001b[39m\u001b[38;5;124mFailed to process string with tex because \u001b[39m\u001b[38;5;132;01m{\u001b[39;00mcommand[\u001b[38;5;241m0\u001b[39m]\u001b[38;5;132;01m}\u001b[39;00m\u001b[38;5;124m \u001b[39m\u001b[38;5;124m'\u001b[39m\n\u001b[1;32m    256\u001b[0m         \u001b[38;5;124m'\u001b[39m\u001b[38;5;124mcould not be found\u001b[39m\u001b[38;5;124m'\u001b[39m) \u001b[38;5;28;01mfrom\u001b[39;00m \u001b[38;5;21;01mexc\u001b[39;00m\n\u001b[1;32m    257\u001b[0m \u001b[38;5;28;01mexcept\u001b[39;00m subprocess\u001b[38;5;241m.\u001b[39mCalledProcessError \u001b[38;5;28;01mas\u001b[39;00m exc:\n\u001b[0;32m--> 258\u001b[0m     \u001b[38;5;28;01mraise\u001b[39;00m \u001b[38;5;167;01mRuntimeError\u001b[39;00m(\n\u001b[1;32m    259\u001b[0m         \u001b[38;5;124m'\u001b[39m\u001b[38;5;132;01m{prog}\u001b[39;00m\u001b[38;5;124m was not able to process the following string:\u001b[39m\u001b[38;5;130;01m\\n\u001b[39;00m\u001b[38;5;124m'\u001b[39m\n\u001b[1;32m    260\u001b[0m         \u001b[38;5;124m'\u001b[39m\u001b[38;5;132;01m{tex!r}\u001b[39;00m\u001b[38;5;130;01m\\n\u001b[39;00m\u001b[38;5;130;01m\\n\u001b[39;00m\u001b[38;5;124m'\u001b[39m\n\u001b[1;32m    261\u001b[0m         \u001b[38;5;124m'\u001b[39m\u001b[38;5;124mHere is the full command invocation and its output:\u001b[39m\u001b[38;5;130;01m\\n\u001b[39;00m\u001b[38;5;130;01m\\n\u001b[39;00m\u001b[38;5;124m'\u001b[39m\n\u001b[1;32m    262\u001b[0m         \u001b[38;5;124m'\u001b[39m\u001b[38;5;132;01m{format_command}\u001b[39;00m\u001b[38;5;130;01m\\n\u001b[39;00m\u001b[38;5;130;01m\\n\u001b[39;00m\u001b[38;5;124m'\u001b[39m\n\u001b[1;32m    263\u001b[0m         \u001b[38;5;124m'\u001b[39m\u001b[38;5;132;01m{exc}\u001b[39;00m\u001b[38;5;130;01m\\n\u001b[39;00m\u001b[38;5;130;01m\\n\u001b[39;00m\u001b[38;5;124m'\u001b[39m\u001b[38;5;241m.\u001b[39mformat(\n\u001b[1;32m    264\u001b[0m             prog\u001b[38;5;241m=\u001b[39mcommand[\u001b[38;5;241m0\u001b[39m],\n\u001b[1;32m    265\u001b[0m             format_command\u001b[38;5;241m=\u001b[39mcbook\u001b[38;5;241m.\u001b[39m_pformat_subprocess(command),\n\u001b[1;32m    266\u001b[0m             tex\u001b[38;5;241m=\u001b[39mtex\u001b[38;5;241m.\u001b[39mencode(\u001b[38;5;124m'\u001b[39m\u001b[38;5;124municode_escape\u001b[39m\u001b[38;5;124m'\u001b[39m),\n\u001b[1;32m    267\u001b[0m             exc\u001b[38;5;241m=\u001b[39mexc\u001b[38;5;241m.\u001b[39moutput\u001b[38;5;241m.\u001b[39mdecode(\u001b[38;5;124m'\u001b[39m\u001b[38;5;124mutf-8\u001b[39m\u001b[38;5;124m'\u001b[39m, \u001b[38;5;124m'\u001b[39m\u001b[38;5;124mbackslashreplace\u001b[39m\u001b[38;5;124m'\u001b[39m))\n\u001b[1;32m    268\u001b[0m         ) \u001b[38;5;28;01mfrom\u001b[39;00m \u001b[38;5;28;01mNone\u001b[39;00m\n\u001b[1;32m    269\u001b[0m _log\u001b[38;5;241m.\u001b[39mdebug(report)\n\u001b[1;32m    270\u001b[0m \u001b[38;5;28;01mreturn\u001b[39;00m report\n",
      "\u001b[0;31mRuntimeError\u001b[0m: latex was not able to process the following string:\nb'Pendulum Angle (\\\\u03c6)'\n\nHere is the full command invocation and its output:\n\nlatex -interaction=nonstopmode --halt-on-error --output-directory=tmpczw7tui0 12815e8d73fcceece6fac34a21c2ccb2.tex\n\nThis is pdfTeX, Version 3.141592653-2.6-1.40.25 (TeX Live 2023/MacPorts 2023.66589_5) (preloaded format=latex)\n restricted \\write18 enabled.\nentering extended mode\n(./12815e8d73fcceece6fac34a21c2ccb2.tex\nLaTeX2e <2022-11-01> patch level 1\nL3 programming layer <2023-02-22>\n(/opt/local/share/texmf-texlive/tex/latex/base/article.cls\nDocument Class: article 2022/07/02 v1.4n Standard LaTeX document class\n(/opt/local/share/texmf-texlive/tex/latex/base/size10.clo))\n(/opt/local/share/texmf-texlive/tex/latex/type1cm/type1cm.sty)\n(/opt/local/share/texmf-texlive/tex/latex/cm-super/type1ec.sty\n(/opt/local/share/texmf-texlive/tex/latex/base/t1cmr.fd))\n(/opt/local/share/texmf-texlive/tex/latex/base/inputenc.sty)\n(/opt/local/share/texmf-texlive/tex/latex/geometry/geometry.sty\n(/opt/local/share/texmf-texlive/tex/latex/graphics/keyval.sty)\n(/opt/local/share/texmf-texlive/tex/generic/iftex/ifvtex.sty\n(/opt/local/share/texmf-texlive/tex/generic/iftex/iftex.sty)))\n(/opt/local/share/texmf-texlive/tex/latex/underscore/underscore.sty)\n(/opt/local/share/texmf-texlive/tex/latex/base/textcomp.sty)\n(/opt/local/share/texmf-texlive/tex/latex/l3backend/l3backend-dvips.def)\nNo file 12815e8d73fcceece6fac34a21c2ccb2.aux.\n*geometry* driver: auto-detecting\n*geometry* detected driver: dvips\n\n! LaTeX Error: Unicode character φ (U+03C6)\n               not set up for use with LaTeX.\n\nSee the LaTeX manual or LaTeX Companion for explanation.\nType  H <return>  for immediate help.\n ...                                              \n                                                  \nl.29 {\\sffamily Pendulum Angle (φ\n                                  )}%\nNo pages of output.\nTranscript written on tmpczw7tui0/12815e8d73fcceece6fac34a21c2ccb2.log.\n\n\n"
     ]
    },
    {
     "data": {
      "text/plain": [
       "<Figure size 1600x600 with 2 Axes>"
      ]
     },
     "metadata": {},
     "output_type": "display_data"
    }
   ],
   "source": [
    "# System parameters\n",
    "l = 1.0  # m\n",
    "m = 1.0  # kg\n",
    "g = 10.0  # m/s^2\n",
    "a = 0.5  # m\n",
    "k = 10.0  # N/m\n",
    "lambda_ = 3.0  # Nms/rad\n",
    "J = 1.0  # Nms^2/rad\n",
    "\n",
    "# Control input F(t)\n",
    "def F(t, F1, F2, t1, t2):\n",
    "    if t < t1:\n",
    "        return 0\n",
    "    elif t < t2:\n",
    "        return F1\n",
    "    else:\n",
    "        return F2\n",
    "\n",
    "# Nonlinear system dynamics\n",
    "def nonlinear_system(x, t, F1, F2, t1, t2):\n",
    "    phi, phi_dot = x\n",
    "    F_t = F(t, F1, F2, t1, t2)\n",
    "    phi_ddot = (-l * m * g * np.sin(phi) - 0.5 * a**2 * k * np.sin(2*phi) - lambda_ * phi_dot + l * F_t) / J\n",
    "    return [phi_dot, phi_ddot]\n",
    "\n",
    "# Linear system dynamics\n",
    "def linear_system(x, t, F1, F2, t1, t2):\n",
    "    phi, phi_dot = x\n",
    "    F_t = F(t, F1, F2, t1, t2)\n",
    "    phi_ddot = (-l * m * g * phi - a**2 * k * phi - lambda_ * phi_dot + l * F_t) / J\n",
    "    return [phi_dot, phi_ddot]\n",
    "\n",
    "# Simulation and plotting function\n",
    "def simulate_and_plot(F1, F2, t1, t2, phi0, phi_dot0):\n",
    "    # Time array\n",
    "    t = np.linspace(0, 20, 1000)\n",
    "\n",
    "    # Initial conditions\n",
    "    x0 = [phi0, phi_dot0]\n",
    "\n",
    "    # Solve ODEs\n",
    "    nonlinear_solution = odeint(nonlinear_system, x0, t, args=(F1, F2, t1, t2))\n",
    "    linear_solution = odeint(linear_system, x0, t, args=(F1, F2, t1, t2))\n",
    "\n",
    "    # Extract phi and phi_dot\n",
    "    nonlinear_phi = nonlinear_solution[:, 0]\n",
    "    linear_phi = linear_solution[:, 0]\n",
    "\n",
    "    # Calculate F(t) for plotting\n",
    "    F_t = np.array([F(ti, F1, F2, t1, t2) for ti in t])\n",
    "\n",
    "    # Plotting\n",
    "    fig, (ax1, ax2) = plt.subplots(1, 2, figsize=(16, 6))\n",
    "    fig.suptitle('Pendulum System Simulation: Nonlinear vs Linear', fontsize=16, y=1.05)\n",
    "\n",
    "    # Plot phi\n",
    "    ax1.plot(t, nonlinear_phi, label='Nonlinear')\n",
    "    ax1.plot(t, linear_phi, label='Linear', linestyle='--')\n",
    "    ax1.set_xlabel('Time (s)')\n",
    "    ax1.set_ylabel('Angle (rad)')\n",
    "    ax1.set_title('Pendulum Angle (φ)')\n",
    "    ax1.grid(True)\n",
    "    ax1.legend()\n",
    "\n",
    "    # Plot F(t)\n",
    "    ax2.plot(t, F_t)\n",
    "    ax2.set_xlabel('Time (s)')\n",
    "    ax2.set_ylabel('Force (N)')\n",
    "    ax2.set_title('Control Input F(t)')\n",
    "    ax2.grid(True)\n",
    "\n",
    "    plt.tight_layout()\n",
    "    plt.subplots_adjust(top=0.85, wspace=0.3)\n",
    "    plt.show()\n",
    "\n",
    "# Create widgets\n",
    "F1_slider = widgets.FloatSlider(value=0.1, min=0, max=1, step=0.1, description='F1:')\n",
    "F2_slider = widgets.FloatSlider(value=5, min=0, max=10, step=0.1, description='F2:')\n",
    "t1_slider = widgets.FloatSlider(value=10, min=0, max=20, step=0.1, description='t1:')\n",
    "t2_slider = widgets.FloatSlider(value=15, min=0, max=20, step=0.1, description='t2:')\n",
    "phi0_slider = widgets.FloatSlider(value=0.0, min=-np.pi/2, max=np.pi/2, step=0.01, description='phi_0:')\n",
    "phi_dot0_slider = widgets.FloatSlider(value=0.0, min=-5, max=5, step=0.01, description='dphi_0:')\n",
    "\n",
    "# Create interactive output\n",
    "interactive_plot = widgets.interactive(simulate_and_plot, \n",
    "                                       F1=F1_slider, F2=F2_slider, \n",
    "                                       t1=t1_slider, t2=t2_slider,\n",
    "                                       phi0=phi0_slider, phi_dot0=phi_dot0_slider)\n",
    "\n",
    "# Display the interactive plot\n",
    "display(interactive_plot)"
   ]
  }
 ],
 "metadata": {
  "kernelspec": {
   "display_name": "cs1",
   "language": "python",
   "name": "python3"
  },
  "language_info": {
   "codemirror_mode": {
    "name": "ipython",
    "version": 3
   },
   "file_extension": ".py",
   "mimetype": "text/x-python",
   "name": "python",
   "nbconvert_exporter": "python",
   "pygments_lexer": "ipython3",
   "version": "3.12.5"
  }
 },
 "nbformat": 4,
 "nbformat_minor": 2
}
