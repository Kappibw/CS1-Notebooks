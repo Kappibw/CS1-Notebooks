{
 "cells": [
  {
   "cell_type": "markdown",
   "id": "77aa8d0f",
   "metadata": {},
   "source": [
    "# Control Systems 1, NB03: Time Response and Stability\n",
    "2024 ETH Zurich, Mark Benazet Castells, Jonas Holinger, Felix Muller, Matteo Penlington; Institute for Dynamic Systems and Control; Prof. Emilio Frazzoli\n",
    "\n",
    "\n",
    "This interactive notebook is designed to introduce fundamental concepts in control systems engineering. It covers the basics of system modeling, classification, and analysis, with a focus on building intuition through visual and interactive examples.\n",
    "\n",
    "Authors:\n",
    "- Jonas Holinger; jholinger@ethz.ch\n",
    "- Shubham Gupta; shugupta@ethz.ch\n"
   ]
  },
  {
   "cell_type": "markdown",
   "id": "ec513e9c",
   "metadata": {},
   "source": [
    "## Learning Objectives\n",
    "\n",
    "After completing this notebook, you should be able to:\n",
    "\n",
    "1. Understand how to compute the general form response of a linear system by adding its inital condition response and its forced response\n",
    "2. Understand the several definitions of stability for a dynamical system\n",
    "3. Understand wether a LTI system is stable or unstable by looking at the eigenvalues of the A Matrix"
   ]
  },
  {
   "cell_type": "markdown",
   "id": "e3ecaefa",
   "metadata": {},
   "source": [
    "# Setup"
   ]
  },
  {
   "cell_type": "markdown",
   "id": "1cfd9778",
   "metadata": {},
   "source": [
    "## Installing the required packages:\n"
   ]
  },
  {
   "cell_type": "code",
   "execution_count": 2,
   "id": "0e313fd8",
   "metadata": {
    "scrolled": true
   },
   "outputs": [
    {
     "name": "stdout",
     "output_type": "stream",
     "text": [
      "Requirement already satisfied: numpy in c:\\users\\shubh\\desktop\\eth zurich\\sem 3\\cs1 taship\\cs1-notebooks\\.venv\\lib\\site-packages (2.1.1)Note: you may need to restart the kernel to use updated packages.\n",
      "\n",
      "Requirement already satisfied: matplotlib in c:\\users\\shubh\\desktop\\eth zurich\\sem 3\\cs1 taship\\cs1-notebooks\\.venv\\lib\\site-packages (3.9.2)\n",
      "Requirement already satisfied: scipy in c:\\users\\shubh\\desktop\\eth zurich\\sem 3\\cs1 taship\\cs1-notebooks\\.venv\\lib\\site-packages (1.14.1)\n",
      "Requirement already satisfied: ipywidgets in c:\\users\\shubh\\desktop\\eth zurich\\sem 3\\cs1 taship\\cs1-notebooks\\.venv\\lib\\site-packages (8.1.5)\n",
      "Requirement already satisfied: control in c:\\users\\shubh\\desktop\\eth zurich\\sem 3\\cs1 taship\\cs1-notebooks\\.venv\\lib\\site-packages (0.10.1)\n",
      "Requirement already satisfied: IPython in c:\\users\\shubh\\desktop\\eth zurich\\sem 3\\cs1 taship\\cs1-notebooks\\.venv\\lib\\site-packages (8.27.0)\n",
      "Requirement already satisfied: contourpy>=1.0.1 in c:\\users\\shubh\\desktop\\eth zurich\\sem 3\\cs1 taship\\cs1-notebooks\\.venv\\lib\\site-packages (from matplotlib) (1.3.0)\n",
      "Requirement already satisfied: cycler>=0.10 in c:\\users\\shubh\\desktop\\eth zurich\\sem 3\\cs1 taship\\cs1-notebooks\\.venv\\lib\\site-packages (from matplotlib) (0.12.1)\n",
      "Requirement already satisfied: fonttools>=4.22.0 in c:\\users\\shubh\\desktop\\eth zurich\\sem 3\\cs1 taship\\cs1-notebooks\\.venv\\lib\\site-packages (from matplotlib) (4.53.1)\n",
      "Requirement already satisfied: kiwisolver>=1.3.1 in c:\\users\\shubh\\desktop\\eth zurich\\sem 3\\cs1 taship\\cs1-notebooks\\.venv\\lib\\site-packages (from matplotlib) (1.4.7)\n",
      "Requirement already satisfied: packaging>=20.0 in c:\\users\\shubh\\desktop\\eth zurich\\sem 3\\cs1 taship\\cs1-notebooks\\.venv\\lib\\site-packages (from matplotlib) (24.1)\n",
      "Requirement already satisfied: pillow>=8 in c:\\users\\shubh\\desktop\\eth zurich\\sem 3\\cs1 taship\\cs1-notebooks\\.venv\\lib\\site-packages (from matplotlib) (10.4.0)\n",
      "Requirement already satisfied: pyparsing>=2.3.1 in c:\\users\\shubh\\desktop\\eth zurich\\sem 3\\cs1 taship\\cs1-notebooks\\.venv\\lib\\site-packages (from matplotlib) (3.1.4)\n",
      "Requirement already satisfied: python-dateutil>=2.7 in c:\\users\\shubh\\desktop\\eth zurich\\sem 3\\cs1 taship\\cs1-notebooks\\.venv\\lib\\site-packages (from matplotlib) (2.9.0.post0)\n",
      "Requirement already satisfied: comm>=0.1.3 in c:\\users\\shubh\\desktop\\eth zurich\\sem 3\\cs1 taship\\cs1-notebooks\\.venv\\lib\\site-packages (from ipywidgets) (0.2.2)\n",
      "Requirement already satisfied: traitlets>=4.3.1 in c:\\users\\shubh\\desktop\\eth zurich\\sem 3\\cs1 taship\\cs1-notebooks\\.venv\\lib\\site-packages (from ipywidgets) (5.14.3)\n",
      "Requirement already satisfied: widgetsnbextension~=4.0.12 in c:\\users\\shubh\\desktop\\eth zurich\\sem 3\\cs1 taship\\cs1-notebooks\\.venv\\lib\\site-packages (from ipywidgets) (4.0.13)\n",
      "Requirement already satisfied: jupyterlab-widgets~=3.0.12 in c:\\users\\shubh\\desktop\\eth zurich\\sem 3\\cs1 taship\\cs1-notebooks\\.venv\\lib\\site-packages (from ipywidgets) (3.0.13)\n",
      "Requirement already satisfied: decorator in c:\\users\\shubh\\desktop\\eth zurich\\sem 3\\cs1 taship\\cs1-notebooks\\.venv\\lib\\site-packages (from IPython) (5.1.1)\n",
      "Requirement already satisfied: jedi>=0.16 in c:\\users\\shubh\\desktop\\eth zurich\\sem 3\\cs1 taship\\cs1-notebooks\\.venv\\lib\\site-packages (from IPython) (0.19.1)\n",
      "Requirement already satisfied: matplotlib-inline in c:\\users\\shubh\\desktop\\eth zurich\\sem 3\\cs1 taship\\cs1-notebooks\\.venv\\lib\\site-packages (from IPython) (0.1.7)\n",
      "Requirement already satisfied: prompt-toolkit<3.1.0,>=3.0.41 in c:\\users\\shubh\\desktop\\eth zurich\\sem 3\\cs1 taship\\cs1-notebooks\\.venv\\lib\\site-packages (from IPython) (3.0.47)\n",
      "Requirement already satisfied: pygments>=2.4.0 in c:\\users\\shubh\\desktop\\eth zurich\\sem 3\\cs1 taship\\cs1-notebooks\\.venv\\lib\\site-packages (from IPython) (2.18.0)\n",
      "Requirement already satisfied: stack-data in c:\\users\\shubh\\desktop\\eth zurich\\sem 3\\cs1 taship\\cs1-notebooks\\.venv\\lib\\site-packages (from IPython) (0.6.3)\n",
      "Requirement already satisfied: colorama in c:\\users\\shubh\\desktop\\eth zurich\\sem 3\\cs1 taship\\cs1-notebooks\\.venv\\lib\\site-packages (from IPython) (0.4.6)\n",
      "Requirement already satisfied: parso<0.9.0,>=0.8.3 in c:\\users\\shubh\\desktop\\eth zurich\\sem 3\\cs1 taship\\cs1-notebooks\\.venv\\lib\\site-packages (from jedi>=0.16->IPython) (0.8.4)\n",
      "Requirement already satisfied: wcwidth in c:\\users\\shubh\\desktop\\eth zurich\\sem 3\\cs1 taship\\cs1-notebooks\\.venv\\lib\\site-packages (from prompt-toolkit<3.1.0,>=3.0.41->IPython) (0.2.13)\n",
      "Requirement already satisfied: six>=1.5 in c:\\users\\shubh\\desktop\\eth zurich\\sem 3\\cs1 taship\\cs1-notebooks\\.venv\\lib\\site-packages (from python-dateutil>=2.7->matplotlib) (1.16.0)\n",
      "Requirement already satisfied: executing>=1.2.0 in c:\\users\\shubh\\desktop\\eth zurich\\sem 3\\cs1 taship\\cs1-notebooks\\.venv\\lib\\site-packages (from stack-data->IPython) (2.1.0)\n",
      "Requirement already satisfied: asttokens>=2.1.0 in c:\\users\\shubh\\desktop\\eth zurich\\sem 3\\cs1 taship\\cs1-notebooks\\.venv\\lib\\site-packages (from stack-data->IPython) (2.4.1)\n",
      "Requirement already satisfied: pure-eval in c:\\users\\shubh\\desktop\\eth zurich\\sem 3\\cs1 taship\\cs1-notebooks\\.venv\\lib\\site-packages (from stack-data->IPython) (0.2.3)\n"
     ]
    }
   ],
   "source": [
    "%pip install numpy matplotlib scipy ipywidgets control IPython"
   ]
  },
  {
   "cell_type": "markdown",
   "id": "b337a8fb",
   "metadata": {},
   "source": [
    "## Import the packages\n",
    "The following cell imports the required packages. Run it before running the rest of the notebook."
   ]
  },
  {
   "cell_type": "code",
   "execution_count": 8,
   "id": "102c62ee",
   "metadata": {
    "scrolled": true
   },
   "outputs": [],
   "source": [
    "import control as ct\n",
    "import matplotlib.pyplot as plt\n",
    "import numpy as np\n",
    "import math\n",
    "import ipywidgets as widgets\n",
    "from scipy.integrate import odeint\n",
    "from IPython.display import display, clear_output, Math"
   ]
  },
  {
   "cell_type": "markdown",
   "id": "5bd5882a",
   "metadata": {},
   "source": [
    "## 1. Output Response of a Linear System\n",
    "If we want to calculate the output of a LTI system we can seperate the problem into two cases:\n",
    "- **Initial-conditions response:**\n",
    "\n",
    "  $$\n",
    "  \\left\\{\n",
    "  \\begin{array}{ll}\n",
    "  x_{IC}(0) = x_0 \\\\\n",
    "  u_{IC}(t) = 0\n",
    "  \\end{array}\n",
    "  \\right.\n",
    "  \\quad \\longrightarrow \\quad y_{IC};\n",
    "  $$\n",
    "\n",
    "- **Forced response:**\n",
    "\n",
    "  $$\n",
    "  \\left\\{\n",
    "  \\begin{array}{ll}\n",
    "  x_{F}(0) = 0 \\\\\n",
    "  u_{F}(t) = u(t)\n",
    "  \\end{array}\n",
    "  \\right.\n",
    "  \\quad \\longrightarrow \\quad y_{F}.\n",
    "  $$\n",
    "\n",
    "\n",
    "\n",
    "From previous lectures we learned that the definition of linear system is: \n",
    "$$\n",
    "\\Sigma (\\alpha u_a + \\beta u_b) = \\alpha (\\Sigma u_a) + \\beta (\\Sigma u_b) = \\alpha y_a + \\beta y_b\n",
    "$$\n",
    "and we also know that due to causality the  system can be summarised by a state $x(t)$.\n",
    "Because of these properties, the output of an linear  system can be expressed as: $$y = y_{IC}+y_{F}$$"
   ]
  },
  {
   "cell_type": "markdown",
   "id": "90be0c8b",
   "metadata": {},
   "source": [
    "### 1.1 Example: Output Response of a Scalar Linear System\n",
    "As an example of a scalar linear system,let us consider a room with temperatur $T(t)$, inital Temperatur of the room $T_0$ and thermal capacity C. The zemperatur outside is $T_{amb}$ and the room gets heated with power P(t) and loses heat given by the eqution $G(T(t) - T_{amb})$ where $G$ is the thermal conductance. The system is described by the following formula from Thermodynamics: $$C \\frac{dT(t)}{dt} + G \\left(T(t) - T_{\\text{ambient}}\\right) = P(t)$$\n",
    "\n",
    "\n",
    "![Image Title](./media/sys4iofo.png)\n",
    "\n",
    "\n",
    "We choose $T(t)$ as our state and $P(t)$ as our input:\n",
    "$$y(t) = x(t) = T(t)$$\n",
    "$$u(t) = P(t)$$\n",
    "$$\\dot{x}(t) = \\frac{-G}{C} x(t) + \\frac{1}{C} u(t) + \\frac{G T_{\\text{amb}}}{C}$$\n",
    "\\\n",
    "Since its winter we assume $T_{amb}$ is 0. This gives us the following describtion in the state space model:\n",
    "$$a=-G/C$$\n",
    "$$b = 1/C$$\n",
    "$$c = 1$$\n",
    "$$d = 0$$\n",
    "\n"
   ]
  },
  {
   "cell_type": "code",
   "execution_count": 3,
   "id": "daf9c53a",
   "metadata": {
    "scrolled": true
   },
   "outputs": [],
   "source": [
    "#initalise the system\n",
    "\n",
    "# Define a time vector\n",
    "time = np.linspace(0, 20, 500)\n",
    "\n",
    "#Define the param\n",
    "C = 2\n",
    "G = 3\n",
    "\n",
    "# Define state-space system\n",
    "def create_system(G, C):\n",
    "    A = -G / C\n",
    "    B = 1 / C\n",
    "    C_matrix = 1\n",
    "    D = 0\n",
    "    return ct.StateSpace(A, B, C_matrix, D)\n",
    "\n",
    "# func for generating input\n",
    "def generate_input(input_type, time_vector):\n",
    "    if input_type == 'Constant':\n",
    "        return np.full_like(time_vector, forced_input_slider.value)\n",
    "    elif input_type == 'Ramp (5s)':\n",
    "        ramp_duration = 5\n",
    "        ramp_input = np.clip(np.linspace(0, forced_input_slider.value, int(ramp_duration / time[1])),\n",
    "                              0, None)\n",
    "        constant_input = np.full_like(time_vector[int(ramp_duration / time[1]):], forced_input_slider.value)\n",
    "        return np.concatenate((ramp_input, constant_input))\n",
    "    elif input_type == 'Ramp (15s)':\n",
    "        ramp_duration = 15\n",
    "        ramp_input = np.clip(np.linspace(0, forced_input_slider.value, int(ramp_duration / time[1])),\n",
    "                              0, None)\n",
    "        constant_input = np.full_like(time_vector[int(ramp_duration / time[1]):], forced_input_slider.value)\n",
    "        return np.concatenate((ramp_input, constant_input))\n",
    "    elif input_type == 'Sinusoidal':\n",
    "        return forced_input_slider.value * np.sin(0.5 * np.pi * time_vector)  # Frequency can be adjusted"
   ]
  },
  {
   "cell_type": "markdown",
   "id": "3be13ddd",
   "metadata": {},
   "source": [
    "### 1.2 Inital Condition Response\n",
    "To get the inital condition response for the system we need to solve the following ODE;\n",
    "$$\n",
    "\\dot{x}_{IC}(t) = a*x(t)_{IC}, \n",
    "$$\n",
    "$$\n",
    "y(t)_{IC}=cx(t)_{IC}\n",
    "$$\n",
    "$$\n",
    "x(0) = x_0\n",
    "$$\n",
    "\n",
    "The general solution is known from Analysis :\n",
    "$$\n",
    "x(t)_{IC} = e^{at}T_0\n",
    "$$\n",
    "\n",
    "$$\n",
    "y(t)_{IC} = ce^{at}T_0\n",
    "$$\n",
    "For our specific problem we get:\n",
    "$$\n",
    "y(t)_{IC} = e^{\\frac{-G}{C}}T_0\n",
    "$$"
   ]
  },
  {
   "cell_type": "code",
   "execution_count": 4,
   "id": "13228892",
   "metadata": {
    "scrolled": false
   },
   "outputs": [
    {
     "data": {
      "image/png": "[encoded data removed]",
      "text/plain": [
       "<Figure size 2000x1000 with 1 Axes>"
      ]
     },
     "metadata": {},
     "output_type": "display_data"
    },
    {
     "data": {
      "application/vnd.jupyter.widget-view+json": {
       "model_id": "c097502334984204b5e3551c4a678a40",
       "version_major": 2,
       "version_minor": 0
      },
      "text/plain": [
       "FloatSlider(value=1.0, description='G:', max=5.0, min=0.1)"
      ]
     },
     "metadata": {},
     "output_type": "display_data"
    },
    {
     "data": {
      "application/vnd.jupyter.widget-view+json": {
       "model_id": "0c5530c5cd4649d29838cbfa2ed86b29",
       "version_major": 2,
       "version_minor": 0
      },
      "text/plain": [
       "FloatSlider(value=1.0, description='C:', max=5.0, min=0.1)"
      ]
     },
     "metadata": {},
     "output_type": "display_data"
    },
    {
     "data": {
      "application/vnd.jupyter.widget-view+json": {
       "model_id": "f4e71422127a4f57b06d2afded50505d",
       "version_major": 2,
       "version_minor": 0
      },
      "text/plain": [
       "FloatSlider(value=1.0, description='T0:', max=40.0, min=-15.0)"
      ]
     },
     "metadata": {},
     "output_type": "display_data"
    },
    {
     "data": {
      "text/latex": [
       "$\\displaystyle y(t) = e^{\\frac{-1.0}{1.0}} {1.0}$"
      ],
      "text/plain": [
       "<IPython.core.display.Math object>"
      ]
     },
     "metadata": {},
     "output_type": "display_data"
    }
   ],
   "source": [
    "def update_plot_ic(t_0):\n",
    "    clear_output(wait=True)  # Clear previous output\n",
    "    system = create_system(G_slider.value, C_slider.value)  \n",
    "    plt.figure(figsize=(20, 10))\n",
    "    \n",
    "    # Simulate the response to the current initial condition\n",
    "    t, y = ct.initial_response(system, T=time, X0=[t_0])\n",
    "    \n",
    "    # Plot the responses\n",
    "    plt.plot(t, y, label='Inital Response', color='blue')\n",
    "    plt.title('System Response to Initial Condition')\n",
    "    plt.xlabel('Time')\n",
    "    plt.ylabel('Temperature')\n",
    "    plt.grid()\n",
    "    plt.legend()\n",
    "    plt.show()\n",
    "    \n",
    "    formula = f\"y(t) = e^{{\\\\frac{{-{G_slider.value}}}{{{C_slider.value}}}}} {{{t_0}}}\"\n",
    "    # Display sliders and dropdown again\n",
    "    display(G_slider, C_slider, t_0_slider)\n",
    "    display(Math(formula))\n",
    "    \n",
    "G_slider = widgets.FloatSlider(value=1.0, min=0.1, max=5.0, step=0.1, description='G:')\n",
    "C_slider = widgets.FloatSlider(value=1.0, min=0.1, max=5.0, step=0.1, description='C:')\n",
    "t_0_slider = widgets.FloatSlider(value=1.0, min=-20, max=20, step=0.5, description='T0:')\n",
    "\n",
    "# Observers for the sliders and dropdown\n",
    "G_slider.observe(lambda change: update_plot_ic(t_0_slider.value), names='value')\n",
    "C_slider.observe(lambda change: update_plot_ic(t_0_slider.value), names='value')\n",
    "t_0_slider.observe(lambda change: update_plot_ic(t_0_slider.value), names='value')\n",
    "\n",
    "# Display sliders and initial plot\n",
    "display(G_slider, C_slider, t_0_slider)\n",
    "update_plot_ic(t_0_slider.value)\n",
    "\n",
    "\n"
   ]
  },
  {
   "cell_type": "markdown",
   "id": "14fa3469",
   "metadata": {},
   "source": [
    "### 1.2 Forced Response\n",
    "\n",
    "The forced response, which was derived in the lecture with $u(t) \\neq 0$ and $x_0 = 0$ is:\n",
    "$$ x_{FC}=\\int_{0}^{t}e^{a\\cdot (t-\\tau )}bu(\\tau )d\\tau $$\n",
    "$$  y_{FC}=\\int_{0}^{t}e^{a\\cdot (t-\\tau )}bu(\\tau )d\\tau + du(t)$$"
   ]
  },
  {
   "cell_type": "code",
   "execution_count": 5,
   "id": "76da5dff",
   "metadata": {
    "scrolled": false
   },
   "outputs": [
    {
     "data": {
      "image/png": "[encoded data removed]",
      "text/plain": [
       "<Figure size 2000x1000 with 1 Axes>"
      ]
     },
     "metadata": {},
     "output_type": "display_data"
    },
    {
     "data": {
      "application/vnd.jupyter.widget-view+json": {
       "model_id": "c097502334984204b5e3551c4a678a40",
       "version_major": 2,
       "version_minor": 0
      },
      "text/plain": [
       "FloatSlider(value=1.0000000000000002, description='G:', max=5.0, min=0.1)"
      ]
     },
     "metadata": {},
     "output_type": "display_data"
    },
    {
     "data": {
      "application/vnd.jupyter.widget-view+json": {
       "model_id": "0c5530c5cd4649d29838cbfa2ed86b29",
       "version_major": 2,
       "version_minor": 0
      },
      "text/plain": [
       "FloatSlider(value=1.0000000000000002, description='C:', max=5.0, min=0.1)"
      ]
     },
     "metadata": {},
     "output_type": "display_data"
    },
    {
     "data": {
      "application/vnd.jupyter.widget-view+json": {
       "model_id": "f4e71422127a4f57b06d2afded50505d",
       "version_major": 2,
       "version_minor": 0
      },
      "text/plain": [
       "FloatSlider(value=1.0000000000000036, description='T0:', max=40.0, min=-15.0)"
      ]
     },
     "metadata": {},
     "output_type": "display_data"
    },
    {
     "data": {
      "application/vnd.jupyter.widget-view+json": {
       "model_id": "f9e1e321f29f49d584d3b714b3f5c94d",
       "version_major": 2,
       "version_minor": 0
      },
      "text/plain": [
       "FloatSlider(value=1.0, description='Input:', max=30.0, step=0.5)"
      ]
     },
     "metadata": {},
     "output_type": "display_data"
    },
    {
     "data": {
      "application/vnd.jupyter.widget-view+json": {
       "model_id": "dac45affb8a64b24806bf57594e1a3cb",
       "version_major": 2,
       "version_minor": 0
      },
      "text/plain": [
       "Dropdown(description='Input Type:', index=1, options=('Constant', 'Ramp (5s)', 'Ramp (15s)', 'Sinusoidal'), va…"
      ]
     },
     "metadata": {},
     "output_type": "display_data"
    },
    {
     "data": {
      "application/vnd.jupyter.widget-view+json": {
       "model_id": "d5d3a7cd037d494f80d936aa81f14eb1",
       "version_major": 2,
       "version_minor": 0
      },
      "text/plain": [
       "ToggleButton(value=False, description='Show Initial Response')"
      ]
     },
     "metadata": {},
     "output_type": "display_data"
    },
    {
     "data": {
      "application/vnd.jupyter.widget-view+json": {
       "model_id": "49179b5ec57343e8982728e0e1ac1740",
       "version_major": 2,
       "version_minor": 0
      },
      "text/plain": [
       "ToggleButton(value=False, description='Show Total Response')"
      ]
     },
     "metadata": {},
     "output_type": "display_data"
    }
   ],
   "source": [
    "# Function to update the plot\n",
    "def update_plot_fc(t_0, input_type, show_initial_response, show_total_response):\n",
    "    clear_output(wait=True)  \n",
    "    system = create_system(G_slider.value, C_slider.value)  \n",
    "    \n",
    "    plt.figure(figsize=(20, 10))\n",
    "\n",
    "    # Simulate the response to the current initial condition\n",
    "    t, initial_response = ct.initial_response(system, T=time, X0=[t_0])\n",
    "    \n",
    "    # Generate the forced input\n",
    "    input_fc = generate_input(input_type, time)\n",
    "    \n",
    "    # Use control's forced_response to get output for the input signal\n",
    "    t, forced_response = ct.forced_response(system, T=time, U=input_fc)\n",
    "    \n",
    "    # Total response\n",
    "    total_response = initial_response + forced_response\n",
    "    \n",
    "    # Plot the forced input response\n",
    "    plt.plot(t, forced_response, label='Forced Output', color='red')\n",
    "    plt.plot(t, input_fc, label='Forced Input', color='orange', linestyle='--')\n",
    "    # Plot initial response only if the toggle is on\n",
    "    if show_initial_response:\n",
    "        plt.plot(t, initial_response, label='Initial Response', color='green')\n",
    "        \n",
    "    # Plot total response only if the toggle is on\n",
    "    if show_total_response:\n",
    "        plt.plot(t, total_response, label='Total Response', color='blue')\n",
    "\n",
    "    plt.title('System Response')\n",
    "    plt.xlabel('Time (s)')\n",
    "    plt.ylabel('Temperature')\n",
    "    plt.grid()\n",
    "    plt.legend()\n",
    "    plt.show()\n",
    "\n",
    "    # Display sliders and dropdown again\n",
    "    display(G_slider, C_slider, t_0_slider, forced_input_slider, \n",
    "            input_type_dropdown, show_initial_response_button, \n",
    "            show_total_response_button)\n",
    "\n",
    "\n",
    "# Create sliders for G, C, t_0, and a dropdown for input type\n",
    "G_slider = widgets.FloatSlider(value=1.0, min=0.1, max=5.0, step=0.1, description='G:')\n",
    "C_slider = widgets.FloatSlider(value=1.0, min=0.1, max=5.0, step=0.1, description='C:')\n",
    "t_0_slider = widgets.FloatSlider(value=1.0, min=-15.0, max=40.0, step=0.1, description='T0:')\n",
    "forced_input_slider = widgets.FloatSlider(value=1.0, min=0, max=30.0, step=0.5, description='Input:')\n",
    "input_type_dropdown = widgets.Dropdown(\n",
    "    options=['Constant', 'Ramp (5s)', 'Ramp (15s)', 'Sinusoidal'],\n",
    "    value='Ramp (5s)',\n",
    "    description='Input Type:'\n",
    ")\n",
    "\n",
    "# Create toggle buttons for showing the initial response and total response\n",
    "show_initial_response_button = widgets.ToggleButton(\n",
    "    value=False,\n",
    "    description='Show Initial Response',\n",
    "    button_style='',  \n",
    ")\n",
    "\n",
    "show_total_response_button = widgets.ToggleButton(\n",
    "    value=False,\n",
    "    description='Show Total Response',\n",
    "    button_style='',\n",
    ")\n",
    "\n",
    "# Observers for the sliders, dropdown, and toggle buttons\n",
    "G_slider.observe(lambda change: update_plot_fc(t_0_slider.value, input_type_dropdown.value, \n",
    "                                                show_initial_response_button.value, \n",
    "                                                show_total_response_button.value), names='value')\n",
    "C_slider.observe(lambda change: update_plot_fc(t_0_slider.value, input_type_dropdown.value, \n",
    "                                                show_initial_response_button.value, \n",
    "                                                show_total_response_button.value), names='value')\n",
    "t_0_slider.observe(lambda change: update_plot_fc(change['new'], input_type_dropdown.value, \n",
    "                                                   show_initial_response_button.value, \n",
    "                                                   show_total_response_button.value), names='value')\n",
    "forced_input_slider.observe(lambda change: update_plot_fc(t_0_slider.value, input_type_dropdown.value, \n",
    "                                                           show_initial_response_button.value, \n",
    "                                                           show_total_response_button.value), names='value')\n",
    "input_type_dropdown.observe(lambda change: update_plot_fc(t_0_slider.value, change['new'], \n",
    "                                                           show_initial_response_button.value, \n",
    "                                                           show_total_response_button.value), names='value')\n",
    "show_initial_response_button.observe(lambda change: update_plot_fc(t_0_slider.value, \n",
    "                                                                  input_type_dropdown.value, \n",
    "                                                                  change['new'], \n",
    "                                                                  show_total_response_button.value), names='value')\n",
    "show_total_response_button.observe(lambda change: update_plot_fc(t_0_slider.value, \n",
    "                                                                 input_type_dropdown.value, \n",
    "                                                                 show_initial_response_button.value, \n",
    "                                                                 change['new']), names='value')\n",
    "\n",
    "# Display sliders and initial plot\n",
    "display(G_slider, C_slider, t_0_slider, forced_input_slider, \n",
    "        input_type_dropdown, show_initial_response_button, \n",
    "        show_total_response_button)\n",
    "update_plot_fc(t_0_slider.value, input_type_dropdown.value, \n",
    "                show_initial_response_button.value, \n",
    "                show_total_response_button.value)\n"
   ]
  },
  {
   "cell_type": "markdown",
   "id": "5837ec43",
   "metadata": {},
   "source": [
    "## 2 Output Response of General Linear System\n",
    "\n",
    "For a system, which is not scalar, we need to compute the matrix exponential.\n",
    "The definition of our matrix exponential $e^{At}$ is:\n",
    "$$\\frac{de^{At}}{dt}=Ae^{At}=e^{At}A$$\n",
    "We achive our definition with the following:\n",
    "$$e^{At}=I+At+\\frac{1}{2}(At)^{2}+...+\\frac{1}{n!}(At)^{n}$$\n",
    "\n",
    "In python we can use the function `numpy.exp(A)`.\n",
    "\n",
    "\n",
    "\n",
    "### 2.1 Diagonalization and Jordan Forms\n",
    "To make our life easier, when calculating the matrix expontential by hand, we want to bring the matrix A into the Diagonal or Jordan form. The solution in these forms looks like this:  \n",
    "\n",
    "\n",
    "\n",
    "In Diagnonal Form:\n",
    "$$\n",
    "D = \\begin{pmatrix} \\lambda_1 t & 0 \\\\ 0 & \\lambda_2 t \\end{pmatrix}\n",
    "$$\n",
    "\n",
    "\n",
    "$$\n",
    "e^{D} = \\begin{pmatrix} e^{\\lambda_1 t} & 0 \\\\ 0 & e^{\\lambda_2 t} \\end{pmatrix}\n",
    "$$\n",
    "\n",
    "\n",
    "In Jordan Form:\n",
    "$$\n",
    "J = \\begin{pmatrix} \\lambda t & 1t \\\\ 0 & \\lambda t \\end{pmatrix}\n",
    "$$\n",
    "\n",
    "\n",
    "$$\n",
    "e^{J} =  \\begin{pmatrix} e^{\\lambda t} & e^{\\lambda t} \\\\ 0 & e^{\\lambda t} \\end{pmatrix}\n",
    "$$\n",
    "\n",
    "### 2.2 Similarity Transformiations\n",
    "We can use the fact that the choice of a state space model is not unique for a system to transform it to a more suitable form for caclulating the matrix exponential by hand. One method to do that is to use similarity transforms.  $A$ and $\\tilde{A}$ are called similiar if there exists an invertible matrix $T$ such that $$ \\tilde{A} =  T^{-1}AT$$. If we transform the matrices from our state-space model $(A,B,C,D)$ to $(\\tilde{A},\\tilde{B},\\tilde{C},\\tilde{D})$, the time response and the eigenvalues stay the same. Using the similarity transform $x = T \\tilde{x}$ and $\\tilde{x} = T^{-1}x$\n",
    "\n",
    "$$\n",
    "\\begin{cases}\n",
    "\\dot{x} = Ax + Bu, \\\\\n",
    "y = Cx + Du.\n",
    "\\end{cases}\n",
    "\\quad\n",
    "$$\n",
    "\n",
    "we get\n",
    "\n",
    "$$\n",
    "\\begin{cases}\n",
    "\\dot{\\tilde{x}} = (T^{-1} A T) \\tilde{x} + (T^{-1} B) u = \\tilde{A} \\tilde{x} + \\tilde{B} u, \\\\\n",
    "y = (CT) \\tilde{x} + Du = \\tilde{C} \\tilde{x} + \\tilde{D} u.\n",
    "\\end{cases}\n",
    "$$\n",
    "\n",
    "To diagnolise $A$, we chose the matrix $T$ whose columns are the eigenvector of A.\n",
    "\n",
    "#### 2.2.1 Example\n",
    "We have a state space model with the following matrices.\n",
    "$$\\begin{array}{c} A = \\begin{bmatrix} 0 & 1 \\\\ -2 & -3 \\end{bmatrix}, \\quad B = \\begin{bmatrix} 0 \\\\ 1 \\end{bmatrix}, \\quad C = \\begin{bmatrix} 1 & 0 \\end{bmatrix}, \\quad D = 0, \\quad x(0) =  \\begin{bmatrix} 2 \\\\ 3 \\end{bmatrix} \\end{array}$$\n",
    "To find the Eigenvalues of A we solve: $$\\det(A - \\lambda I) = 0$$\n",
    "which gives us the Eigenvalues $\\lambda_{1}  = -1$ and $\\lambda_{2} = -2$.\n",
    "\n",
    "We solve $$(A - \\lambda I)v = 0$$ to get us the Eigenvectors $ \\begin{bmatrix}\n",
    "1 \\\\ -1\n",
    "\\end{bmatrix}$ and $\\begin{bmatrix}\n",
    "-1 \\\\ 2\n",
    "\\end{bmatrix}$\n",
    "which gives us the matrix $ T = \\begin{bmatrix}\n",
    "1 &  -1\\\\\n",
    "-1 &  2\\\\\n",
    "\\end{bmatrix}\n",
    "$. We apply the similarity transform to our matrices.\n",
    "\n",
    "\n",
    "$$\\tilde{A} = T^{-1} A T = \\begin{bmatrix} -1 & 0 \\\\ 0 & -2 \\end{bmatrix} $$\n",
    "$$\\tilde{B} = T^{-1} B = \\begin{bmatrix} 1 \\\\ 1 \\end{bmatrix} $$\n",
    "$$\\tilde{C} = C T = \\begin{bmatrix} 1 & -1 \\end{bmatrix}$$\n",
    "$$\\tilde{x}_0 = T^{-1}x_0 = \\begin{bmatrix} 7 \\\\ 5 \\end{bmatrix}$$\n",
    "The entries in the diagonal matrix $\\tilde{A}$ are the eigenvalues of our matrix $A$. \n",
    "Our transformed state response due to inital conidition is $\\tilde{x}(t) = e^{\\tilde{A}t}\\tilde{x}_{0}$ \n",
    "$$\\begin{bmatrix}\n",
    "\\tilde{x}_1 \\\\ \\tilde{x}_2 \n",
    "\\end{bmatrix} = \\begin{bmatrix}\n",
    "e^{-1t} &  0\\\\ 0\n",
    "&  e^{-2t}\\\\ \n",
    "\\end{bmatrix}\\begin{bmatrix} 7 \\\\ 5 \\end{bmatrix}$$\n",
    "We can generalise our state by, because we an express $x_0$ as a linear combination with the eigenvector $v_i$ as a basis.\n",
    "$$x(t) = \\sum_{i=1}^{n} e^{\\lambda_i t} \\tilde{x}_i(0) v_i$$\n",
    "The general solution to the inital condition if the eigenvalues are real can be expressed as a linear combination in the form:\n",
    "$$y(t) = Ce^{At}x_{0}= c_{1}e^{\\lambda_1 t}x_{0,1} + c_{2}e^{\\lambda_2 t}x_{0,2}$$\n",
    "\n"
   ]
  },
  {
   "cell_type": "markdown",
   "id": "db06267c",
   "metadata": {},
   "source": [
    "### 2.3 Quick Recap about the euler formula\n",
    "\n",
    "For this course its important to rember the euler formula:\n",
    "\n",
    "$$e^{i\\phi} = \\cos \\phi + i \\sin \\phi$$\n",
    "\n",
    "The euler formula helps us to view complex numbers as exponentials and make the math easier to navigate. Due to this a lot of nice properties of the exponentials can be used when dealing with complex numbers."
   ]
  },
  {
   "cell_type": "code",
   "execution_count": 6,
   "id": "3a1430c7",
   "metadata": {
    "scrolled": false
   },
   "outputs": [
    {
     "data": {
      "application/vnd.jupyter.widget-view+json": {
       "model_id": "d74b87d988cc4b0fafedefea336b6f1a",
       "version_major": 2,
       "version_minor": 0
      },
      "text/plain": [
       "interactive(children=(FloatSlider(value=0.0, description='φ (radians)', max=6.283185307179586), Output()), _do…"
      ]
     },
     "execution_count": 6,
     "metadata": {},
     "output_type": "execute_result"
    }
   ],
   "source": [
    "def update_plot_img(phi):\n",
    "    plt.figure(figsize=(8, 8))\n",
    "    \n",
    "    # Create unit circle\n",
    "    circle = plt.Circle((0, 0), 1, color='blue', fill=False, linestyle='dotted')\n",
    "    \n",
    "    fig, ax = plt.subplots()\n",
    "    ax.add_artist(circle)\n",
    "\n",
    "    x = np.cos(phi)\n",
    "    y = np.sin(phi)\n",
    "\n",
    "    # Plotting the point on the unit circle\n",
    "    ax.plot([0, x], [0, y], color='red', linewidth=2, label='Radius: e^{iφ}')\n",
    "    ax.plot(x, y, 'ro')  # Point on the circle\n",
    "\n",
    "    # Plot the cosine and sine functions\n",
    "    t = np.linspace(0, 2 * np.pi, 100)\n",
    "    ax.plot([0, math.cos(phi)], [0, 0], color='green', linestyle='--', linewidth=2, label='cos')\n",
    "    ax.plot([0, 0], [0, math.sin(phi)], color='blue', linestyle='--', linewidth=2, label='sin')\n",
    "    # Formatting the plot\n",
    "    ax.set_xlim(-1.5, 1.5)\n",
    "    ax.set_ylim(-1.5, 1.5)\n",
    "    ax.axhline(0, color='black', linewidth=0.5, ls='--')\n",
    "    ax.axvline(0, color='black', linewidth=0.5, ls='--')\n",
    "    ax.set_aspect('equal', 'box')\n",
    "    ax.set_title(f'$e^{{i{phi:.2f}}} = \\\\cos({phi:.2f}) + i\\\\sin({phi:.2f})$', fontsize=14)\n",
    "    ax.legend()\n",
    "    plt.grid()\n",
    "    plt.show()\n",
    "\n",
    "phi_slider = widgets.FloatSlider(value=0, min=0, max=2 * np.pi, step=0.1, description='φ (radians)')\n",
    "widgets.interactive(update_plot_img, phi=phi_slider)\n"
   ]
  },
  {
   "cell_type": "markdown",
   "id": "4114894e",
   "metadata": {},
   "source": [
    "## 3. Stability\n",
    "\n",
    "The notion of stability is central in the study of control theory. The core idea behind stability is that the system should not behave abruptly. The response of the system should be controlled and predictible. Many notions of how to define stability exist.    \n",
    "\n",
    "1. **Lyapnuov Stability**: A system is called stable in the sense of Lyapunov if, for any initial condition bounded by $\\epsilon$, the ouput of the system is remains bounded by $\\delta$ for zero input.\n",
    "$$ \n",
    "    ||x(0)||\\leq\\epsilon\\;,\\; u(t) = 0 \\implies ||x(t)||\\leq\\delta\\;\\forall\\; t\\geq 0\n",
    "$$\n",
    "This basically says, if you start close enough to the equillibrium point you can never go too far from it.\n",
    "\n",
    "2. **Asymptotically stable**: A system is called locally asymptotically stable if for any initial condition bounded by $\\epsilon$ the system \n",
    "(state) converges to origin as time progresses\n",
    "$$\n",
    "    ||x(0)||\\leq\\epsilon\\;,\\;u(t) = 0 \\; \\implies\\; \\lim_{t\\rightarrow\\infty}||x(t)|| = 0\n",
    "$$\n",
    "This basically goes a step further than lyapunov stability and says that the system not only does not go too far, but also slowly approaches the equillibrium point.  \n",
    "If this condiiton is satisfied for all possible intial conditions, the systenm is called *gloablly asymptotically stable*.\\\n",
    "\n",
    "Up unitl now for stability, we have considered systems without input. We can also define stability of systems with input.  \n",
    "3. ****BIBO stability**: A system is called *Bounded Input Bounded Output stable*, if for any bounded input the system will produce an bounded output\n",
    "$$ \n",
    "    ||u(t)||\\leq\\epsilon\\:\\forall\\;t\\geq 0\\;,\\: x_0=0\\;\\implies||y(t)||\\leq\\delta\\:\\forall\\;t\\geq 0\n",
    "$$\n"
   ]
  },
  {
   "cell_type": "markdown",
   "id": "ac1984e6",
   "metadata": {},
   "source": [
    "### 3.1 Conditions For stability\n",
    "Now that the notions of stability are known, Lets look into how can we check for them.\n",
    "For a general system\n",
    "$$\n",
    "    \\dot{x} = f(x,u)\n",
    "    y = h(x,u)\n",
    "$$\n",
    "The stability can be checked using the linearised system.   \n",
    "*If the linearised system of a general systemaround the equillibrium point is stable, the non-linear system is **locally** stable around that equillibrium point*.  \n",
    "The stability being *local* can be understood by the fact that the linearised system only mimics the actual system locally or close to the equillibrium point.  \n",
    "\n",
    "To check stability for the linear system,  \n",
    "For a given LTI system\n",
    "$$\n",
    "    \\dot{x} = Ax + Bu \\\\\n",
    "    y = Cx + Du\n",
    "$$\n",
    "\n",
    "Stability is determined by the matrix $A$  (here a trivial assumption is that the matrices $B,C,D$ have all finite values). The conditions for stability are as follows, $\\lambda_i$ denoting the eigenvalues of $A$:\n",
    "1. If $A$ is diagonalisable $\\implies$ Lyapunov stable if $Re(\\lambda_i)\\leq 0$,   Asymptotically stable if $Re(\\lambda_i)<0$  for all $i$\n",
    "2. If $A$ is not diagonalisable $\\implies$ Lyapunov stable if $Re(\\lambda_i)\\leq 0$ for all $i$, and no repeated eigenvalues with 0 real part"
   ]
  },
  {
   "cell_type": "markdown",
   "id": "6b373b66",
   "metadata": {},
   "source": [
    "TODO: Add exmples for diff stability types in the from of graphs"
   ]
  },
  {
   "cell_type": "markdown",
   "id": "b1cb7e73",
   "metadata": {},
   "source": [
    "### 3.2 Example: Pendulum Stability\n",
    "\n",
    "The equations for a pendulum can be derived as follows using Newtonian Mechanics:\n",
    "$$\n",
    "    \\ddot{\\theta} +\\frac{g}{l}sin(\\theta) = 0\n",
    "$$\n",
    "\n",
    "This equation can be converted to the standard state-space form considering the following state vector:\n",
    "$$\n",
    "    x = \\begin{bmatrix} x_1 \\\\ x_2\\end{bmatrix} = \\begin{bmatrix} \\theta\\\\\\dot{\\theta}\\end{bmatrix}\n",
    "$$\n",
    "Using this the state space equations are:\n",
    "$$\n",
    "    \\dot{x} = \\begin{bmatrix} \\dot{x_1} \\\\ \\dot{x_2}\\end{bmatrix} = \\begin{bmatrix} \\dot{\\theta|}\\\\\\ddot{\\theta}\\end{bmatrix} = \\begin{bmatrix} x_2 \\\\ -\\frac{g}{l}sin(x_1)\\end{bmatrix}\n",
    "$$\n",
    "\n",
    "The equillibrium points for the system can be found using $\\dot{x} = 0$, which comes out to be \n",
    "$$\n",
    "    sin(x_1) = sin(\\theta) = 0 \\\\\n",
    "    \\implies \\theta = n\\pi\\; \\forall \\; n = \\{0, \\pm 1,\\pm 2,\\pm 3, \\pm 4,\\ldots \\}\n",
    "$$\n",
    "\n",
    "On a closer look, we can see that these are essentially just two equillibrium points, being repeated with a $2\\pi$ rotation. The two equillibria being at the bottom ($x_1 = 0$) and the vertical top ($x_1 = \\pi$)\n",
    "\n",
    "Linearising the system around these two equillibrium points we get:"
   ]
  },
  {
   "cell_type": "code",
   "execution_count": null,
   "id": "9f094b45",
   "metadata": {},
   "outputs": [],
   "source": [
    "#TODO: Add both pendulum linear systems and graphs for output of the system behavious and linear syst behaviour"
   ]
  },
  {
   "cell_type": "markdown",
   "id": "a73173c5",
   "metadata": {},
   "source": [
    "## 4. Spring and Pendulum System\n",
    "\n",
    "Continuing from the notebook, we will take a deeper look into the srping and pendulum system shown below."
   ]
  },
  {
   "cell_type": "markdown",
   "id": "62194797",
   "metadata": {},
   "source": [
    "To refresh your memory,\n",
    "\n",
    "Consider a pendulum that is mounted to a wall and connected to a horizontal spring as shown in Figure \\ref{fig:eng_diag}.\n",
    "Let $l$ be the length of the pendulum, $J$ its moment of inertia, $m$ its mass, and let $\\lambda$ represent the damping constant of the pendulum acting at the pivot (damped rotation due to friction).\n",
    "\n",
    "Further, let $k$ represent the spring constant of the spring, and denote by $a$ the distance to the pivot of the point that connects the spring and the pendulum. Assume the spring to be relaxed at $\\varphi =0$.\n",
    "The system is actuated by an external force $F(t)$ which acts at a right angle to the pendulum.\n",
    "There is a sensor measuring the angle $\\varphi$ which we assume to be limited to $\\varphi(t)\\in\\left(-\\frac{\\pi}{2},\\frac{\\pi}{2}\\right)$.\n",
    "\n",
    "<div style=\"text-align:center;\">\n",
    "    <img src=\"./media/pendel.png\" alt=\"Block Diagram\" width=\"400\">\n",
    "</div>"
   ]
  },
  {
   "cell_type": "markdown",
   "id": "8f0a78d6",
   "metadata": {},
   "source": [
    "### 4.1 Modelling System Dynamics\n",
    "The differential equation governing the dynamics of the above described system is assumed to be given by\n",
    "\n",
    "$$J  \\cdot\\ddot{\\varphi}(t) = -l \\cdot m \\cdot g  \\cdot \\sin \\varphi(t) - \\frac{a^2 \\cdot k}{2} \\cdot \\sin 2\\varphi(t) - \\lambda \\cdot \\dot{\\varphi}(t) + l\\cdot F(t).$$\n",
    "\n",
    "Further, let the system parameters be\n",
    "$$\n",
    "\\begin{array}{rcl}\n",
    "l &=& 1\\text{ m}\\\\[0.2em]\n",
    "m &=& 1\\text{ kg}\\\\[0.2em]\n",
    "g &=& 10\\text{ m/s}^2\\\\[0.2em]\n",
    "a &=& 0.5\\text{ m}\\\\[0.2em]\n",
    "k &=& 10\\text{ N/m}\\\\[0.2em]\n",
    "\\lambda &=& 3\\text{ Nms/rad}\\\\[0.2em]\n",
    "J &=& 1\\text{ Nms}^2\\text{/rad}\\\\[0.2em]\n",
    "\\end{array}\n",
    "$$\n",
    "The initial conditions at $t=0$ are assumed to be such that pendulum is at angle $\\varphi=0$ with angular velocity $\\dot \\varphi =0$."
   ]
  },
  {
   "cell_type": "markdown",
   "id": "9984328f",
   "metadata": {},
   "source": [
    "Choosing the state vector $x(t) = \\begin{bmatrix} x_1(t) \\\\ x_2(t) \\end{bmatrix} = \\begin{bmatrix} \\varphi(t) \\\\ \\dot \\varphi(t) \\end{bmatrix}$, the input vector $u(t) = F(t)$, and the output vector $y(t) = \\varphi(t)$, the system can be represented in state-space form as follows:\n",
    "\n",
    "$$\n",
    "\\begin{array}{rcl}\n",
    "\\dot{x}(t) &=& \\begin{bmatrix} x_2(t) \\\\ \\frac{-l \\cdot m \\cdot g  \\cdot \\sin x_1(t) - \\frac{a^2 \\cdot k}{2} \\cdot \\sin 2x_1(t) - \\lambda \\cdot x_2(t) + l\\cdot u(t)}{J} \\end{bmatrix}\\\\\n",
    "y(t) &=& x_1(t)\n",
    "\\end{array}\n",
    "$$"
   ]
  },
  {
   "cell_type": "markdown",
   "id": "451b606f",
   "metadata": {},
   "source": [
    "### 4.2 Lineaarisation\n",
    "We can linearize the system around an equilibrium point. In this case, we will linearize it around the equilibrium point $\\varphi = 0$, $\\dot \\varphi = 0$ and $F(t) = 0$.\n",
    "\n",
    "The linearized system is given by:\n",
    "\n",
    "$$\n",
    "\\begin{array}{rcl}\n",
    "\\dot{x}(t) &=& \\begin{bmatrix} 0 & 1 \\\\ -\\frac{l \\cdot m \\cdot g + a^2 \\cdot k}{J} & -\\frac{\\lambda}{J} \\end{bmatrix} x(t) + \\begin{bmatrix} 0 \\\\ \\frac{l}{J} \\end{bmatrix} u(t) \\\\[0.5em]\n",
    "y(t) &=& \\begin{bmatrix} 1 & 0 \\end{bmatrix} x(t)\n",
    "\\end{array}\n",
    "$$\n"
   ]
  },
  {
   "cell_type": "markdown",
   "id": "e7c04c0b",
   "metadata": {},
   "source": [
    "#### 4.2.1 System Stability (Without Control Input)"
   ]
  },
  {
   "cell_type": "code",
   "execution_count": 10,
   "id": "ebf7b8f8",
   "metadata": {},
   "outputs": [
    {
     "data": {
      "application/vnd.jupyter.widget-view+json": {
       "model_id": "b506181f5d1347278376240bc84492e3",
       "version_major": 2,
       "version_minor": 0
      },
      "text/plain": [
       "interactive(children=(FloatSlider(value=10.0, description='t1:', max=20.0), FloatSlider(value=15.0, descriptio…"
      ]
     },
     "metadata": {},
     "output_type": "display_data"
    }
   ],
   "source": [
    "# System parameters\n",
    "l = 1.0  # m\n",
    "m = 1.0  # kg\n",
    "g = 10.0  # m/s^2\n",
    "a = 0.5  # m\n",
    "k = 10.0  # N/m\n",
    "lambda_ = 3.0  # Nms/rad\n",
    "J = 1.0  # Nms^2/rad\n",
    "\n",
    "# Control input F(t)\n",
    "def F(t, F1, F2, t1, t2):\n",
    "    if t < t1:\n",
    "        return 0\n",
    "    elif t < t2:\n",
    "        return F1\n",
    "    else:\n",
    "        return F2\n",
    "\n",
    "# Nonlinear system dynamics\n",
    "def nonlinear_system(x, t, t1, t2):\n",
    "    phi, phi_dot = x\n",
    "    # F_t = F(t, F1, F2, t1, t2)\n",
    "    phi_ddot = (-l * m * g * np.sin(phi) - 0.5 * a**2 * k * np.sin(2*phi) - lambda_ * phi_dot ) / J\n",
    "    return [phi_dot, phi_ddot]\n",
    "\n",
    "# Linear system dynamics\n",
    "def linear_system(x, t, t1, t2):\n",
    "    phi, phi_dot = x\n",
    "    # F_t = F(t, F1, F2, t1, t2)\n",
    "    phi_ddot = (-l * m * g * phi - a**2 * k * phi - lambda_ * phi_dot ) / J\n",
    "    return [phi_dot, phi_ddot]\n",
    "\n",
    "# Simulation and plotting function\n",
    "def simulate_and_plot( t1, t2, phi0, phi_dot0):\n",
    "    # Time array\n",
    "    t = np.linspace(0, 20, 1000)\n",
    "\n",
    "    # Initial conditions\n",
    "    x0 = [phi0, phi_dot0]\n",
    "\n",
    "    # Solve ODEs\n",
    "    nonlinear_solution = odeint(nonlinear_system, x0, t, args=(t1, t2))\n",
    "    linear_solution = odeint(linear_system, x0, t, args=(t1, t2))\n",
    "\n",
    "    # Extract phi and phi_dot\n",
    "    nonlinear_phi = nonlinear_solution[:, 0]\n",
    "    linear_phi = linear_solution[:, 0]\n",
    "\n",
    "    # # Calculate F(t) for plotting\n",
    "    # F_t = np.array([F(ti,t1, t2) for ti in t])\n",
    "\n",
    "    # Plotting\n",
    "    fig, (ax1, ax2) = plt.subplots(1, 2, figsize=(16, 6))\n",
    "    fig.suptitle('Pendulum System Simulation: Nonlinear vs Linear', fontsize=16, y=1.05)\n",
    "\n",
    "    # Plot phi\n",
    "    ax1.plot(t, nonlinear_phi, label='Nonlinear')\n",
    "    ax1.plot(t, linear_phi, label='Linear', linestyle='--')\n",
    "    ax1.set_xlabel('Time (s)')\n",
    "    ax1.set_ylabel('Angle (rad)')\n",
    "    ax1.set_title('Pendulum Angle (φ)')\n",
    "    ax1.grid(True)\n",
    "    ax1.legend()\n",
    "\n",
    "    # # Plot F(t)\n",
    "    # ax2.plot(t, F_t)\n",
    "    # ax2.set_xlabel('Time (s)')\n",
    "    # ax2.set_ylabel('Force (N)')\n",
    "    # ax2.set_title('Control Input F(t)')\n",
    "    # ax2.grid(True)\n",
    "\n",
    "    plt.tight_layout()\n",
    "    plt.subplots_adjust(top=0.85, wspace=0.3)\n",
    "    plt.show()\n",
    "\n",
    "# Create widgets\n",
    "# F1_slider = widgets.FloatSlider(value=0.1, min=0, max=1, step=0.1, description='F1:')\n",
    "# F2_slider = widgets.FloatSlider(value=5, min=0, max=10, step=0.1, description='F2:')\n",
    "t1_slider = widgets.FloatSlider(value=10, min=0, max=20, step=0.1, description='t1:')\n",
    "t2_slider = widgets.FloatSlider(value=15, min=0, max=20, step=0.1, description='t2:')\n",
    "phi0_slider = widgets.FloatSlider(value=0.0, min=-np.pi/2, max=np.pi/2, step=0.01, description='phi_0:')\n",
    "phi_dot0_slider = widgets.FloatSlider(value=0.0, min=-5, max=5, step=0.01, description='dphi_0:')\n",
    "\n",
    "# Create interactive output\n",
    "interactive_plot = widgets.interactive(simulate_and_plot, \n",
    "                                    #    F1=F1_slider, F2=F2_slider, \n",
    "                                       t1=t1_slider, t2=t2_slider,\n",
    "                                       phi0=phi0_slider, phi_dot0=phi_dot0_slider)\n",
    "\n",
    "# Display the interactive plot\n",
    "display(interactive_plot)"
   ]
  },
  {
   "cell_type": "markdown",
   "id": "eba68106",
   "metadata": {},
   "source": [
    "### 4.3 Feedback Control:\n",
    "\n",
    "We now introduce Feedback control inot the system and check for performance. Feedback control essentially "
   ]
  }
 ],
 "metadata": {
  "kernelspec": {
   "display_name": "Python 3 (ipykernel)",
   "language": "python",
   "name": "python3"
  },
  "language_info": {
   "codemirror_mode": {
    "name": "ipython",
    "version": 3
   },
   "file_extension": ".py",
   "mimetype": "text/x-python",
   "name": "python",
   "nbconvert_exporter": "python",
   "pygments_lexer": "ipython3",
   "version": "3.12.6"
  }
 },
 "nbformat": 4,
 "nbformat_minor": 5
}
