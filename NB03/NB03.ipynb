{
 "cells": [
  {
   "cell_type": "markdown",
   "id": "77aa8d0f",
   "metadata": {},
   "source": [
    "# Control Systems 1, NB03: Time Response and Stability\n",
    "2024 ETH Zurich, Mark Benazet Castells, Jonas Holinger, Felix Muller, Matteo Penlington; Institute for Dynamic Systems and Control; Prof. Emilio Frazzoli\n",
    "\n",
    "\n",
    "This interactive notebook is designed to introduce fundamental concepts in control systems engineering. It covers the basics of system modeling, classification, and analysis, with a focus on building intuition through visual and interactive examples.\n",
    "\n",
    "Authors:\n",
    "- Jonas Holinger; jholinger@ethz.ch\n"
   ]
  },
  {
   "cell_type": "markdown",
   "id": "ec513e9c",
   "metadata": {},
   "source": [
    "## Learning Objectives\n",
    "\n",
    "After completing this notebook, you should be able to:\n",
    "\n",
    "1. Understand how to compute the general form response of a linear system by adding its inital condition response and its forced response\n",
    "2. Understand the several definitions of stability for a dynamical system\n",
    "3. Understand wether a LTI system is stable or unstable by looking at the eigenvalues of the A Matrix"
   ]
  },
  {
   "cell_type": "markdown",
   "id": "e3ecaefa",
   "metadata": {},
   "source": [
    "# Setup"
   ]
  },
  {
   "cell_type": "markdown",
   "id": "1cfd9778",
   "metadata": {},
   "source": [
    "## Installing the required packages:\n"
   ]
  },
  {
   "cell_type": "code",
   "execution_count": 1,
   "id": "0e313fd8",
   "metadata": {
    "scrolled": true
   },
   "outputs": [
    {
     "name": "stdout",
     "output_type": "stream",
     "text": [
      "Requirement already satisfied: numpy in c:\\users\\zundi\\appdata\\local\\packages\\pythonsoftwarefoundation.python.3.7_qbz5n2kfra8p0\\localcache\\local-packages\\python37\\site-packages (1.21.5)Note: you may need to restart the kernel to use updated packages.\n",
      "\n",
      "Requirement already satisfied: matplotlib in c:\\users\\zundi\\appdata\\local\\packages\\pythonsoftwarefoundation.python.3.7_qbz5n2kfra8p0\\localcache\\local-packages\\python37\\site-packages (3.5.3)\n",
      "Requirement already satisfied: scipy in c:\\users\\zundi\\appdata\\local\\packages\\pythonsoftwarefoundation.python.3.7_qbz5n2kfra8p0\\localcache\\local-packages\\python37\\site-packages (1.7.3)\n",
      "Requirement already satisfied: ipywidgets in c:\\users\\zundi\\appdata\\local\\packages\\pythonsoftwarefoundation.python.3.7_qbz5n2kfra8p0\\localcache\\local-packages\\python37\\site-packages (8.1.5)\n",
      "Requirement already satisfied: control in c:\\users\\zundi\\appdata\\local\\packages\\pythonsoftwarefoundation.python.3.7_qbz5n2kfra8p0\\localcache\\local-packages\\python37\\site-packages (0.9.2)\n",
      "Requirement already satisfied: IPython in c:\\users\\zundi\\appdata\\local\\packages\\pythonsoftwarefoundation.python.3.7_qbz5n2kfra8p0\\localcache\\local-packages\\python37\\site-packages (7.34.0)\n",
      "Requirement already satisfied: packaging>=20.0 in c:\\users\\zundi\\appdata\\local\\packages\\pythonsoftwarefoundation.python.3.7_qbz5n2kfra8p0\\localcache\\local-packages\\python37\\site-packages (from matplotlib) (24.0)\n",
      "Requirement already satisfied: pillow>=6.2.0 in c:\\users\\zundi\\appdata\\local\\packages\\pythonsoftwarefoundation.python.3.7_qbz5n2kfra8p0\\localcache\\local-packages\\python37\\site-packages (from matplotlib) (9.5.0)\n",
      "Requirement already satisfied: fonttools>=4.22.0 in c:\\users\\zundi\\appdata\\local\\packages\\pythonsoftwarefoundation.python.3.7_qbz5n2kfra8p0\\localcache\\local-packages\\python37\\site-packages (from matplotlib) (4.38.0)\n",
      "Requirement already satisfied: python-dateutil>=2.7 in c:\\users\\zundi\\appdata\\local\\packages\\pythonsoftwarefoundation.python.3.7_qbz5n2kfra8p0\\localcache\\local-packages\\python37\\site-packages (from matplotlib) (2.8.2)\n",
      "Requirement already satisfied: pyparsing>=2.2.1 in c:\\users\\zundi\\appdata\\local\\packages\\pythonsoftwarefoundation.python.3.7_qbz5n2kfra8p0\\localcache\\local-packages\\python37\\site-packages (from matplotlib) (3.1.4)\n",
      "Requirement already satisfied: cycler>=0.10 in c:\\users\\zundi\\appdata\\local\\packages\\pythonsoftwarefoundation.python.3.7_qbz5n2kfra8p0\\localcache\\local-packages\\python37\\site-packages (from matplotlib) (0.11.0)\n",
      "Requirement already satisfied: kiwisolver>=1.0.1 in c:\\users\\zundi\\appdata\\local\\packages\\pythonsoftwarefoundation.python.3.7_qbz5n2kfra8p0\\localcache\\local-packages\\python37\\site-packages (from matplotlib) (1.4.5)\n",
      "Requirement already satisfied: comm>=0.1.3 in c:\\users\\zundi\\appdata\\local\\packages\\pythonsoftwarefoundation.python.3.7_qbz5n2kfra8p0\\localcache\\local-packages\\python37\\site-packages (from ipywidgets) (0.1.4)\n",
      "Requirement already satisfied: traitlets>=4.3.1 in c:\\users\\zundi\\appdata\\local\\packages\\pythonsoftwarefoundation.python.3.7_qbz5n2kfra8p0\\localcache\\local-packages\\python37\\site-packages (from ipywidgets) (5.9.0)\n",
      "Requirement already satisfied: widgetsnbextension~=4.0.12 in c:\\users\\zundi\\appdata\\local\\packages\\pythonsoftwarefoundation.python.3.7_qbz5n2kfra8p0\\localcache\\local-packages\\python37\\site-packages (from ipywidgets) (4.0.13)\n",
      "Requirement already satisfied: jupyterlab-widgets~=3.0.12 in c:\\users\\zundi\\appdata\\local\\packages\\pythonsoftwarefoundation.python.3.7_qbz5n2kfra8p0\\localcache\\local-packages\\python37\\site-packages (from ipywidgets) (3.0.13)\n",
      "Requirement already satisfied: pygments in c:\\users\\zundi\\appdata\\local\\packages\\pythonsoftwarefoundation.python.3.7_qbz5n2kfra8p0\\localcache\\local-packages\\python37\\site-packages (from IPython) (2.17.2)\n",
      "Requirement already satisfied: jedi>=0.16 in c:\\users\\zundi\\appdata\\local\\packages\\pythonsoftwarefoundation.python.3.7_qbz5n2kfra8p0\\localcache\\local-packages\\python37\\site-packages (from IPython) (0.19.1)\n",
      "Requirement already satisfied: matplotlib-inline in c:\\users\\zundi\\appdata\\local\\packages\\pythonsoftwarefoundation.python.3.7_qbz5n2kfra8p0\\localcache\\local-packages\\python37\\site-packages (from IPython) (0.1.6)\n",
      "Requirement already satisfied: setuptools>=18.5 in c:\\program files\\windowsapps\\pythonsoftwarefoundation.python.3.7_3.7.2544.0_x64__qbz5n2kfra8p0\\lib\\site-packages (from IPython) (47.1.0)\n",
      "Requirement already satisfied: backcall in c:\\users\\zundi\\appdata\\local\\packages\\pythonsoftwarefoundation.python.3.7_qbz5n2kfra8p0\\localcache\\local-packages\\python37\\site-packages (from IPython) (0.2.0)\n",
      "Requirement already satisfied: decorator in c:\\users\\zundi\\appdata\\local\\packages\\pythonsoftwarefoundation.python.3.7_qbz5n2kfra8p0\\localcache\\local-packages\\python37\\site-packages (from IPython) (5.1.1)\n",
      "Requirement already satisfied: prompt-toolkit!=3.0.0,!=3.0.1,<3.1.0,>=2.0.0 in c:\\users\\zundi\\appdata\\local\\packages\\pythonsoftwarefoundation.python.3.7_qbz5n2kfra8p0\\localcache\\local-packages\\python37\\site-packages (from IPython) (3.0.47)\n",
      "Requirement already satisfied: colorama in c:\\users\\zundi\\appdata\\local\\packages\\pythonsoftwarefoundation.python.3.7_qbz5n2kfra8p0\\localcache\\local-packages\\python37\\site-packages (from IPython) (0.4.4)\n",
      "Requirement already satisfied: pickleshare in c:\\users\\zundi\\appdata\\local\\packages\\pythonsoftwarefoundation.python.3.7_qbz5n2kfra8p0\\localcache\\local-packages\\python37\\site-packages (from IPython) (0.7.5)\n",
      "Requirement already satisfied: parso<0.9.0,>=0.8.3 in c:\\users\\zundi\\appdata\\local\\packages\\pythonsoftwarefoundation.python.3.7_qbz5n2kfra8p0\\localcache\\local-packages\\python37\\site-packages (from jedi>=0.16->IPython) (0.8.4)\n",
      "Requirement already satisfied: typing-extensions in c:\\users\\zundi\\appdata\\local\\packages\\pythonsoftwarefoundation.python.3.7_qbz5n2kfra8p0\\localcache\\local-packages\\python37\\site-packages (from kiwisolver>=1.0.1->matplotlib) (4.0.1)\n",
      "Requirement already satisfied: wcwidth in c:\\users\\zundi\\appdata\\local\\packages\\pythonsoftwarefoundation.python.3.7_qbz5n2kfra8p0\\localcache\\local-packages\\python37\\site-packages (from prompt-toolkit!=3.0.0,!=3.0.1,<3.1.0,>=2.0.0->IPython) (0.2.13)\n",
      "Requirement already satisfied: six>=1.5 in c:\\users\\zundi\\appdata\\local\\packages\\pythonsoftwarefoundation.python.3.7_qbz5n2kfra8p0\\localcache\\local-packages\\python37\\site-packages (from python-dateutil>=2.7->matplotlib) (1.16.0)\n"
     ]
    },
    {
     "name": "stderr",
     "output_type": "stream",
     "text": [
      "WARNING: You are using pip version 22.0.4; however, version 24.0 is available.\n",
      "You should consider upgrading via the 'C:\\Users\\Zundi\\AppData\\Local\\Microsoft\\WindowsApps\\PythonSoftwareFoundation.Python.3.7_qbz5n2kfra8p0\\python.exe -m pip install --upgrade pip' command.\n"
     ]
    }
   ],
   "source": [
    "%pip install numpy matplotlib scipy ipywidgets control IPython"
   ]
  },
  {
   "cell_type": "markdown",
   "id": "b337a8fb",
   "metadata": {},
   "source": [
    "## Import the packages\n",
    "The following cell imports the required packages. Run it before running the rest of the notebook."
   ]
  },
  {
   "cell_type": "code",
   "execution_count": 1,
   "id": "102c62ee",
   "metadata": {
    "scrolled": true
   },
   "outputs": [],
   "source": [
    "import control as ct\n",
    "import matplotlib.pyplot as plt\n",
    "import numpy as np\n",
    "import math\n",
    "import ipywidgets as widgets\n",
    "from IPython.display import display, clear_output, Math"
   ]
  },
  {
   "cell_type": "markdown",
   "id": "5bd5882a",
   "metadata": {},
   "source": [
    "## 1. Output Response of a Linear System\n",
    "If we want to calculate the output of a LTI system we can seperate the problem into two cases:\n",
    "- **Initial-conditions response:**\n",
    "\n",
    "  $$\n",
    "  \\left\\{\n",
    "  \\begin{array}{ll}\n",
    "  x_{IC}(0) = x_0 \\\\\n",
    "  u_{IC}(t) = 0\n",
    "  \\end{array}\n",
    "  \\right.\n",
    "  \\quad \\longrightarrow \\quad y_{IC};\n",
    "  $$\n",
    "\n",
    "- **Forced response:**\n",
    "\n",
    "  $$\n",
    "  \\left\\{\n",
    "  \\begin{array}{ll}\n",
    "  x_{F}(0) = 0 \\\\\n",
    "  u_{F}(t) = u(t)\n",
    "  \\end{array}\n",
    "  \\right.\n",
    "  \\quad \\longrightarrow \\quad y_{F}.\n",
    "  $$\n",
    "\n",
    "\n",
    "\n",
    "From previous lectures we learned that the definition of linear system is: $$\n",
    "\\Sigma (\\alpha u_a + \\beta u_b) = \\alpha (\\Sigma u_a) + \\beta (\\Sigma u_b) = \\alpha y_a + \\beta y_b\n",
    "$$\n",
    "and we also know that due to causality the  system can be summarised by a state $x(t)$.\n",
    "Because of these properties, the output of an linear  system can be expressed as: $$y = y_{IC}+y_{F}$$"
   ]
  },
  {
   "cell_type": "markdown",
   "id": "90be0c8b",
   "metadata": {},
   "source": [
    "### 1.1 Example: Output Response of a Scalar Linear System\n",
    "As an example of a scalar linear system,let us consider a room with temperatur $T(t)$, inital Temperatur of the room $T_0$ and thermal capacity C. The zemperatur outside is $T_{amb}$ and the room gets heated with power P(t) and loses heat given by the eqution $G(T(t) - T_{amb})$ where $G$ is the thermal conductance. The system is described by the following formula from Thermodynamics: $$C \\frac{dT(t)}{dt} + G \\left(T(t) - T_{\\text{ambient}}\\right) = P(t)$$\n",
    "\n",
    "\n",
    "![Image Title](./media/sys4iofo.png)\n",
    "\n",
    "\n",
    "We choose $T(t)$ as our state and $P(t)$ as our input:\n",
    "$$y(t) = x(t) = T(t)$$\n",
    "$$u(t) = P(t)$$\n",
    "$$\\dot{x}(t) = \\frac{-G}{C} x(t) + \\frac{1}{C} u(t) + \\frac{G T_{\\text{amb}}}{C}$$\n",
    "\\\n",
    "Since its winter we assume $T_{amb}$ is 0. This gives us the following describtion in the state space model:\n",
    "$$a=-G/C$$\n",
    "$$b = 1/C$$\n",
    "$$c = 1$$\n",
    "$$d = 0$$\n",
    "\n"
   ]
  },
  {
   "cell_type": "code",
   "execution_count": 2,
   "id": "daf9c53a",
   "metadata": {
    "scrolled": true
   },
   "outputs": [],
   "source": [
    "#initalise the system\n",
    "\n",
    "# Define a time vector\n",
    "time = np.linspace(0, 20, 500)\n",
    "\n",
    "#Define the param\n",
    "C = 2\n",
    "G = 3\n",
    "\n",
    "# Define state-space system\n",
    "def create_system(G, C):\n",
    "    A = -G / C\n",
    "    B = 1 / C\n",
    "    C_matrix = 1\n",
    "    D = 0\n",
    "    return ct.StateSpace(A, B, C_matrix, D)\n",
    "\n",
    "# func for generating input\n",
    "def generate_input(input_type, time_vector):\n",
    "    if input_type == 'Constant':\n",
    "        return np.full_like(time_vector, forced_input_slider.value)\n",
    "    elif input_type == 'Ramp (5s)':\n",
    "        ramp_duration = 5\n",
    "        ramp_input = np.clip(np.linspace(0, forced_input_slider.value, int(ramp_duration / time[1])),\n",
    "                              0, None)\n",
    "        constant_input = np.full_like(time_vector[int(ramp_duration / time[1]):], forced_input_slider.value)\n",
    "        return np.concatenate((ramp_input, constant_input))\n",
    "    elif input_type == 'Ramp (15s)':\n",
    "        ramp_duration = 15\n",
    "        ramp_input = np.clip(np.linspace(0, forced_input_slider.value, int(ramp_duration / time[1])),\n",
    "                              0, None)\n",
    "        constant_input = np.full_like(time_vector[int(ramp_duration / time[1]):], forced_input_slider.value)\n",
    "        return np.concatenate((ramp_input, constant_input))\n",
    "    elif input_type == 'Sinusoidal':\n",
    "        return forced_input_slider.value * np.sin(0.5 * np.pi * time_vector)  # Frequency can be adjusted"
   ]
  },
  {
   "cell_type": "markdown",
   "id": "3be13ddd",
   "metadata": {},
   "source": [
    "### 1.2 Inital Condition Response\n",
    "To get the inital condition response for the system we need to solve the following ODE;\n",
    "$$\n",
    "\\dot{x}_{IC}(t) = a*x(t)_{IC}, \n",
    "$$\n",
    "$$\n",
    "y(t)_{IC}=cx(t)_{IC}\n",
    "$$\n",
    "$$\n",
    "x(0) = x_0\n",
    "$$\n",
    "\n",
    "The general solution is known from Analysis :\n",
    "$$\n",
    "x(t)_{IC} = e^{at}T_0\n",
    "$$\n",
    "\n",
    "$$\n",
    "y(t)_{IC} = ce^{at}T_0\n",
    "$$\n",
    "For our specific problem we get:\n",
    "$$\n",
    "y(t)_{IC} = e^{\\frac{-G}{C}}T_0\n",
    "$$"
   ]
  },
  {
   "cell_type": "code",
   "execution_count": 3,
   "id": "13228892",
   "metadata": {
    "scrolled": false
   },
   "outputs": [
    {
     "data": {
      "image/png": "[encoded data removed]",
      "text/plain": [
       "<Figure size 2000x1000 with 1 Axes>"
      ]
     },
     "metadata": {},
     "output_type": "display_data"
    },
    {
     "data": {
      "application/vnd.jupyter.widget-view+json": {
       "model_id": "bc25b48743f7490ea66f73a89ed458df",
       "version_major": 2,
       "version_minor": 0
      },
      "text/plain": [
       "FloatSlider(value=1.0000000000000002, description='G:', max=5.0, min=0.1)"
      ]
     },
     "metadata": {},
     "output_type": "display_data"
    },
    {
     "data": {
      "application/vnd.jupyter.widget-view+json": {
       "model_id": "333ec6c7273d466db49b8759c0a75bab",
       "version_major": 2,
       "version_minor": 0
      },
      "text/plain": [
       "FloatSlider(value=1.0000000000000002, description='C:', max=5.0, min=0.1)"
      ]
     },
     "metadata": {},
     "output_type": "display_data"
    },
    {
     "data": {
      "application/vnd.jupyter.widget-view+json": {
       "model_id": "b8d1106867504e769ff4dbc4bda22903",
       "version_major": 2,
       "version_minor": 0
      },
      "text/plain": [
       "FloatSlider(value=1.0, description='T0:', max=20.0, min=-20.0, step=0.5)"
      ]
     },
     "metadata": {},
     "output_type": "display_data"
    },
    {
     "data": {
      "text/latex": [
       "$\\displaystyle y(t) = e^{\\frac{-1.0000000000000002}{1.0000000000000002}} {1.0}$"
      ],
      "text/plain": [
       "<IPython.core.display.Math object>"
      ]
     },
     "metadata": {},
     "output_type": "display_data"
    }
   ],
   "source": [
    "def update_plot_ic(t_0):\n",
    "    clear_output(wait=True)  # Clear previous output\n",
    "    system = create_system(G_slider.value, C_slider.value)  \n",
    "    plt.figure(figsize=(20, 10))\n",
    "    \n",
    "    # Simulate the response to the current initial condition\n",
    "    t, y = ct.initial_response(system, T=time, X0=[t_0])\n",
    "    \n",
    "    # Plot the responses\n",
    "    plt.plot(t, y, label='Inital Response', color='blue')\n",
    "    plt.title('System Response to Initial Condition')\n",
    "    plt.xlabel('Time')\n",
    "    plt.ylabel('Temperature')\n",
    "    plt.grid()\n",
    "    plt.legend()\n",
    "    plt.show()\n",
    "    \n",
    "    formula = f\"y(t) = e^{{\\\\frac{{-{G_slider.value}}}{{{C_slider.value}}}}} {{{t_0}}}\"\n",
    "    # Display sliders and dropdown again\n",
    "    display(G_slider, C_slider, t_0_slider)\n",
    "    display(Math(formula))\n",
    "    \n",
    "G_slider = widgets.FloatSlider(value=1.0, min=0.1, max=5.0, step=0.1, description='G:')\n",
    "C_slider = widgets.FloatSlider(value=1.0, min=0.1, max=5.0, step=0.1, description='C:')\n",
    "t_0_slider = widgets.FloatSlider(value=1.0, min=-20, max=20, step=0.5, description='T0:')\n",
    "\n",
    "# Observers for the sliders and dropdown\n",
    "G_slider.observe(lambda change: update_plot_ic(t_0_slider.value), names='value')\n",
    "C_slider.observe(lambda change: update_plot_ic(t_0_slider.value), names='value')\n",
    "t_0_slider.observe(lambda change: update_plot_ic(t_0_slider.value), names='value')\n",
    "\n",
    "# Display sliders and initial plot\n",
    "display(G_slider, C_slider, t_0_slider)\n",
    "update_plot_ic(t_0_slider.value)\n",
    "\n",
    "\n"
   ]
  },
  {
   "cell_type": "markdown",
   "id": "14fa3469",
   "metadata": {},
   "source": [
    "### 1.2 Forced Response\n",
    "\n",
    "The forced response, which was derived in the lecture with $u(t) \\neq 0$ and $x_0 = 0$ is:\n",
    "$$ x_{FC}=\\int_{0}^{t}e^{a\\cdot (t-\\tau )}bu(\\tau )d\\tau $$\n",
    "$$  y_{FC}=\\int_{0}^{t}e^{a\\cdot (t-\\tau )}bu(\\tau )d\\tau + du(t)$$"
   ]
  },
  {
   "cell_type": "code",
   "execution_count": 5,
   "id": "76da5dff",
   "metadata": {
    "scrolled": false
   },
   "outputs": [
    {
     "data": {
      "image/png": "[encoded data removed]",
      "text/plain": [
       "<Figure size 2000x1000 with 1 Axes>"
      ]
     },
     "metadata": {},
     "output_type": "display_data"
    },
    {
     "data": {
      "application/vnd.jupyter.widget-view+json": {
       "model_id": "d62ca4f8863a4fd5b8e55290395b097a",
       "version_major": 2,
       "version_minor": 0
      },
      "text/plain": [
       "FloatSlider(value=2.0000000000000004, description='G:', max=5.0, min=0.1)"
      ]
     },
     "metadata": {},
     "output_type": "display_data"
    },
    {
     "data": {
      "application/vnd.jupyter.widget-view+json": {
       "model_id": "00f8e71b1fd64e3d84dfc4e2c4649578",
       "version_major": 2,
       "version_minor": 0
      },
      "text/plain": [
       "FloatSlider(value=3.3000000000000007, description='C:', max=5.0, min=0.1)"
      ]
     },
     "metadata": {},
     "output_type": "display_data"
    },
    {
     "data": {
      "application/vnd.jupyter.widget-view+json": {
       "model_id": "19b3bd922a5d4141a581402a58d390d6",
       "version_major": 2,
       "version_minor": 0
      },
      "text/plain": [
       "FloatSlider(value=1.0000000000000036, description='T0:', max=40.0, min=-15.0)"
      ]
     },
     "metadata": {},
     "output_type": "display_data"
    },
    {
     "data": {
      "application/vnd.jupyter.widget-view+json": {
       "model_id": "c42f1974d3bc463f8f85e13b64db5bb5",
       "version_major": 2,
       "version_minor": 0
      },
      "text/plain": [
       "FloatSlider(value=2.0, description='Input:', max=30.0, step=0.5)"
      ]
     },
     "metadata": {},
     "output_type": "display_data"
    },
    {
     "data": {
      "application/vnd.jupyter.widget-view+json": {
       "model_id": "eeeab9b1bde64cada56c7571150d6ebe",
       "version_major": 2,
       "version_minor": 0
      },
      "text/plain": [
       "Dropdown(description='Input Type:', index=2, options=('Constant', 'Ramp (5s)', 'Ramp (15s)', 'Sinusoidal'), va…"
      ]
     },
     "metadata": {},
     "output_type": "display_data"
    },
    {
     "data": {
      "application/vnd.jupyter.widget-view+json": {
       "model_id": "c3a5bdc127934df0901ea591b81bf24c",
       "version_major": 2,
       "version_minor": 0
      },
      "text/plain": [
       "ToggleButton(value=True, description='Show Initial Response')"
      ]
     },
     "metadata": {},
     "output_type": "display_data"
    },
    {
     "data": {
      "application/vnd.jupyter.widget-view+json": {
       "model_id": "4f51990e73ca41f59539c54e5b5d62b5",
       "version_major": 2,
       "version_minor": 0
      },
      "text/plain": [
       "ToggleButton(value=True, description='Show Total Response')"
      ]
     },
     "metadata": {},
     "output_type": "display_data"
    }
   ],
   "source": [
    "# Function to update the plot\n",
    "def update_plot_fc(t_0, input_type, show_initial_response, show_total_response):\n",
    "    clear_output(wait=True)  \n",
    "    system = create_system(G_slider.value, C_slider.value)  \n",
    "    \n",
    "    plt.figure(figsize=(20, 10))\n",
    "\n",
    "    # Simulate the response to the current initial condition\n",
    "    t, initial_response = ct.initial_response(system, T=time, X0=[t_0])\n",
    "    \n",
    "    # Generate the forced input\n",
    "    input_fc = generate_input(input_type, time)\n",
    "    \n",
    "    # Use control's forced_response to get output for the input signal\n",
    "    t, forced_response = ct.forced_response(system, T=time, U=input_fc)\n",
    "    \n",
    "    # Total response\n",
    "    total_response = initial_response + forced_response\n",
    "    \n",
    "    # Plot the forced input response\n",
    "    plt.plot(t, forced_response, label='Forced Output', color='red')\n",
    "    plt.plot(t, input_fc, label='Forced Input', color='orange', linestyle='--')\n",
    "    # Plot initial response only if the toggle is on\n",
    "    if show_initial_response:\n",
    "        plt.plot(t, initial_response, label='Initial Response', color='green')\n",
    "        \n",
    "    # Plot total response only if the toggle is on\n",
    "    if show_total_response:\n",
    "        plt.plot(t, total_response, label='Total Response', color='blue')\n",
    "\n",
    "    plt.title('System Response')\n",
    "    plt.xlabel('Time (s)')\n",
    "    plt.ylabel('Temperature')\n",
    "    plt.grid()\n",
    "    plt.legend()\n",
    "    plt.show()\n",
    "\n",
    "    # Display sliders and dropdown again\n",
    "    display(G_slider, C_slider, t_0_slider, forced_input_slider, \n",
    "            input_type_dropdown, show_initial_response_button, \n",
    "            show_total_response_button)\n",
    "\n",
    "\n",
    "# Create sliders for G, C, t_0, and a dropdown for input type\n",
    "G_slider = widgets.FloatSlider(value=1.0, min=0.1, max=5.0, step=0.1, description='G:')\n",
    "C_slider = widgets.FloatSlider(value=1.0, min=0.1, max=5.0, step=0.1, description='C:')\n",
    "t_0_slider = widgets.FloatSlider(value=1.0, min=-15.0, max=40.0, step=0.1, description='T0:')\n",
    "forced_input_slider = widgets.FloatSlider(value=1.0, min=0, max=30.0, step=0.5, description='Input:')\n",
    "input_type_dropdown = widgets.Dropdown(\n",
    "    options=['Constant', 'Ramp (5s)', 'Ramp (15s)', 'Sinusoidal'],\n",
    "    value='Ramp (5s)',\n",
    "    description='Input Type:'\n",
    ")\n",
    "\n",
    "# Create toggle buttons for showing the initial response and total response\n",
    "show_initial_response_button = widgets.ToggleButton(\n",
    "    value=False,\n",
    "    description='Show Initial Response',\n",
    "    button_style='',  \n",
    ")\n",
    "\n",
    "show_total_response_button = widgets.ToggleButton(\n",
    "    value=False,\n",
    "    description='Show Total Response',\n",
    "    button_style='',\n",
    ")\n",
    "\n",
    "# Observers for the sliders, dropdown, and toggle buttons\n",
    "G_slider.observe(lambda change: update_plot_fc(t_0_slider.value, input_type_dropdown.value, \n",
    "                                                show_initial_response_button.value, \n",
    "                                                show_total_response_button.value), names='value')\n",
    "C_slider.observe(lambda change: update_plot_fc(t_0_slider.value, input_type_dropdown.value, \n",
    "                                                show_initial_response_button.value, \n",
    "                                                show_total_response_button.value), names='value')\n",
    "t_0_slider.observe(lambda change: update_plot_fc(change['new'], input_type_dropdown.value, \n",
    "                                                   show_initial_response_button.value, \n",
    "                                                   show_total_response_button.value), names='value')\n",
    "forced_input_slider.observe(lambda change: update_plot_fc(t_0_slider.value, input_type_dropdown.value, \n",
    "                                                           show_initial_response_button.value, \n",
    "                                                           show_total_response_button.value), names='value')\n",
    "input_type_dropdown.observe(lambda change: update_plot_fc(t_0_slider.value, change['new'], \n",
    "                                                           show_initial_response_button.value, \n",
    "                                                           show_total_response_button.value), names='value')\n",
    "show_initial_response_button.observe(lambda change: update_plot_fc(t_0_slider.value, \n",
    "                                                                  input_type_dropdown.value, \n",
    "                                                                  change['new'], \n",
    "                                                                  show_total_response_button.value), names='value')\n",
    "show_total_response_button.observe(lambda change: update_plot_fc(t_0_slider.value, \n",
    "                                                                 input_type_dropdown.value, \n",
    "                                                                 show_initial_response_button.value, \n",
    "                                                                 change['new']), names='value')\n",
    "\n",
    "# Display sliders and initial plot\n",
    "display(G_slider, C_slider, t_0_slider, forced_input_slider, \n",
    "        input_type_dropdown, show_initial_response_button, \n",
    "        show_total_response_button)\n",
    "update_plot_fc(t_0_slider.value, input_type_dropdown.value, \n",
    "                show_initial_response_button.value, \n",
    "                show_total_response_button.value)\n"
   ]
  },
  {
   "cell_type": "markdown",
   "id": "5837ec43",
   "metadata": {},
   "source": [
    "## 2 Output Response of General Linear System\n",
    "\n",
    "For a system, which is not scalar, we need to compute the matrix exponential.\n",
    "The definition of our matrix exponential $e^{At}$ is:\n",
    "$$\\frac{de^{At}}{dt}=Ae^{AT}=e^{AT}A$$\n",
    "We achive our definition with the following:\n",
    "$$e^{AT}=I+At+\\frac{1}{2}(AT)^{2}+...+\\frac{1}{n!}(At)^{n}$$\n",
    "\n",
    "In python we can use the function `numpy.exp(A)`.\n",
    "\n",
    "\n",
    "\n",
    "### 2.1 Diagonalization and Jordan Forms\n",
    "To make our life easier, when calculating the matrix expontential by hand, we want to bring the matrix A into the Diagonal or Jordan form. The solution in these forms looks like this:  \n",
    "\n",
    "\n",
    "\n",
    "In Diagnonal Form:\n",
    "$$\n",
    "D = \\begin{pmatrix} \\lambda_1 t & 0 \\\\ 0 & \\lambda_2 t \\end{pmatrix}\n",
    "$$\n",
    "\n",
    "\n",
    "$$\n",
    "e^{D} = \\begin{pmatrix} e^{\\lambda_1 t} & 0 \\\\ 0 & e^{\\lambda_2 t} \\end{pmatrix}\n",
    "$$\n",
    "\n",
    "\n",
    "In Jordan Form:\n",
    "$$\n",
    "J = \\begin{pmatrix} \\lambda t & 1t \\\\ 0 & \\lambda t \\end{pmatrix}\n",
    "$$\n",
    "\n",
    "\n",
    "$$\n",
    "e^{J} =  \\begin{pmatrix} e^{\\lambda t} & e^{\\lambda t} \\\\ 0 & e^{\\lambda t} \\end{pmatrix}\n",
    "$$\n",
    "\n",
    "### 2.2 Similarity Transformiations\n",
    "We can use the fact that the choice of a state space model is not unique for a system to transform it to a more suitable form for caclulating the matrix exponential by hand. One method to do that is to use similarity transforms.  $A$ and $B$ are similiar if $B =  T^{-1}AT$ where T is an invertible Matrix. \n",
    "$A$ and $\\tilde{A}$ are similiar if $$ \\tilde{A} =  T^{-1}AT$$ where T is an invertible Matrix. If we transform the matrices from our state-space model $(A,B,C,D)$ to $(\\tilde{A},\\tilde{B},\\tilde{C},\\tilde{D})$, the time response and the eigenvalues stay the same. Using the similarity transform $x = T \\tilde{x}$ and $\\tilde{x} = T^{-1}x$\n",
    "\n",
    "$$\n",
    "\\begin{cases}\n",
    "\\dot{x} = Ax + Bu, \\\\\n",
    "y = Cx + Du.\n",
    "\\end{cases}\n",
    "\\quad\n",
    "$$\n",
    "\n",
    "we get\n",
    "\n",
    "$$\n",
    "\\begin{cases}\n",
    "\\dot{\\tilde{x}} = (T^{-1} A T) \\tilde{x} + (T^{-1} B) u = \\tilde{A} \\tilde{x} + \\tilde{B} u, \\\\\n",
    "y = (CT) \\tilde{x} + Du = \\tilde{C} \\tilde{x} + \\tilde{D} u.\n",
    "\\end{cases}\n",
    "$$\n",
    "\n",
    "To diagnolise $A$, we chose the matrix $T$ whose columns are the eigenvector of A.\n",
    "\n",
    "#### 2.2.1 Example\n",
    "We have a state space model with the following matrices.\n",
    "$$\\begin{array}{c} A = \\begin{bmatrix} 0 & 1 \\\\ -2 & -3 \\end{bmatrix}, \\quad B = \\begin{bmatrix} 0 \\\\ 1 \\end{bmatrix}, \\quad C = \\begin{bmatrix} 1 & 0 \\end{bmatrix}, \\quad D = 0, \\quad x(0) =  \\begin{bmatrix} 2 \\\\ 3 \\end{bmatrix} \\end{array}$$\n",
    "To find the Eigenvalues of A we solve: $$\\det(A - \\lambda I) = 0$$\n",
    "which gives us the Eigenvalues $\\lambda_{1}  = -1$ and $\\lambda_{2} = -2$.\n",
    "\n",
    "We solve $$(A - \\lambda I)v = 0$$ to get us the Eigenvectors $ \\begin{bmatrix}\n",
    "1 \\\\ -1\n",
    "\\end{bmatrix}$ and $\\begin{bmatrix}\n",
    "-1 \\\\ 2\n",
    "\\end{bmatrix}$\n",
    "which gives us the matrix $ T = \\begin{bmatrix}\n",
    "1 &  -1\\\\\n",
    "-1 &  2\\\\\n",
    "\\end{bmatrix}\n",
    "$. We apply the similarity transform to our matrices.\n",
    "\n",
    "\n",
    "$$\\tilde{A} = T^{-1} A T = \\begin{bmatrix} -1 & 0 \\\\ 0 & -2 \\end{bmatrix} $$\n",
    "$$\\tilde{B} = T^{-1} B = \\begin{bmatrix} 1 \\\\ 1 \\end{bmatrix} $$\n",
    "$$\\tilde{C} = C T = \\begin{bmatrix} 1 & -1 \\end{bmatrix}$$\n",
    "$$\\tilde{x}_0 = T^{-1}x_0 = \\begin{bmatrix} 7 \\\\ 5 \\end{bmatrix}$$\n",
    "The entries in the diagonal matrix $\\tilde{A}$ are the eigenvalues of our matrix $A$. \n",
    "Our transformed state response due to inital conidition is $\\tilde{x}(t) = e^{\\tilde{A}t}\\tilde{x}_{0}$ \n",
    "$$\\begin{bmatrix}\n",
    "\\tilde{x}_1 \\\\ \\tilde{x}_2 \n",
    "\\end{bmatrix} = \\begin{bmatrix}\n",
    "e^{-1t} &  0\\\\ 0\n",
    "&  e^{-2t}\\\\ \n",
    "\\end{bmatrix}\\begin{bmatrix} 7 \\\\ 5 \\end{bmatrix}$$\n",
    "We can generalise our state by, because we an express $x_0$ as a linear combination with the eigenvector $v_i$ as a basis.\n",
    "$$x(t) = \\sum_{i=1}^{n} e^{\\lambda_i t} \\tilde{x}_i(0) v_i$$\n",
    "The general solution to the inital condition if the eigenvalues are real can be expressed as a linear combination in the form:\n",
    "$$y(t) = Ce^{At}x_{0}= c_{1}e^{\\lambda_1 t}x_{0,1} + c_{2}e^{\\lambda_2 t}x_{0,2}$$\n",
    "\n"
   ]
  },
  {
   "cell_type": "markdown",
   "id": "db06267c",
   "metadata": {},
   "source": [
    "### 2.3 Quick Recap about the euler formula\n",
    "\n",
    "For this course its important to rember the euler formula:\n",
    "\n",
    "$$e^{i\\phi} = \\cos \\phi + i \\sin \\phi$$"
   ]
  },
  {
   "cell_type": "code",
   "execution_count": 6,
   "id": "3a1430c7",
   "metadata": {
    "scrolled": false
   },
   "outputs": [
    {
     "data": {
      "application/vnd.jupyter.widget-view+json": {
       "model_id": "c0f16568aa22475281efe1843b97ef8c",
       "version_major": 2,
       "version_minor": 0
      },
      "text/plain": [
       "interactive(children=(FloatSlider(value=0.0, description='φ (radians)', max=6.283185307179586), Output()), _do…"
      ]
     },
     "execution_count": 6,
     "metadata": {},
     "output_type": "execute_result"
    }
   ],
   "source": [
    "def update_plot_img(phi):\n",
    "    plt.figure(figsize=(8, 8))\n",
    "    \n",
    "    # Create unit circle\n",
    "    circle = plt.Circle((0, 0), 1, color='blue', fill=False, linestyle='dotted')\n",
    "    \n",
    "    fig, ax = plt.subplots()\n",
    "    ax.add_artist(circle)\n",
    "\n",
    "    x = np.cos(phi)\n",
    "    y = np.sin(phi)\n",
    "\n",
    "    # Plotting the point on the unit circle\n",
    "    ax.plot([0, x], [0, y], color='red', linewidth=2, label='Radius: e^{iφ}')\n",
    "    ax.plot(x, y, 'ro')  # Point on the circle\n",
    "\n",
    "    # Plot the cosine and sine functions\n",
    "    t = np.linspace(0, 2 * np.pi, 100)\n",
    "    ax.plot([0, math.cos(phi)], [0, 0], color='green', linestyle='--', linewidth=2, label='cos')\n",
    "    ax.plot([0, 0], [0, math.sin(phi)], color='blue', linestyle='--', linewidth=2, label='sin')\n",
    "    # Formatting the plot\n",
    "    ax.set_xlim(-1.5, 1.5)\n",
    "    ax.set_ylim(-1.5, 1.5)\n",
    "    ax.axhline(0, color='black', linewidth=0.5, ls='--')\n",
    "    ax.axvline(0, color='black', linewidth=0.5, ls='--')\n",
    "    ax.set_aspect('equal', 'box')\n",
    "    ax.set_title(f'$e^{{i{phi:.2f}}} = \\\\cos({phi:.2f}) + i\\\\sin({phi:.2f})$', fontsize=14)\n",
    "    ax.legend()\n",
    "    plt.grid()\n",
    "    plt.show()\n",
    "\n",
    "phi_slider = widgets.FloatSlider(value=0, min=0, max=2 * np.pi, step=0.1, description='φ (radians)')\n",
    "widgets.interactive(update_plot_img, phi=phi_slider)\n"
   ]
  },
  {
   "cell_type": "markdown",
   "id": "4114894e",
   "metadata": {},
   "source": [
    "### Stability\n",
    "\n",
    "The notion of stability is central in the study of control theory. The core idea behind stability is that the system should not behave abruptly. The response of the system should be controlled and predictible. Many notions of how to define stability exist.    \n",
    "\n",
    "1. **Lyapnuov Stability**: A system is called stable in the sense of Lyapunov if, for any initial condition bounded by $\\epsilon$, the ouput of the system is remains bounded by $\\delta$ for zero input.\n",
    "$$ \n",
    "    ||x(0)||\\leq\\epsilon\\;,\\; u(t) = 0 \\implies ||x(t)||\\leq\\delta\\;\\forall\\; t\\geq 0\n",
    "$$\n",
    "This basically says, if you start close enough to the equillibrium point you can never go too far from it.\n",
    "\n",
    "2. **Asymptotically stable**: A system is called locally asymptotically stable if for any initial condition bounded by $\\epsilon$ the system \n",
    "(state) converges to origin as time progresses\n",
    "$$\n",
    "    ||x(0)||\\leq\\epsilon\\;,\\;u(t) = 0 \\; \\implies\\; \\lim_{t\\rightarrow\\infty}||x(t)|| = 0\n",
    "$$\n",
    "This basically goes a step further than lyapunov stability and says that the system not only does not go too far, but also slowly approaches the equillibrium point.  \n",
    "If this condiiton is satisfied for all possible intial conditions, the systenm is called *gloablly asymptotically stable*.\\\n",
    "\n",
    "Up unitl now for stability, we have considered systems without input. We can also define stability of systems with input.  \n",
    "3. ****BIBO stability**: A system is called *Bounded Input Bounded Output stable*, if for any bounded input the system will produce an bounded output\n",
    "$$ \n",
    "    ||u(t)||\\leq\\epsilon\\:\\forall\\;t\\geq 0\\;,\\: x_0=0\\;\\implies||y(t)||\\leq\\delta\\:\\forall\\;t\\geq 0\n",
    "$$\n"
   ]
  },
  {
   "cell_type": "markdown",
   "id": "ac1984e6",
   "metadata": {},
   "source": [
    "### Conditions For stability\n",
    "Now that the notions of stability are known, Lets look into how can we check for them.\n",
    "For a general system\n",
    "$$\n",
    "    \\dot{x} = f(x,u)\n",
    "    y = h(x,u)\n",
    "$$\n",
    "The stability can be checked using the linearised system.   \n",
    "*If the linearised system of a general systemaround the equillibrium point is stable, the non-linear system is **locally** stable around that equillibrium point*.  \n",
    "The stability being *local* can be understood by the fact that the linearised system only mimics the actual system locally or close to the equillibrium point.  \n",
    "\n",
    "To check stability for the linear system,  \n",
    "For a given LTI system\n",
    "$$\n",
    "    \\dot{x} = Ax + Bu \\\\\n",
    "    y = Cx + Du\n",
    "$$\n",
    "\n",
    "Stability is determined by the matrix $A$  (here a trivial assumption is that the matrices $B,C,D$ have all finite values). The conditions for stability are as follows, $\\lambda_i$ denoting the eigenvalues of $A$:\n",
    "1. If $A$ is diagonalisable $\\implies$ Lyapunov stable if $Re(\\lambda_i)\\leq 0$,   Asymptotically stable if $Re(\\lambda_i)<0$  for all $i$\n",
    "2. If $A$ is not diagonalisable $\\implies$ Lyapunov stable if $Re(\\lambda_i)\\leq 0$ for all $i$, and no repeated eigenvalues with 0 real part"
   ]
  },
  {
   "cell_type": "markdown",
   "id": "6b373b66",
   "metadata": {},
   "source": [
    "TODO: Add exmples for diff stability types in the from of graphs"
   ]
  },
  {
   "cell_type": "markdown",
   "id": "b1cb7e73",
   "metadata": {},
   "source": [
    "#### Pendulum Stability\n",
    "\n",
    "The equations for a pendulum can be derived as follows using Newtonian Mechanics:\n",
    "$$\n",
    "    \\ddot{\\theta} +\\frac{g}{l}sin(\\theta) = 0\n",
    "$$\n",
    "\n",
    "This equation can be converted to the standard state-space form considering the following state vector:\n",
    "$$\n",
    "    x = \\begin{bmatrix} x_1 \\\\ x_2\\end{bmatrix} = \\begin{bmatrix} \\theta\\\\\\dot{\\theta}\\end{bmatrix}\n",
    "$$\n",
    "Using this the state space equations are:\n",
    "$$\n",
    "    \\dot{x} = \\begin{bmatrix} \\dot{x_1} \\\\ \\dot{x_2}\\end{bmatrix} = \\begin{bmatrix} \\dot{\\theta|}\\\\\\ddot{\\theta}\\end{bmatrix} = \\begin{bmatrix} x_2 \\\\ -\\frac{g}{l}sin(x_1)\\end{bmatrix}\n",
    "$$\n",
    "\n",
    "The equillibrium points for the system can be found using $\\dot{x} = 0$, which comes out to be \n",
    "$$\n",
    "    sin(x_1) = sin(\\theta) = 0 \\\\\n",
    "    \\implies \\theta = n\\pi\\; \\forall \\; n = \\{0, \\pm 1,\\pm 2,\\pm 3, \\pm 4,\\ldots \\}\n",
    "$$\n",
    "\n",
    "On a close rlook, we can see that these are essentiall just teo equillibrium points, being repeated with a $2\\pi$ rotation. The two equillibira being at the bottom ($x_1 = 0$) and the vertical top ($x_1 = \\pi$)\n",
    "\n",
    "Linearising the system around these two equillibrium points "
   ]
  },
  {
   "cell_type": "markdown",
   "id": "9f094b45",
   "metadata": {},
   "source": [
    "TODO: Add both pendulum linear systems and graphs for output of the system behavious and linear syst behaviour"
   ]
  },
  {
   "cell_type": "markdown",
   "id": "1cbfa623",
   "metadata": {},
   "source": [
    "#### Stability and Feedback "
   ]
  },
  {
   "cell_type": "markdown",
   "id": "a68daadf",
   "metadata": {},
   "source": [
    "#TODO: complete example form the last notebook done with stability and feedback law allwoing paramater changes"
   ]
  },
  {
   "cell_type": "markdown",
   "id": "55f01844",
   "metadata": {},
   "source": [
    "### Pendulum Spring Example\n",
    "TODO: diagram\n",
    "<!-- ![Image Title](.\\media\\Pendulum.png) -->\n",
    "\n",
    "\n",
    "<!-- <object data=\".\\media\\pendulum-v3.pdf\" type=\"application/pdf\" width=\"700px\" >\n",
    "<embed src=\".\\media\\pendulum-v3.pdf\">\n",
    "    <p>This browser does not support PDFs. Please download the PDF to view it: <a href=\"http://yoursite.com/the.pdf\">Download PDF</a>.</p>\n",
    "</embed>\n",
    "<iframe src = \".\\media\\pendulum-v3.pdf\">\n",
    "</object> -->\n",
    "\n",
    "\n",
    "#### Modelling\n",
    "The equations for the pendulum can be derived using basic mechanics.\n",
    "$$\n",
    "    \n",
    "$$\n"
   ]
  },
  {
   "cell_type": "code",
   "execution_count": null,
   "id": "ebf7b8f8",
   "metadata": {},
   "outputs": [],
   "source": [
    "#### Output response \n",
    "## Code for interactive plot\n",
    "# Initialize a display object\n",
    "output = widgets.Output()\n",
    "\n",
    "# Function to update the plot and title\n",
    "def update_plot(control_off_checkbox, control_on_checkbox, Kp_slider, Kd_slider):\n",
    "    with output:\n",
    "        output.clear_output(wait=True)  # Clear the previous output\n",
    "        # two subplots next to each other with given figure size:\n",
    "        fig, axs = plt.subplots(1, 2, figsize=(20,5))\n",
    "        \n",
    "        if control_off_checkbox:\n",
    "            x_out = run_sim(control_on=False, K_p=Kp_slider, K_d=Kd_slider)\n",
    "            axs[0].plot(x_out[:,0], label='No Feedback', color='red')\n",
    "            axs[1].plot(x_out[:,1], label='No Feedback', color='red')\n",
    "        \n",
    "        if control_on_checkbox:\n",
    "            x_out = run_sim(control_on=True, K_p=Kp_slider, K_d=Kd_slider)\n",
    "            axs[0].plot(x_out[:,0], label='With Feedback', color='blue')\n",
    "            axs[1].plot(x_out[:,1], label='With Feedback', color='blue')\n",
    "        \n",
    "        # x label with latex format of theta\n",
    "        axs[0].set_xlabel(r'Time: t[s]')\n",
    "        axs[0].set_ylabel(r'Angle: $\\theta(t) [rad]$')\n",
    "        axs[1].set_xlabel(r'Time: t[s]')\n",
    "        axs[1].set_ylabel(r'Angular Velocity: $\\dot\\theta(t)[rad/s]$')\n",
    "        for ax in axs:\n",
    "            xticks = ax.get_xticks()  # Get current x-ticks\n",
    "            ax.set_xticks(xticks)  # Fix the ticks first\n",
    "            ax.set_xticklabels([f'{int(tick/100)}' for tick in xticks])  # Divide x-ticks by 100\n",
    "\n",
    "        if control_off_checkbox or control_on_checkbox: # avoids legend error if none of the functions are selected\n",
    "            axs[0].legend()\n",
    "            axs[1].legend()\n",
    "        axs[0].grid()\n",
    "        axs[1].grid()\n",
    "        plt.show()\n",
    "\n",
    "# Create checkboxes to show controlled and uncontrolled plots\n",
    "control_off_checkbox = widgets.Checkbox(value=True, description='Control off')\n",
    "control_on_checkbox = widgets.Checkbox(value=False, description='Control on')\n",
    "\n",
    "# Create a slider for Kp and Kd\n",
    "Kp_slider = widgets.FloatSlider(value=0, min=0, max=70, step=0.1, description=\"K_p gain\")\n",
    "Kd_slider = widgets.FloatSlider(value=0, min=0, max=5, step=0.1, description=\"K_d gain\")\n",
    "\n",
    "# Arrange checkboxes in a vertical box\n",
    "checkboxes_box = widgets.VBox([control_off_checkbox, control_on_checkbox])\n",
    "\n",
    "# Arrange the checkboxes box and slider in a horizontal box\n",
    "controls_box = widgets.HBox([checkboxes_box, widgets.VBox([Kp_slider, Kd_slider])])\n",
    "\n",
    "# Link the widgets to the update_plot function\n",
    "widgets.interactive_output(update_plot, {\n",
    "    'control_off_checkbox': control_off_checkbox,\n",
    "    'control_on_checkbox': control_on_checkbox,\n",
    "    'Kp_slider': Kp_slider,\n",
    "    'Kd_slider': Kd_slider\n",
    "})\n",
    "\n",
    "# Display the controls and the plot\n",
    "display(controls_box, output) "
   ]
  },
  {
   "cell_type": "markdown",
   "id": "eba68106",
   "metadata": {},
   "source": [
    "#### Linearisation\n",
    "\n",
    "#### Stability\n",
    "\n",
    "#### Feedback Control"
   ]
  },
  {
   "cell_type": "markdown",
   "id": "9621dd83",
   "metadata": {},
   "source": []
  },
  {
   "cell_type": "markdown",
   "id": "126b8cd2",
   "metadata": {},
   "source": []
  },
  {
   "cell_type": "markdown",
   "id": "b99581dc",
   "metadata": {},
   "source": []
  }
 ],
 "metadata": {
  "kernelspec": {
   "display_name": "Python 3 (ipykernel)",
   "language": "python",
   "name": "python3"
  },
  "language_info": {
   "codemirror_mode": {
    "name": "ipython",
    "version": 3
   },
   "file_extension": ".py",
   "mimetype": "text/x-python",
   "name": "python",
   "nbconvert_exporter": "python",
   "pygments_lexer": "ipython3",
   "version": "3.12.6"
  }
 },
 "nbformat": 4,
 "nbformat_minor": 5
}
