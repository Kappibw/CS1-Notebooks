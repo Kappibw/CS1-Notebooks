{
 "cells": [
  {
   "cell_type": "markdown",
   "id": "b030654c",
   "metadata": {},
   "source": [
    "# Control Systems 1, NB03: Time Response and Stability\n",
    "2024 ETH Zurich, Mark Benazet Castells, Jonas Holinger, Felix Muller, Matteo Penlington; Institute for Dynamic Systems and Control; Prof. Emilio Frazzoli\n",
    "\n",
    "\n",
    "This interactive notebook is designed to introduce fundamental concepts in control systems engineering. It covers the basics of system modeling, classification, and analysis, with a focus on building intuition through visual and interactive examples.\n",
    "\n",
    "Authors:\n",
    "- Jonas Holinger; jholinger@ethz.ch\n",
    "- Shubham Gupta; shugupta@ethz.ch\n"
   ]
  },
  {
   "cell_type": "markdown",
   "id": "4d312ded",
   "metadata": {},
   "source": [
    "## Learning Objectives\n",
    "\n",
    "After completing this notebook, you should be able to:\n",
    "\n",
    "1. Understand how to compute the general form response of a linear system by combining its initial condition response and its forced response\n",
    "2. Understand the various definitions of stability for a dynamical system\n",
    "3. Understand whether a LTI system is stable or unstable by looking at the eigenvalues of the A Matrix"
   ]
  },
  {
   "cell_type": "markdown",
   "id": "fd5f248c",
   "metadata": {},
   "source": [
    "# Setup"
   ]
  },
  {
   "cell_type": "markdown",
   "id": "1299447a",
   "metadata": {},
   "source": [
    "## Installing the required packages:\n"
   ]
  },
  {
   "cell_type": "code",
   "execution_count": 1,
   "id": "ffc80dd7",
   "metadata": {},
   "outputs": [
    {
     "name": "stdout",
     "output_type": "stream",
     "text": [
      "Requirement already satisfied: numpy in c:\\users\\shubh\\desktop\\eth zurich\\sem 3\\cs1 taship\\cs1-notebooks\\.venv\\lib\\site-packages (2.1.1)\n",
      "Requirement already satisfied: matplotlib in c:\\users\\shubh\\desktop\\eth zurich\\sem 3\\cs1 taship\\cs1-notebooks\\.venv\\lib\\site-packages (3.9.2)\n",
      "Requirement already satisfied: scipy in c:\\users\\shubh\\desktop\\eth zurich\\sem 3\\cs1 taship\\cs1-notebooks\\.venv\\lib\\site-packages (1.14.1)\n",
      "Requirement already satisfied: ipywidgets in c:\\users\\shubh\\desktop\\eth zurich\\sem 3\\cs1 taship\\cs1-notebooks\\.venv\\lib\\site-packages (8.1.5)\n",
      "Requirement already satisfied: control in c:\\users\\shubh\\desktop\\eth zurich\\sem 3\\cs1 taship\\cs1-notebooks\\.venv\\lib\\site-packages (0.10.1)\n",
      "Requirement already satisfied: IPython in c:\\users\\shubh\\desktop\\eth zurich\\sem 3\\cs1 taship\\cs1-notebooks\\.venv\\lib\\site-packages (8.27.0)\n",
      "Requirement already satisfied: contourpy>=1.0.1 in c:\\users\\shubh\\desktop\\eth zurich\\sem 3\\cs1 taship\\cs1-notebooks\\.venv\\lib\\site-packages (from matplotlib) (1.3.0)\n",
      "Requirement already satisfied: cycler>=0.10 in c:\\users\\shubh\\desktop\\eth zurich\\sem 3\\cs1 taship\\cs1-notebooks\\.venv\\lib\\site-packages (from matplotlib) (0.12.1)\n",
      "Requirement already satisfied: fonttools>=4.22.0 in c:\\users\\shubh\\desktop\\eth zurich\\sem 3\\cs1 taship\\cs1-notebooks\\.venv\\lib\\site-packages (from matplotlib) (4.53.1)\n",
      "Requirement already satisfied: kiwisolver>=1.3.1 in c:\\users\\shubh\\desktop\\eth zurich\\sem 3\\cs1 taship\\cs1-notebooks\\.venv\\lib\\site-packages (from matplotlib) (1.4.7)\n",
      "Requirement already satisfied: packaging>=20.0 in c:\\users\\shubh\\desktop\\eth zurich\\sem 3\\cs1 taship\\cs1-notebooks\\.venv\\lib\\site-packages (from matplotlib) (24.1)\n",
      "Requirement already satisfied: pillow>=8 in c:\\users\\shubh\\desktop\\eth zurich\\sem 3\\cs1 taship\\cs1-notebooks\\.venv\\lib\\site-packages (from matplotlib) (10.4.0)\n",
      "Requirement already satisfied: pyparsing>=2.3.1 in c:\\users\\shubh\\desktop\\eth zurich\\sem 3\\cs1 taship\\cs1-notebooks\\.venv\\lib\\site-packages (from matplotlib) (3.1.4)\n",
      "Requirement already satisfied: python-dateutil>=2.7 in c:\\users\\shubh\\desktop\\eth zurich\\sem 3\\cs1 taship\\cs1-notebooks\\.venv\\lib\\site-packages (from matplotlib) (2.9.0.post0)\n",
      "Requirement already satisfied: comm>=0.1.3 in c:\\users\\shubh\\desktop\\eth zurich\\sem 3\\cs1 taship\\cs1-notebooks\\.venv\\lib\\site-packages (from ipywidgets) (0.2.2)\n",
      "Requirement already satisfied: traitlets>=4.3.1 in c:\\users\\shubh\\desktop\\eth zurich\\sem 3\\cs1 taship\\cs1-notebooks\\.venv\\lib\\site-packages (from ipywidgets) (5.14.3)\n",
      "Requirement already satisfied: widgetsnbextension~=4.0.12 in c:\\users\\shubh\\desktop\\eth zurich\\sem 3\\cs1 taship\\cs1-notebooks\\.venv\\lib\\site-packages (from ipywidgets) (4.0.13)\n",
      "Requirement already satisfied: jupyterlab-widgets~=3.0.12 in c:\\users\\shubh\\desktop\\eth zurich\\sem 3\\cs1 taship\\cs1-notebooks\\.venv\\lib\\site-packages (from ipywidgets) (3.0.13)\n",
      "Requirement already satisfied: decorator in c:\\users\\shubh\\desktop\\eth zurich\\sem 3\\cs1 taship\\cs1-notebooks\\.venv\\lib\\site-packages (from IPython) (5.1.1)\n",
      "Requirement already satisfied: jedi>=0.16 in c:\\users\\shubh\\desktop\\eth zurich\\sem 3\\cs1 taship\\cs1-notebooks\\.venv\\lib\\site-packages (from IPython) (0.19.1)\n",
      "Requirement already satisfied: matplotlib-inline in c:\\users\\shubh\\desktop\\eth zurich\\sem 3\\cs1 taship\\cs1-notebooks\\.venv\\lib\\site-packages (from IPython) (0.1.7)\n",
      "Requirement already satisfied: prompt-toolkit<3.1.0,>=3.0.41 in c:\\users\\shubh\\desktop\\eth zurich\\sem 3\\cs1 taship\\cs1-notebooks\\.venv\\lib\\site-packages (from IPython) (3.0.47)\n",
      "Requirement already satisfied: pygments>=2.4.0 in c:\\users\\shubh\\desktop\\eth zurich\\sem 3\\cs1 taship\\cs1-notebooks\\.venv\\lib\\site-packages (from IPython) (2.18.0)\n",
      "Requirement already satisfied: stack-data in c:\\users\\shubh\\desktop\\eth zurich\\sem 3\\cs1 taship\\cs1-notebooks\\.venv\\lib\\site-packages (from IPython) (0.6.3)\n",
      "Requirement already satisfied: colorama in c:\\users\\shubh\\desktop\\eth zurich\\sem 3\\cs1 taship\\cs1-notebooks\\.venv\\lib\\site-packages (from IPython) (0.4.6)\n",
      "Requirement already satisfied: parso<0.9.0,>=0.8.3 in c:\\users\\shubh\\desktop\\eth zurich\\sem 3\\cs1 taship\\cs1-notebooks\\.venv\\lib\\site-packages (from jedi>=0.16->IPython) (0.8.4)\n",
      "Requirement already satisfied: wcwidth in c:\\users\\shubh\\desktop\\eth zurich\\sem 3\\cs1 taship\\cs1-notebooks\\.venv\\lib\\site-packages (from prompt-toolkit<3.1.0,>=3.0.41->IPython) (0.2.13)\n",
      "Requirement already satisfied: six>=1.5 in c:\\users\\shubh\\desktop\\eth zurich\\sem 3\\cs1 taship\\cs1-notebooks\\.venv\\lib\\site-packages (from python-dateutil>=2.7->matplotlib) (1.16.0)\n",
      "Requirement already satisfied: executing>=1.2.0 in c:\\users\\shubh\\desktop\\eth zurich\\sem 3\\cs1 taship\\cs1-notebooks\\.venv\\lib\\site-packages (from stack-data->IPython) (2.1.0)\n",
      "Requirement already satisfied: asttokens>=2.1.0 in c:\\users\\shubh\\desktop\\eth zurich\\sem 3\\cs1 taship\\cs1-notebooks\\.venv\\lib\\site-packages (from stack-data->IPython) (2.4.1)\n",
      "Requirement already satisfied: pure-eval in c:\\users\\shubh\\desktop\\eth zurich\\sem 3\\cs1 taship\\cs1-notebooks\\.venv\\lib\\site-packages (from stack-data->IPython) (0.2.3)\n",
      "Note: you may need to restart the kernel to use updated packages.\n"
     ]
    }
   ],
   "source": [
    "%pip install numpy matplotlib scipy ipywidgets control IPython"
   ]
  },
  {
   "cell_type": "markdown",
   "id": "15408404",
   "metadata": {},
   "source": [
    "## Import the packages\n",
    "The following cell imports the required packages. Run it before running the rest of the notebook."
   ]
  },
  {
   "cell_type": "code",
   "execution_count": 2,
   "id": "898c5565",
   "metadata": {},
   "outputs": [],
   "source": [
    "import control as ct\n",
    "import matplotlib.pyplot as plt\n",
    "import numpy as np\n",
    "import math\n",
    "import ipywidgets as widgets\n",
    "from scipy.integrate import odeint\n",
    "from IPython.display import display, clear_output, Math"
   ]
  },
  {
   "cell_type": "markdown",
   "id": "9e681ed3",
   "metadata": {},
   "source": [
    "## 1. Output Response of a Linear System\n",
    "If we want to calculate the output of a LTI system we can separate the problem into two cases:\n",
    "- **Initial-conditions response:**\n",
    "\n",
    "  $$\n",
    "  \\left\\{\n",
    "  \\begin{array}{ll}\n",
    "  x_{IC}(0) = x_0 \\\\\n",
    "  u_{IC}(t) = 0\n",
    "  \\end{array}\n",
    "  \\right.\n",
    "  \\quad \\longrightarrow \\quad y_{IC};\n",
    "  $$\n",
    "\n",
    "- **Forced response:**\n",
    "\n",
    "  $$\n",
    "  \\left\\{\n",
    "  \\begin{array}{ll}\n",
    "  x_{F}(0) = 0 \\\\\n",
    "  u_{F}(t) = u(t)\n",
    "  \\end{array}\n",
    "  \\right.\n",
    "  \\quad \\longrightarrow \\quad y_{F}.\n",
    "  $$\n",
    "\n",
    "\n",
    "\n",
    "From previous lectures we learned that the definition of linear system is: \n",
    "$$\n",
    "\\Sigma (\\alpha u_a + \\beta u_b) = \\alpha (\\Sigma u_a) + \\beta (\\Sigma u_b) = \\alpha y_a + \\beta y_b\n",
    "$$\n",
    "and we also know that due to causality the  system can be summarized by a state $x(t)$.\n",
    "Because of these properties, the output of a linear  system can be expressed as: $$y = y_{IC}+y_{F}$$"
   ]
  },
  {
   "cell_type": "markdown",
   "id": "25120fe2",
   "metadata": {},
   "source": [
    "## 1.1 Example: Output Response of a Scalar Linear System\n",
    "As an example of a scalar linear system,let's consider a room with temperature $T(t)$, initial Temperatur of the room $T_0$ and thermal capacity C. The temperature outside is $T_{amb}$ and the room gets heated with power $P(t)$ and loses heat described by the equation $G(T(t) - T_{amb})$ where $G$ is the thermal conductance. The system is described by the following formula from Thermodynamics: $$C \\frac{dT(t)}{dt} + G \\left(T(t) - T_{\\text{ambient}}\\right) = P(t)$$\n",
    "\n",
    "\n",
    "![Image Title](./media/sys4iofo.png)\n",
    "\n",
    "\n",
    "We choose $T(t)$ as our state and $P(t)$ as our input:\n",
    "$$y(t) = x(t) = T(t)$$\n",
    "$$u(t) = P(t)$$\n",
    "$$\\dot{x}(t) = \\frac{-G}{C} x(t) + \\frac{1}{C} u(t) + \\frac{G T_{\\text{amb}}}{C}$$\n",
    "\\\n",
    "Since it's winter we assume $T_{amb}$ is $0$. This gives us the following description in the state space model:\n",
    "$$a=-G/C$$\n",
    "$$b = 1/C$$\n",
    "$$c = 1$$\n",
    "$$d = 0$$\n",
    "\n"
   ]
  },
  {
   "cell_type": "code",
   "execution_count": 4,
   "id": "55f88259",
   "metadata": {},
   "outputs": [],
   "source": [
    "#initalise the system\n",
    "\n",
    "# Define a time vector\n",
    "time = np.linspace(0, 20, 500)\n",
    "\n",
    "#Define the param\n",
    "C = 2\n",
    "G = 3\n",
    "\n",
    "# Define state-space system\n",
    "def create_system(G, C):\n",
    "    A = -G / C\n",
    "    B = 1 / C\n",
    "    C_matrix = 1\n",
    "    D = 0\n",
    "    return ct.StateSpace(A, B, C_matrix, D)\n",
    "\n",
    "# func for generating input\n",
    "def generate_input(input_type, time_vector):\n",
    "    if input_type == 'Constant':\n",
    "        return np.full_like(time_vector, forced_input_slider.value)\n",
    "    elif input_type == 'Ramp (5s)':\n",
    "        ramp_duration = 5\n",
    "        ramp_input = np.clip(np.linspace(0, forced_input_slider.value, int(ramp_duration / time[1])),\n",
    "                              0, None)\n",
    "        constant_input = np.full_like(time_vector[int(ramp_duration / time[1]):], forced_input_slider.value)\n",
    "        return np.concatenate((ramp_input, constant_input))\n",
    "    elif input_type == 'Ramp (15s)':\n",
    "        ramp_duration = 15\n",
    "        ramp_input = np.clip(np.linspace(0, forced_input_slider.value, int(ramp_duration / time[1])),\n",
    "                              0, None)\n",
    "        constant_input = np.full_like(time_vector[int(ramp_duration / time[1]):], forced_input_slider.value)\n",
    "        return np.concatenate((ramp_input, constant_input))\n",
    "    elif input_type == 'Sinusoidal':\n",
    "        return forced_input_slider.value * np.sin(0.5 * np.pi * time_vector)  # Frequency can be adjusted"
   ]
  },
  {
   "cell_type": "markdown",
   "id": "fd3ba8ed",
   "metadata": {},
   "source": [
    "### 1.1.2 Initial Condition Response\n",
    "To get the initial condition response for the system we need to solve the following ODE;\n",
    "$$\n",
    "\\dot{x(t)}_{IC} = ax(t)_{IC}, \n",
    "$$\n",
    "$$\n",
    "y(t)_{IC}=cx(t)_{IC}\n",
    "$$\n",
    "$$\n",
    "x(0) = x_0 = T_0\n",
    "$$\n",
    "\n",
    "The general solution is known from Analysis :\n",
    "$$\n",
    "x(t)_{IC} = e^{at}T_0\n",
    "$$\n",
    "\n",
    "$$\n",
    "y(t)_{IC} = ce^{at}T_0\n",
    "$$\n",
    "For our specific problem we get:\n",
    "$$\n",
    "y(t)_{IC} = e^{\\frac{-G}{C}}T_0\n",
    "$$"
   ]
  },
  {
   "cell_type": "markdown",
   "id": "4e569863",
   "metadata": {},
   "source": [
    "#### Visualization\n",
    "In the Visualization you can see how the state of our system exponentially decays to zero."
   ]
  },
  {
   "cell_type": "code",
   "execution_count": 5,
   "id": "fcf55eff",
   "metadata": {},
   "outputs": [
    {
     "data": {
      "image/png": "[encoded data removed]",
      "text/plain": [
       "<Figure size 2000x1000 with 1 Axes>"
      ]
     },
     "metadata": {},
     "output_type": "display_data"
    },
    {
     "data": {
      "application/vnd.jupyter.widget-view+json": {
       "model_id": "e3126d675a3942b0b276a3c9e08d6d50",
       "version_major": 2,
       "version_minor": 0
      },
      "text/plain": [
       "FloatSlider(value=2.0000000000000004, description='G:', max=5.0, min=0.1)"
      ]
     },
     "metadata": {},
     "output_type": "display_data"
    },
    {
     "data": {
      "application/vnd.jupyter.widget-view+json": {
       "model_id": "5b149c985ad04579b325b1a1376e290c",
       "version_major": 2,
       "version_minor": 0
      },
      "text/plain": [
       "FloatSlider(value=1.0000000000000002, description='C:', max=5.0, min=0.1)"
      ]
     },
     "metadata": {},
     "output_type": "display_data"
    },
    {
     "data": {
      "application/vnd.jupyter.widget-view+json": {
       "model_id": "9b14b0d99a5b46758a960525c388535b",
       "version_major": 2,
       "version_minor": 0
      },
      "text/plain": [
       "FloatSlider(value=5.0, description='T0:', max=20.0, min=-20.0, step=0.5)"
      ]
     },
     "metadata": {},
     "output_type": "display_data"
    },
    {
     "data": {
      "text/latex": [
       "$\\displaystyle y(t) = e^{\\frac{-2.0000000000000004}{1.0000000000000002}} {5.0}$"
      ],
      "text/plain": [
       "<IPython.core.display.Math object>"
      ]
     },
     "metadata": {},
     "output_type": "display_data"
    }
   ],
   "source": [
    "def update_plot_ic(t_0):\n",
    "    clear_output(wait=True)  # Clear previous output\n",
    "    system = create_system(G_slider.value, C_slider.value)  \n",
    "    plt.figure(figsize=(20, 10))\n",
    "    \n",
    "    # Simulate the response to the current initial condition\n",
    "    t, y = ct.initial_response(system, T=time, X0=[t_0])\n",
    "    \n",
    "    # Plot the responses\n",
    "    plt.plot(t, y, label='Inital Response', color='blue')\n",
    "    plt.title('System Response to Initial Condition')\n",
    "    plt.xlabel('Time')\n",
    "    plt.ylabel('Temperature')\n",
    "    plt.grid()\n",
    "    plt.legend()\n",
    "    plt.show()\n",
    "    \n",
    "    formula = f\"y(t) = e^{{\\\\frac{{-{G_slider.value}}}{{{C_slider.value}}}}} {{{t_0}}}\"\n",
    "    # Display sliders and dropdown again\n",
    "    display(G_slider, C_slider, t_0_slider)\n",
    "    display(Math(formula))\n",
    "    \n",
    "G_slider = widgets.FloatSlider(value=1.0, min=0.1, max=5.0, step=0.1, description='G:')\n",
    "C_slider = widgets.FloatSlider(value=1.0, min=0.1, max=5.0, step=0.1, description='C:')\n",
    "t_0_slider = widgets.FloatSlider(value=1.0, min=-20, max=20, step=0.5, description='T0:')\n",
    "\n",
    "# Observers for the sliders and dropdown\n",
    "G_slider.observe(lambda change: update_plot_ic(t_0_slider.value), names='value')\n",
    "C_slider.observe(lambda change: update_plot_ic(t_0_slider.value), names='value')\n",
    "t_0_slider.observe(lambda change: update_plot_ic(t_0_slider.value), names='value')\n",
    "\n",
    "# Display sliders and initial plot\n",
    "display(G_slider, C_slider, t_0_slider)\n",
    "update_plot_ic(t_0_slider.value)\n",
    "\n",
    "\n"
   ]
  },
  {
   "cell_type": "markdown",
   "id": "ec4ee8cb",
   "metadata": {},
   "source": [
    "### 1.1.2 Forced Response\n",
    "\n",
    "The forced response, which was derived in the lecture with $u(t) \\neq 0$ and $x_0 = 0$ is:\n",
    "$$ x_{FC}=\\int_{0}^{t}e^{a\\cdot (t-\\tau )}bu(\\tau )d\\tau $$\n",
    "$$  y_{FC}=c\\int_{0}^{t}e^{a\\cdot (t-\\tau )}bu(\\tau )d\\tau + du(t)$$\n",
    "\n",
    "#### Example: Step Input Response\n",
    "\n",
    "Lets work out an example for the forced response of this system to a step input defined as :\n",
    "$$\n",
    "   \\begin{equation}\n",
    "      u_{step}(t) =\n",
    "         \\left\\{\\begin{array}{lr}\n",
    "            0, & -\\infty < x \\le 0 \\\\\n",
    "            1, & 0 < x < \\infty\n",
    "         \\end{array}\\right.\n",
    "   \\end{equation}\n",
    "$$\n",
    "In principal it is similar to a constant input.\n",
    "\n",
    "Putting in the values for $a,b,c,d$ we have the foermula for the forced response\n",
    "\n",
    "$$ x_{FC}= y_{FC} = \\int_{0}^{t}e^{G/C\\cdot (t-\\tau )}\\frac{1}{C}u(\\tau )d\\tau $$\n",
    "\n",
    "Substituting the input definition for a step input as given above\n",
    "\n",
    "\n",
    "$$ \n",
    "   \\begin{align}x_{FC}= y_{FC} &= \\int_{0}^{t}e^{G/C\\cdot (t-\\tau )}\\frac{1}{C}\\cdot 1 d\\tau\\\\\n",
    "&= \\frac{1}{C}\\int_{0}^{t}e^{G/C\\cdot (t-\\tau )} d\\tau\\\\\n",
    "&= \\frac{1}{C} \\left[\\frac{-C}{G} e^{G/C\\cdot (t-\\tau )}\\right]_0^t\\\\\n",
    "&= \\frac{1}{G} \\left[e^{G/C\\cdot (t )} - 1\\right]\n",
    "\\end{align} \n",
    "$$\n",
    "\n",
    "Hence the step reposnse is $x_{FC}= y_{FC}= \\frac{1}{G} \\left[e^{G/C\\cdot (t )} - 1\\right]$. This (and other inputs) can be visualised in the the visualisation below."
   ]
  },
  {
   "cell_type": "markdown",
   "id": "10c383a0",
   "metadata": {},
   "source": [
    "#### Visualization\n",
    "In the visualization you can see how the system reacts to different input types, which can be selected by the drop-down menu. The input slider adjusts how strong the amplitude of the input is. You can show the response due to initial condition and the total response by pressing the buttons."
   ]
  },
  {
   "cell_type": "code",
   "execution_count": 6,
   "id": "a6ab950c",
   "metadata": {},
   "outputs": [
    {
     "data": {
      "image/png": "[encoded data removed]",
      "text/plain": [
       "<Figure size 2000x1000 with 1 Axes>"
      ]
     },
     "metadata": {},
     "output_type": "display_data"
    },
    {
     "data": {
      "application/vnd.jupyter.widget-view+json": {
       "model_id": "11e21ab92e4247bab6487ae84b0c847f",
       "version_major": 2,
       "version_minor": 0
      },
      "text/plain": [
       "FloatSlider(value=1.0000000000000002, description='G:', max=5.0, min=0.1)"
      ]
     },
     "metadata": {},
     "output_type": "display_data"
    },
    {
     "data": {
      "application/vnd.jupyter.widget-view+json": {
       "model_id": "6d33ebe7e6814fc39af42f5828683e9d",
       "version_major": 2,
       "version_minor": 0
      },
      "text/plain": [
       "FloatSlider(value=1.0000000000000002, description='C:', max=5.0, min=0.1)"
      ]
     },
     "metadata": {},
     "output_type": "display_data"
    },
    {
     "data": {
      "application/vnd.jupyter.widget-view+json": {
       "model_id": "554c7b90bd2b468fb4417bd39f68ff86",
       "version_major": 2,
       "version_minor": 0
      },
      "text/plain": [
       "FloatSlider(value=1.0000000000000036, description='T0:', max=40.0, min=-15.0)"
      ]
     },
     "metadata": {},
     "output_type": "display_data"
    },
    {
     "data": {
      "application/vnd.jupyter.widget-view+json": {
       "model_id": "ad408f08efe040deba79b48f96f45227",
       "version_major": 2,
       "version_minor": 0
      },
      "text/plain": [
       "FloatSlider(value=1.0, description='Input:', max=30.0, step=0.5)"
      ]
     },
     "metadata": {},
     "output_type": "display_data"
    },
    {
     "data": {
      "application/vnd.jupyter.widget-view+json": {
       "model_id": "19cb8f4dd2614b87b889e8f102058f44",
       "version_major": 2,
       "version_minor": 0
      },
      "text/plain": [
       "Dropdown(description='Input Type:', options=('Constant', 'Ramp (5s)', 'Ramp (15s)', 'Sinusoidal'), value='Cons…"
      ]
     },
     "metadata": {},
     "output_type": "display_data"
    },
    {
     "data": {
      "application/vnd.jupyter.widget-view+json": {
       "model_id": "c4cbc6eb569c4eb5b9206034e77a6375",
       "version_major": 2,
       "version_minor": 0
      },
      "text/plain": [
       "ToggleButton(value=False, description='Show Initial Response')"
      ]
     },
     "metadata": {},
     "output_type": "display_data"
    },
    {
     "data": {
      "application/vnd.jupyter.widget-view+json": {
       "model_id": "c37ccbe1fc3b498cadb81e924e999dec",
       "version_major": 2,
       "version_minor": 0
      },
      "text/plain": [
       "ToggleButton(value=False, description='Show Total Response')"
      ]
     },
     "metadata": {},
     "output_type": "display_data"
    }
   ],
   "source": [
    "# Function to update the plot\n",
    "def update_plot_fc(t_0, input_type, show_initial_response, show_total_response):\n",
    "    clear_output(wait=True)  \n",
    "    system = create_system(G_slider.value, C_slider.value)  \n",
    "    \n",
    "    plt.figure(figsize=(20, 10))\n",
    "\n",
    "    # Simulate the response to the current initial condition\n",
    "    t, initial_response = ct.initial_response(system, T=time, X0=[t_0])\n",
    "    \n",
    "    # Generate the forced input\n",
    "    input_fc = generate_input(input_type, time)\n",
    "    \n",
    "    # Use control's forced_response to get output for the input signal\n",
    "    t, forced_response = ct.forced_response(system, T=time, U=input_fc)\n",
    "    \n",
    "    # Total response\n",
    "    total_response = initial_response + forced_response\n",
    "    \n",
    "    # Plot the forced input response\n",
    "    plt.plot(t, forced_response, label='Forced Output', color='red')\n",
    "    plt.plot(t, input_fc, label='Forced Input', color='orange', linestyle='--')\n",
    "    # Plot initial response only if the toggle is on\n",
    "    if show_initial_response:\n",
    "        plt.plot(t, initial_response, label='Initial Response', color='green')\n",
    "        \n",
    "    # Plot total response only if the toggle is on\n",
    "    if show_total_response:\n",
    "        plt.plot(t, total_response, label='Total Response', color='blue')\n",
    "\n",
    "    plt.title('System Response')\n",
    "    plt.xlabel('Time (s)')\n",
    "    plt.ylabel('Temperature')\n",
    "    plt.grid()\n",
    "    plt.legend()\n",
    "    plt.show()\n",
    "\n",
    "    # Display sliders and dropdown again\n",
    "    display(G_slider, C_slider, t_0_slider, forced_input_slider, \n",
    "            input_type_dropdown, show_initial_response_button, \n",
    "            show_total_response_button)\n",
    "\n",
    "\n",
    "# Create sliders for G, C, t_0, and a dropdown for input type\n",
    "G_slider = widgets.FloatSlider(value=1.0, min=0.1, max=5.0, step=0.1, description='G:')\n",
    "C_slider = widgets.FloatSlider(value=1.0, min=0.1, max=5.0, step=0.1, description='C:')\n",
    "t_0_slider = widgets.FloatSlider(value=1.0, min=-15.0, max=40.0, step=0.1, description='T0:')\n",
    "forced_input_slider = widgets.FloatSlider(value=1.0, min=0, max=30.0, step=0.5, description='Input:')\n",
    "input_type_dropdown = widgets.Dropdown(\n",
    "    options=['Constant', 'Ramp (5s)', 'Ramp (15s)', 'Sinusoidal'],\n",
    "    value='Ramp (5s)',\n",
    "    description='Input Type:'\n",
    ")\n",
    "\n",
    "# Create toggle buttons for showing the initial response and total response\n",
    "show_initial_response_button = widgets.ToggleButton(\n",
    "    value=False,\n",
    "    description='Show Initial Response',\n",
    "    button_style='',  \n",
    ")\n",
    "\n",
    "show_total_response_button = widgets.ToggleButton(\n",
    "    value=False,\n",
    "    description='Show Total Response',\n",
    "    button_style='',\n",
    ")\n",
    "\n",
    "# Observers for the sliders, dropdown, and toggle buttons\n",
    "G_slider.observe(lambda change: update_plot_fc(t_0_slider.value, input_type_dropdown.value, \n",
    "                                                show_initial_response_button.value, \n",
    "                                                show_total_response_button.value), names='value')\n",
    "C_slider.observe(lambda change: update_plot_fc(t_0_slider.value, input_type_dropdown.value, \n",
    "                                                show_initial_response_button.value, \n",
    "                                                show_total_response_button.value), names='value')\n",
    "t_0_slider.observe(lambda change: update_plot_fc(change['new'], input_type_dropdown.value, \n",
    "                                                   show_initial_response_button.value, \n",
    "                                                   show_total_response_button.value), names='value')\n",
    "forced_input_slider.observe(lambda change: update_plot_fc(t_0_slider.value, input_type_dropdown.value, \n",
    "                                                           show_initial_response_button.value, \n",
    "                                                           show_total_response_button.value), names='value')\n",
    "input_type_dropdown.observe(lambda change: update_plot_fc(t_0_slider.value, change['new'], \n",
    "                                                           show_initial_response_button.value, \n",
    "                                                           show_total_response_button.value), names='value')\n",
    "show_initial_response_button.observe(lambda change: update_plot_fc(t_0_slider.value, \n",
    "                                                                  input_type_dropdown.value, \n",
    "                                                                  change['new'], \n",
    "                                                                  show_total_response_button.value), names='value')\n",
    "show_total_response_button.observe(lambda change: update_plot_fc(t_0_slider.value, \n",
    "                                                                 input_type_dropdown.value, \n",
    "                                                                 show_initial_response_button.value, \n",
    "                                                                 change['new']), names='value')\n",
    "\n",
    "# Display sliders and initial plot\n",
    "display(G_slider, C_slider, t_0_slider, forced_input_slider, \n",
    "        input_type_dropdown, show_initial_response_button, \n",
    "        show_total_response_button)\n",
    "update_plot_fc(t_0_slider.value, input_type_dropdown.value, \n",
    "                show_initial_response_button.value, \n",
    "                show_total_response_button.value)\n"
   ]
  },
  {
   "cell_type": "markdown",
   "id": "85d23aa2",
   "metadata": {},
   "source": [
    "## 2 Output Response of General Linear System\n",
    "\n",
    "For a system, which is not scalar, we need to compute the matrix exponential.\n",
    "The definition of our matrix exponential $e^{At}$ is:\n",
    "$$\\frac{de^{At}}{dt}=Ae^{AT}=e^{AT}A$$\n",
    "We achieve our definition with the following:\n",
    "$$e^{AT}=I+At+\\frac{1}{2}(AT)^{2}+...+\\frac{1}{n!}(At)^{n}$$\n",
    "\n",
    "In python we can use the function `numpy.exp(A)`.\n",
    "\n",
    "\n",
    "\n",
    "### 2.1 Diagonalization and Jordan Forms\n",
    "To make our life easier, when calculating the matrix expontential by hand, we want to bring the matrix A into the Diagonal or Jordan form. The solution in these forms looks like this:  \n",
    "\n",
    "\n",
    "\n",
    "In Diagonal Form:\n",
    "$$\n",
    "D = \\begin{pmatrix} \\lambda_1 t & 0 \\\\ 0 & \\lambda_2 t \\end{pmatrix}\n",
    "$$\n",
    "\n",
    "\n",
    "$$\n",
    "e^{D} = \\begin{pmatrix} e^{\\lambda_1 t} & 0 \\\\ 0 & e^{\\lambda_2 t} \\end{pmatrix}\n",
    "$$\n",
    "\n",
    "\n",
    "In Jordan Form:\n",
    "$$\n",
    "J = \\begin{pmatrix} \\lambda t & 1t \\\\ 0 & \\lambda t \\end{pmatrix}\n",
    "$$\n",
    "\n",
    "\n",
    "$$\n",
    "e^{J} =  \\begin{pmatrix} e^{\\lambda t} & e^{\\lambda t} \\\\ 0 & e^{\\lambda t} \\end{pmatrix}\n",
    "$$\n",
    "\n",
    "### 2.2 Similarity Transformations\n",
    "We can use the fact that the choice of a state space model is not unique for a system to transform it to a more suitable form for calculating the matrix exponential by hand. One method to do that is to use similarity transforms.  $A$ and $B$ are similar if $B =  T^{-1}AT$ where T is an invertible Matrix. \n",
    "$A$ and $\\tilde{A}$ are similiar if $$ \\tilde{A} =  T^{-1}AT$$ where T is an invertible Matrix. If we transform the matrices from our state-space model $(A,B,C,D)$ to $(\\tilde{A},\\tilde{B},\\tilde{C},\\tilde{D})$ using the similarity transform $x = T \\tilde{x}$ and $\\tilde{x} = T^{-1}x$, the time response and the eigenvalues stay the same. \n",
    "\n",
    "$$\n",
    "\\begin{cases}\n",
    "\\dot{x} = Ax + Bu, \\\\\n",
    "y = Cx + Du.\n",
    "\\end{cases}\n",
    "\\quad\n",
    "$$\n",
    "\n",
    "we get\n",
    "\n",
    "$$\n",
    "\\begin{cases}\n",
    "\\dot{\\tilde{x}} = (T^{-1} A T) \\tilde{x} + (T^{-1} B) u = \\tilde{A} \\tilde{x} + \\tilde{B} u, \\\\\n",
    "y = (CT) \\tilde{x} + Du = \\tilde{C} \\tilde{x} + \\tilde{D} u.\n",
    "\\end{cases}\n",
    "$$\n",
    "\n",
    "To diagnolise $A$, we chose the matrix $T$ whose columns are the eigenvectors of A.\n",
    "\n",
    "#### 2.2.1 Example\n",
    "We have a state space model with the following matrices.\n",
    "$$\\begin{array}{c} A = \\begin{bmatrix} 0 & 1 \\\\ -2 & -3 \\end{bmatrix}, \\quad B = \\begin{bmatrix} 0 \\\\ 1 \\end{bmatrix}, \\quad C = \\begin{bmatrix} 1 & 0 \\end{bmatrix}, \\quad D = 0, \\quad x(0) =  \\begin{bmatrix} 2 \\\\ 3 \\end{bmatrix} \\end{array}$$\n",
    "To find the Eigenvalues of A we solve: $$\\det(A - \\lambda I) = 0$$\n",
    "which gives us the Eigenvalues $\\lambda_{1}  = -1$ and $\\lambda_{2} = -2$.\n",
    "\n",
    "We solve $$(A - \\lambda I)v = 0$$ to get us the Eigenvectors $ \\begin{bmatrix}\n",
    "1 \\\\ -1\n",
    "\\end{bmatrix}$ and $\\begin{bmatrix}\n",
    "-1 \\\\ 2\n",
    "\\end{bmatrix}$\n",
    "which gives us the matrix $ T = \\begin{bmatrix}\n",
    "1 &  -1\\\\\n",
    "-1 &  2\\\\\n",
    "\\end{bmatrix}\n",
    "$. We apply the similarity transform to our matrices.\n",
    "\n",
    "\n",
    "$$\\tilde{A} = T^{-1} A T = \\begin{bmatrix} -1 & 0 \\\\ 0 & -2 \\end{bmatrix} $$\n",
    "$$\\tilde{B} = T^{-1} B = \\begin{bmatrix} 1 \\\\ 1 \\end{bmatrix} $$\n",
    "$$\\tilde{C} = C T = \\begin{bmatrix} 1 & -1 \\end{bmatrix}$$\n",
    "$$\\tilde{x}_0 = T^{-1}x_0 = \\begin{bmatrix} 7 \\\\ 5 \\end{bmatrix}$$\n",
    "The entries in the diagonal matrix $\\tilde{A}$ are the eigenvalues of our matrix $A$. \n",
    "Our transformed state response due to initial  conidition is $\\tilde{x}(t) = e^{\\tilde{A}t}\\tilde{x}_{0}$ \n",
    "$$\\begin{bmatrix}\n",
    "\\tilde{x}_1 \\\\ \\tilde{x}_2 \n",
    "\\end{bmatrix} = \\begin{bmatrix}\n",
    "e^{-1t} &  0\\\\ 0\n",
    "&  e^{-2t}\\\\ \n",
    "\\end{bmatrix}\\begin{bmatrix} 7 \\\\ 5 \\end{bmatrix}$$\n",
    "We can generalise our state by, because we can express $x_0$ as a linear combination with the eigenvector $v_i$ as a basis.\n",
    "$$x(t) = \\sum_{i=1}^{n} e^{\\lambda_i t} \\tilde{x}_i(0) v_i$$\n",
    "The general solution to the initial condition if the eigenvalues are real can be expressed as a linear combination in the form:\n",
    "$$y(t) = Ce^{At}x_{0}= c_{1}e^{\\lambda_1 t}x_{0,1} + c_{2}e^{\\lambda_2 t}x_{0,2}$$\n",
    "\n"
   ]
  },
  {
   "cell_type": "markdown",
   "id": "920fd36f",
   "metadata": {},
   "source": [
    "## 2.4 Quick Recap: The Euler Formula\n",
    "\n",
    "For this course its important to rember the euler formula:\n",
    "\n",
    "$$e^{i\\phi} = \\cos \\phi + i \\sin \\phi$$\n",
    "\n",
    "#### Visualisation\n",
    "For a more intuitiv understanding of the euler formula, you can see how sin and cos change with respect to $\\phi$"
   ]
  },
  {
   "cell_type": "code",
   "execution_count": null,
   "id": "8ba760b3",
   "metadata": {},
   "outputs": [
    {
     "data": {
      "application/vnd.jupyter.widget-view+json": {
       "model_id": "de68445ca8e14f67a8bec2b1b8f21992",
       "version_major": 2,
       "version_minor": 0
      },
      "text/plain": [
       "interactive(children=(FloatSlider(value=0.0, description='φ (radians)', max=6.283185307179586), Output()), _do…"
      ]
     },
     "metadata": {},
     "output_type": "display_data"
    }
   ],
   "source": [
    "def update_plot_img(phi):\n",
    "    plt.figure(figsize=(8, 8))\n",
    "    \n",
    "    # Create unit circle\n",
    "    circle = plt.Circle((0, 0), 1, color='blue', fill=False, linestyle='dotted')\n",
    "    \n",
    "    fig, ax = plt.subplots()\n",
    "    ax.add_artist(circle)\n",
    "\n",
    "    x = np.cos(phi)\n",
    "    y = np.sin(phi)\n",
    "\n",
    "    # Plotting the point on the unit circle\n",
    "    ax.plot([0, x], [0, y], color='red', linewidth=2, label='Radius: e^{iφ}')\n",
    "    ax.plot(x, y, 'ro')  # Point on the circle\n",
    "\n",
    "    # Plot the cosine and sine functions\n",
    "    t = np.linspace(0, 2 * np.pi, 100)\n",
    "    ax.plot([0, math.cos(phi)], [0, 0], color='green', linestyle='--', linewidth=2, label='cos')\n",
    "    ax.plot([0, 0], [0, math.sin(phi)], color='blue', linestyle='--', linewidth=2, label='sin')\n",
    "    # Formatting the plot\n",
    "    ax.set_xlim(-1.5, 1.5)\n",
    "    ax.set_ylim(-1.5, 1.5)\n",
    "    ax.axhline(0, color='black', linewidth=0.5, ls='--')\n",
    "    ax.axvline(0, color='black', linewidth=0.5, ls='--')\n",
    "    ax.set_aspect('equal', 'box')\n",
    "    ax.set_title(f'$e^{{i{phi:.2f}}} = \\\\cos({phi:.2f}) + i\\\\sin({phi:.2f})$', fontsize=14)\n",
    "    ax.legend()\n",
    "    plt.grid()\n",
    "    plt.show()\n",
    "\n",
    "phi_slider = widgets.FloatSlider(value=0, min=0, max=2 * np.pi, step=0.1, description='φ (radians)')\n",
    "widgets.interactive(update_plot_img, phi=phi_slider)\n"
   ]
  },
  {
   "cell_type": "markdown",
   "id": "66e9024b",
   "metadata": {},
   "source": [
    "## 3. Stability\n",
    "\n",
    "The notion of stability is central in the study of control theory. The core idea behind stability is that the system should not behave abruptly. The response of the system should be controlled and predictible. Many notions of how to define stability exist.    \n",
    "\n",
    "1. **Lyapunov Stability**: A system is called Lyapunov stable if, for any initial condition $x_0$ bounded by $\\epsilon$, and zero-input $u(t)=0, \\forall t$, then the state $x(t)$ of the system is remains bounded by $\\delta$.\n",
    "$$ \n",
    "    ||x(0)||\\leq\\epsilon\\;,\\; u(t) = 0 \\implies ||x(t)||\\leq\\delta\\;\\forall\\; t\\geq 0\n",
    "$$\n",
    "This basically says, if you start close enough to the equillibrium point you can never go too far from it.\n",
    "\n",
    "2. **Asymptotically stable**: A system is called locally asymptotically stable if for any initial condition bounded by $\\epsilon$ the system \n",
    "(state) converges to origin as time progresses\n",
    "$$\n",
    "    ||x(0)||\\leq\\epsilon\\;,\\;u(t) = 0 \\; \\implies\\; \\lim_{t\\rightarrow\\infty}||x(t)|| = 0\n",
    "$$\n",
    "This basically goes a step further than lyapunov stability and says that the system not only does not go too far, but also slowly approaches the equillibrium point.  \n",
    "If this condiiton is satisfied for all possible intial conditions, the systenm is called *gloablly asymptotically stable*.\\\n",
    "\n",
    "Up unitl now for stability, we have considered systems without input. We can also define stability of systems with input.  \n",
    "3. ****BIBO stability**: A system is called *Bounded Input Bounded Output stable*, if for any bounded input the system will produce an bounded output\n",
    "$$ \n",
    "    ||u(t)||\\leq\\epsilon,\\quad\\forall\\;t\\geq 0\\;,\\: x_0=0\\;\\implies||y(t)||\\leq\\delta,\\quad\\forall\\;t\\geq 0\n",
    "$$\n",
    "\n",
    "In general, we will rely on the above to determine stability of LTI systems, however, when designing real-life systems, it is important to keep in mind that the linear system may be an approximation of the non-linear system. In such cases, it is important to note the following **Hartman-Grobman Theorem**:\n",
    "> If a linearized system is asymptotically stable around some equilibrium point $(x_e, u_e)$, then the non-linear system is also locally asymptotically stable. \n",
    "Intuitively, The stability being *local* can be understood by the fact that the linearized system only mimics the non-linear system locally or close to the equilibrium point.  \n",
    "\n",
    "The rest of this section is dedicated towards detailing how to determine whether a system is stable, as well as a worked-through example."
   ]
  },
  {
   "cell_type": "markdown",
   "id": "e38dae1d",
   "metadata": {},
   "source": [
    "### 3.1 Conditions For stability\n",
    "Now that the notions of stability are known, Lets look into how can we check for them.\n",
    "For a general system\n",
    "$$\n",
    "    \\dot{x} = f(x,u)\n",
    "    y = h(x,u)\n",
    "$$\n",
    "The stability can be checked using the linearised system.   \n",
    "*If the linearised system of a general systemaround the equillibrium point is stable, the non-linear system is **locally** stable around that equillibrium point*.  \n",
    "The stability being *local* can be understood by the fact that the linearised system only mimics the actual system locally or close to the equillibrium point.  \n",
    "\n",
    "To check stability for the linear system,  \n",
    "For a given LTI system\n",
    "$$\n",
    "    \\dot{x} = Ax + Bu \\\\\n",
    "    y = Cx + Du\n",
    "$$\n",
    "\n",
    "Stability is determined by the matrix $A$  (here a trivial assumption is that the matrices $B,C,D$ have all finite values). The conditions for stability are as follows, $\\lambda_i$ denoting the eigenvalues of $A$:\n",
    "1. If $A$ is diagonalisable $\\implies$ Lyapunov stable if $Re(\\lambda_i)\\leq 0$,   Asymptotically stable if $Re(\\lambda_i)<0$  for all $i$\n",
    "2. If $A$ is not diagonalisable $\\implies$ Lyapunov stable if $Re(\\lambda_i)\\leq 0$ for all $i$, and no repeated eigenvalues with 0 real part"
   ]
  },
  {
   "cell_type": "markdown",
   "id": "3688f6a1",
   "metadata": {},
   "source": [
    "TODO: Add exmples for diff stability types in the from of graphs"
   ]
  },
  {
   "cell_type": "markdown",
   "id": "04bf1907",
   "metadata": {},
   "source": [
    "### 3.2 Example: Pendulum Stability\n",
    "\n",
    "The equations for a pendulum can be derived as follows using Newtonian Mechanics:\n",
    "$$\n",
    "    \\ddot{\\theta} +\\frac{g}{l}sin(\\theta) = 0\n",
    "$$\n",
    "\n",
    "This equation can be converted to the standard state-space form considering the following state vector:\n",
    "$$\n",
    "    x = \\begin{bmatrix} x_1 \\\\ x_2\\end{bmatrix} = \\begin{bmatrix} \\theta\\\\\\dot{\\theta}\\end{bmatrix}\n",
    "$$\n",
    "Using this the state space equations are:\n",
    "$$\n",
    "    \\dot{x} = \\begin{bmatrix} \\dot{x_1} \\\\ \\dot{x_2}\\end{bmatrix} = \\begin{bmatrix} \\dot{\\theta|}\\\\\\ddot{\\theta}\\end{bmatrix} = \\begin{bmatrix} x_2 \\\\ -\\frac{g}{l}sin(x_1)\\end{bmatrix}\n",
    "$$\n",
    "\n",
    "The equillibrium points for the system can be found using $\\dot{x} = 0$, which comes out to be \n",
    "$$\n",
    "    sin(x_1) = sin(\\theta) = 0 \\\\\n",
    "    \\implies \\theta = n\\pi\\; \\forall \\; n = \\{0, \\pm 1,\\pm 2,\\pm 3, \\pm 4,\\ldots \\}\n",
    "$$\n",
    "\n",
    "On a closer look, we can see that these are essentially just two equillibrium points, being repeated with a $2\\pi$ rotation. The two equillibria being at the bottom ($x_1 = 0$) and the vertical top ($x_1 = \\pi$)\n",
    "\n",
    "Linearising the system around these two equillibrium points we get:\n",
    "\n",
    "For $x_1 = 0$ equillirium point:\n",
    "$$\n",
    "    \\dot{x} = \\begin{bmatrix} \\dot{x_1} \\\\ \\dot{x_2}\\end{bmatrix} = \\begin{bmatrix} \\dot{\\theta|}\\\\\\ddot{\\theta}\\end{bmatrix} = \\begin{bmatrix} 0 & 1 \\\\ -\\frac{g}{l} & 0\\end{bmatrix} x\n",
    "$$\n",
    "\n",
    "Using this formulation the eigenvalues of the $A$ matrix come out to be $\\pm i\\sqrt(10)$. Since we have two purely imaginary eigen values the system is Lyapunov stbale at this equillibrium point , but not asymptoticcally stable (which makes sense since this is a pendulum without any air drag, hence will continue to oscillate.)\n",
    "\n",
    "For $x_1 = 0$ equillirium point:\n",
    "$$\n",
    "    \\dot{x} = \\begin{bmatrix} \\dot{x_1} \\\\ \\dot{x_2}\\end{bmatrix} = \\begin{bmatrix} \\dot{\\theta|}\\\\\\ddot{\\theta}\\end{bmatrix} = \\begin{bmatrix} 0 & 1 \\\\ \\frac{g}{l} & 0\\end{bmatrix} x\n",
    "$$\n",
    "\n",
    "Using this formulation the eigenvalues of the $A$ matrix come out to be $\\pm\\sqrt(10)$. Since one of the eigenvalues has real part greater than 0, the system is unstable at this equillibirum (which makes sense, the vertical top is not a stable point)."
   ]
  },
  {
   "cell_type": "markdown",
   "id": "47025ac3",
   "metadata": {},
   "source": [
    "# 4. Spring and Pendulum System\n"
   ]
  },
  {
   "cell_type": "markdown",
   "id": "7ed17b72",
   "metadata": {},
   "source": [
    "\n",
    "Continuing from the notebook, we will take a deeper look into the srping and pendulum system shown below."
   ]
  },
  {
   "cell_type": "markdown",
   "id": "85171265",
   "metadata": {},
   "source": [
    "### Refresher\n"
   ]
  },
  {
   "cell_type": "markdown",
   "id": "f0555b0a",
   "metadata": {},
   "source": [
    "Consider a pendulum that is mounted to a wall and connected to a horizontal spring as below.\n",
    "Let $l$ be the length of the pendulum, $J$ its moment of inertia, $m$ its mass, and let $\\lambda$ represent the damping constant of the pendulum acting at the pivot (damped rotation due to friction).\n",
    "\n",
    "Further, let $k$ represent the spring constant of the spring, and denote by $a$ the distance to the pivot of the point that connects the spring and the pendulum. Assume the spring to be relaxed at $\\varphi =0$.\n",
    "The system is actuated by an external force $F(t)$ which acts at a right angle to the pendulum.\n",
    "There is a sensor measuring the angle $\\varphi$ which we assume to be limited to $\\varphi(t)\\in\\left(-\\frac{\\pi}{2},\\frac{\\pi}{2}\\right)$.\n",
    "\n",
    "<div style=\"text-align:center;\">\n",
    "    <img src=\"./media/pendel.png\" alt=\"Block Diagram\" width=\"400\">\n",
    "</div>\n",
    "\n",
    "We linearize the system about the equilibrium point $\\varphi = 0$, $\\dot \\varphi = 0$ and $F(t) = 0$.\n",
    "\n",
    "The linearized system is given by:\n",
    "\n",
    "$$\n",
    "\\begin{array}{rcl}\n",
    "\\dot{x}(t) &=& \\begin{bmatrix} 0 & 1 \\\\ -\\frac{mgl + a^2 k}{J} & -\\frac{\\lambda}{J} \\end{bmatrix} x(t) + \\begin{bmatrix} 0 \\\\ \\frac{l}{J} \\end{bmatrix} u(t) \\\\[0.5em]\n",
    "y(t) &=& \\begin{bmatrix} 1 & 0 \\end{bmatrix} x(t)\n",
    "\\end{array}\n",
    "$$\n",
    "with the following parameters:\n",
    "Further, let the system parameters be\n",
    "$$\n",
    "\\begin{array}{rcl}\n",
    "\\begin{array}{rcl}\n",
    "l &=& 1\\text{ m}  & m &=& 1\\text{ kg} \\\\[0.2em]\n",
    "g &=& 10\\text{ m/s}^2  & a &=& 0.5\\text{ m} \\\\[0.2em]\n",
    "k &=& 10\\text{ N/m} & \\lambda &=& 3\\text{ Nms/rad} \\\\[0.2em]\n",
    "J &=& 1\\text{ Nms}^2/\\text{rad} & &\n",
    "\\end{array}\n",
    "\\end{array}\n",
    "$$\n"
   ]
  },
  {
   "cell_type": "markdown",
   "id": "12333d6f",
   "metadata": {},
   "source": [
    "#### 4.2.1 System Stability (Without Control Input)"
   ]
  },
  {
   "cell_type": "markdown",
   "id": "01b08bc8",
   "metadata": {},
   "source": [
    "The time response from both the linearized and non-linear systems are plotted below. \n",
    "- What type of stability is present in the below? Lyapunov Stability, local asymptotic stability, or unstable.\n",
    "- What do you notice about the system behavior of both the linear and non-linear systems? \n",
    "- Try varying both $\\varphi, d\\varphi/ dt$ sliders. What do you notice when the slider values are distant from their initial (equilibrium) points?\n",
    "\n",
    "In this example we would like to place the pendulum in a specific location. In Lecture 1, it was taught that adding feedback may help improve performance, and thus we add a simple feedback loop with gain $K$.\n",
    "- Try varying $K$, can you find a range of value of $K$ for which the linear (and non-linear) systems are:\n",
    "  - Locally asymptotically stable. \n",
    "  - Lyapunov stable. \n",
    "  - Unstable.  "
   ]
  },
  {
   "cell_type": "code",
   "execution_count": null,
   "id": "a681793e",
   "metadata": {},
   "outputs": [
    {
     "data": {
      "application/vnd.jupyter.widget-view+json": {
       "model_id": "c7a6415566bc452194a5c3aafa51b67d",
       "version_major": 2,
       "version_minor": 0
      },
      "text/plain": [
       "interactive(children=(FloatSlider(value=0.0, description='K:', max=5.0, min=-5.0), FloatSlider(value=0.0, desc…"
      ]
     },
     "metadata": {},
     "output_type": "display_data"
    }
   ],
   "source": [
    "# System parameters\n",
    "l = 1.0  # m\n",
    "m = 1.0  # kg\n",
    "g = 10.0  # m/s^2\n",
    "a = 0.5  # m\n",
    "k = 10.0  # N/m\n",
    "lambda_ = 3.0  # Nms/rad\n",
    "J = 1.0  # Nms^2/rad\n",
    "\n",
    "# Control input F(t)\n",
    "def F(t, K):\n",
    "    return K \n",
    "\n",
    "# Nonlinear system dynamics\n",
    "def nonlinear_system(x, t, K):\n",
    "    phi, phi_dot = x\n",
    "    phi_ddot = (-l * m * g * np.sin(phi) - 0.5 * a**2 * k * np.sin(2*phi) - lambda_ * phi_dot + l * (K* phi + K* phi_dot)) / J\n",
    "    return [phi_dot, phi_ddot]\n",
    "\n",
    "# Linear system dynamics\n",
    "def linear_system(x, t, K):\n",
    "    phi, phi_dot = x\n",
    "    phi_ddot = (-l * m * g * phi - a**2 * k * phi - lambda_ * phi_dot + l * (K* phi + K* phi_dot)) / J\n",
    "    return [phi_dot, phi_ddot]\n",
    "\n",
    "# Simulation and plotting function\n",
    "def simulate_and_plot(phi0, phi_dot0, K):\n",
    "    # Time array\n",
    "    t = np.linspace(0, 30, 1000)\n",
    "\n",
    "    # Initial conditions\n",
    "    x0 = [phi0, phi_dot0]\n",
    "\n",
    "    # Solve ODEs\n",
    "    nonlinear_solution = odeint(nonlinear_system, x0, t, args=(K,))\n",
    "    linear_solution = odeint(linear_system, x0, t, args=(K,))\n",
    "\n",
    "    # Extract phi and phi_dot\n",
    "    nonlinear_phi = nonlinear_solution[:, 0]\n",
    "    linear_phi = linear_solution[:, 0]\n",
    "\n",
    "    # Plotting\n",
    "    fig, (ax1) = plt.subplots(1, 1)\n",
    "\n",
    "    # Plot phi\n",
    "    ax1.plot(t, nonlinear_phi, label='Nonlinear')\n",
    "    ax1.plot(t, linear_phi, label='Linear', linestyle='--')\n",
    "    ax1.set_xlabel('Time (s)')\n",
    "    ax1.set_ylabel('Angle (rad)')\n",
    "    ax1.set_title('Pendulum System Simulation: Nonlinear vs Linear')\n",
    "    ax1.grid(True)\n",
    "    ax1.legend()\n",
    "\n",
    "    plt.tight_layout()\n",
    "    plt.subplots_adjust(top=0.85, wspace=0.3)\n",
    "    plt.show()\n",
    "\n",
    "# Create widgets\n",
    "K_slider = widgets.FloatSlider(value=0, min=-5, max=5, step=0.1, description='K:')\n",
    "phi0_slider = widgets.FloatSlider(value=0.0, min=-np.pi/2, max=np.pi/2, step=0.01, description='ϕ₀:')\n",
    "phi_dot0_slider = widgets.FloatSlider(value=0.0, min=-5, max=5, step=0.01, description='dϕ₀/dt:')\n",
    "\n",
    "# Create interactive output\n",
    "interactive_plot = widgets.interactive(simulate_and_plot,\n",
    "                                       phi0=phi0_slider, phi_dot0=phi_dot0_slider, \n",
    "                                       K =K_slider)\n",
    "\n",
    "# Display the interactive plot\n",
    "display(interactive_plot)"
   ]
  },
  {
   "cell_type": "markdown",
   "id": "1e2c52ff",
   "metadata": {},
   "source": [
    "As you would be able to see not all values K stabalise the system. Hence feedback, if added should be doe with care."
   ]
  }
 ],
 "metadata": {
  "kernelspec": {
   "display_name": ".venv",
   "language": "python",
   "name": "python3"
  },
  "language_info": {
   "codemirror_mode": {
    "name": "ipython",
    "version": 3
   },
   "file_extension": ".py",
   "mimetype": "text/x-python",
   "name": "python",
   "nbconvert_exporter": "python",
   "pygments_lexer": "ipython3",
   "version": "3.12.7"
  }
 },
 "nbformat": 4,
 "nbformat_minor": 5
}
