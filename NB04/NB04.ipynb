{
 "cells": [
  {
   "cell_type": "markdown",
   "metadata": {},
   "source": [
    "# Notebook Lecture 5: Transfer Functions\n",
    "© 2024 ETH Zurich, Mark Benazet Castells, Jonas Holinger, Felix Muller, Matteo Penlington; Institute for Dynamic Systems and Control; Prof. Emilio Frazzoli\n",
    "\n",
    "This interactive notebook covers the basics of response to exponential inputs, transfer functions, conversions between state-space models and transfer functions, and connections to Laplace transforms. \n",
    "\n",
    "Authors:\n",
    "- Felix Muller; fmuller@ethz.ch\n",
    "- Mark Benazet Castells; mbenazet@ethz.ch\n",
    "\n",
    "## Learning Objectives\n",
    "\n",
    "In previous lectures, we've seen that this course addresses the control of dynamical systems. Two key course objectives are to understand how to analyze and synthesize systems to achieve specific goals. To do this effectively, we need to understand various ways of representing and analyzing dynamical systems mathematically.\n",
    "In this notebook, we delve deeper into some fundamental concepts and techniques used in control systems analysis. We'll explore system responses and different system representations.\n",
    "After completing this notebook, you should be able to:\n",
    "\n",
    "- Understand and analyze a system's response to exponential inputs.\n",
    "- Interpret and work with transfer functions.\n",
    "- Convert between state-space models and transfer functions, and understand the benefits of each representation.\n",
    "- Appreciate the role of Laplace transforms in control systems analysis and how they relate to system behavior.\n"
   ]
  }
 ],
 "metadata": {
  "language_info": {
   "name": "python"
  }
 },
 "nbformat": 4,
 "nbformat_minor": 2
}
