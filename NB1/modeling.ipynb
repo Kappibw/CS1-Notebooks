{
 "cells": [
  {
   "cell_type": "markdown",
   "metadata": {},
   "source": [
    "# Modeling\n",
    "(System) Modeling for control systems is figuring out the **relationship between the input(s) and output(s)** of a system.<br>\n",
    "Usually this means that we want to write down the **Differential Equations (PDE/ODE)** that govern the underlying system we want to control.\n",
    "\n",
    "Having a model of the system allows us to analyze the system, synthesis a control algorithm and test this on a simulation using said model.\n",
    "\n",
    "During this lecture we mostly assume that we have a model at hand but coming up with one is a big part of being a control engineer thus we will give you a quick introduction to system modeling.\n",
    "\n",
    "As mentioned in the lecture about modeling, *\"All Models are wrong, some are useful\"*. This is due to the fact that it is infeasible and/or impossible to perfectly capture the physics behind a system.\n",
    "Thus the underlying model will always only be an approximation of reality and one needs to keep this in mind while creating and utilizing a model.\n"
   ]
  },
  {
   "cell_type": "markdown",
   "metadata": {},
   "source": [
    "# Modeling Approaches\n",
    "## General Steps\n",
    "### 1. System Boundaries, Inputs and Outputs\n",
    "First we must define the boundaries of the systems, which in turn defines the inputs and outputs of the system. During this step we define the complexity of the system.\n",
    "1. **Boundaries:** The boundaries of the system define what quantities are worth keeping track off (i.e. become system states) and what quantities will become inputs or outputs.\n",
    "This may sound trivial but it is an important first step of defining the model complexity.\n",
    "For example while modeling a car it would not make sense to include a meteorological model of the winds affecting the car. Instead the winds will be introduced as an outside disturbance (input to the system).\n",
    "2. **Inputs:** The inputs to a system define how the outside world affects the system itself. Inputs can be separated into controllable inputs (endogenous inputs) and not controllable inputs (exogenous inputs). The controllable inputs are in general the control inputs (for example the gas throttle from a car) and the uncontrollable inputs are usually disturbances. One has to be careful with the terminology as inputs can also be negative such as a leak in a water tank.\n",
    "3. **Outputs:** The outputs of a system are the measurements or observations we make of the system. These can be separated in measured outputs (quantities we can measure directly such as the speed of a car) and performance outputs which we can't measure directly but would also like to control (for example the fuel efficiency of a car).\n",
    "\n",
    "Some of the aspects can be controlled while deriving a model, meaning we can choose what quantities will be captured in the model, we can to some extend choose the inputs (usually the control inputs) to our system and we can control the outputs of our systems by using different sensors.\n",
    "\n",
    "As an example on how we can choose those aspects, we look at Problem Set 1 Question 2:<br>\n",
    "In this model we included the drag force, roll resistance, traction (engine model) and gravity as inputs to the system.\n",
    "Another valid choice for inputs would be to ignore the drag force and only look at the roll resistance, traction and gravity.\n",
    "If this is a good choice is another question but it would be a valid model of the system.\n",
    "On the other hand one could make the model more complex and introduce the model that calculates the traction torque explicitly.\n",
    "This would increase the scope of the system as new quantities such as temperatures and pressures become relevant besides to the car velocity and position become relevant.\n",
    "This again would be valid but maybe it would be to complicated for the task at hand.\n",
    "Lastly we can also change the outputs of the system. We are not limited to measuring the velocity of the car but we could also include a GPS device and measure the position explicitly.\n",
    "If this is a good choice is questionable as the velocity is the only relevant quantity for cruise control.\n",
    "\n",
    "### 2. Writing Down the Differential Equations\n",
    "Once the system boundaries, inputs and outputs are defined the differential equations of the system need to be derived.\n",
    "There are different approaches to doing this, but often this is done using so called storage variables (such as energy, temperature, mass, momentum, cash, etc) and how different inflows and outflows change these storage variables (mass flow, power heat flow, payments, etc.). Once these storage variables are defined and the inflows and outflows are known we can setup the differential equation using:\n",
    "$$\\frac{d}{dt}\\text{storage} = \\sum \\text{inflows} - \\sum \\text{outflows}$$\n",
    "Most known physical laws can be interpreted or rewritten as a variation of the storage approach. For example the well known Newton formula\n",
    "$$\n",
    "F = ma\n",
    "$$\n",
    "does not necessarily look like storage formulation in a classical sense but as you will learn in Mechanics III is a special case a momentum change.\n",
    "This means that a lot of the time it is more convenient to use equations one has experience with to directly derive the differential equations.\n",
    "\n",
    "What examples should I make here?\n",
    "\n",
    "### 3. Writing Down in Standard Form\n",
    "Every control system has different quantities to keep track of, different inputs/outputs and most importantly different orders of derivatives.\n",
    "As this variety in models(variable names, derivative orders, inputs, output) would make it difficult to come up with unified theories that can be applied to all control systems it is important to write down the differential equations in a standard form, which looks like this:\n",
    "$$\n",
    "\\dot x (t) = f(x(t), u(t))\\\\\n",
    "y(t) = h(x(t), u(t))\n",
    "$$\n",
    "This ensures that all system have the same form and results are easily transferable.\n",
    "In this formulation $f(x(t), u(t))$ is called the dynamics model and $h(x(t), u(t))$ is called the measurement model.\n",
    "To end up in this formulation one first defines the inputs as a input vector $u(t)$, then define the outputs/measurements as an output vector $y(t)$ and lastly define the system states as state vector $x(t)$.\n",
    "\n",
    "Example here\n",
    "\n",
    "\n",
    "\n"
   ]
  },
  {
   "cell_type": "markdown",
   "metadata": {},
   "source": [
    "## Computing the Output Signal\n",
    "What here?"
   ]
  },
  {
   "cell_type": "markdown",
   "metadata": {},
   "source": [
    "## PS1 Exercise 3"
   ]
  },
  {
   "cell_type": "code",
   "execution_count": 103,
   "metadata": {},
   "outputs": [],
   "source": [
    "import numpy as np\n",
    "import matplotlib.pyplot as plt\n",
    "import ipywidgets as widgets\n",
    "from IPython.display import display, clear_output, Image\n",
    "\n",
    "\n",
    "class dynamic_model:\n",
    "    \n",
    "    def __init__(self):\n",
    "        # constants\n",
    "        self.m = 1                  #kg\n",
    "        self.g = 9.81               #m/s^2\n",
    "        self.l = 1                  #m\n",
    "        self.cf = 0.5               #Nms/rad\n",
    "        self.impulse_torque = 10    #Nm\n",
    "        self.impulse_duration = 0.1 #s\n",
    "        self.impulse_time = 3       #s\n",
    "        self.t_end = 10             #s\n",
    "        self.delta_t = 0.01         #s\n",
    "\n",
    "    def dynamic_model_t(self, x, u, t):\n",
    "        disturbance = 0\n",
    "        if t > self.impulse_time and t < self.impulse_time + self.impulse_duration:\n",
    "            disturbance = self.impulse_torque\n",
    "        return np.array([x[1],\n",
    "                        3*self.g/(2*self.l)*np.sin(x[0]) \n",
    "                        - 3*self.cf/(self.m*self.l**2)*x[1] \n",
    "                        + 3/(self.m*self.l**2)*u\n",
    "                        + 3/(self.m*self.l**2)*disturbance])\n",
    "    \n",
    "    def euler(self, control_on, x_0, Kp, Kd):\n",
    "        x = np.copy(x_0)\n",
    "        x_history = np.copy(x_0)\n",
    "        t = 0\n",
    "        if control_on:\n",
    "            while t < self.t_end:\n",
    "                u = self.control(x, t, Kp, Kd)\n",
    "                x = x + self.delta_t * self.dynamic_model_t(x, u, t)\n",
    "                t += self.delta_t\n",
    "                x_history = np.vstack((x_history, x))\n",
    "            return x_history\n",
    "        else:\n",
    "            while t < self.t_end:\n",
    "                x = x + self.delta_t * self.dynamic_model_t(x, 0, t)\n",
    "                t += self.delta_t\n",
    "                x_history = np.vstack((x_history, x))\n",
    "            return x_history\n",
    "    \n",
    "    def control(self, x, t, Kp, Kd):\n",
    "        # simple PD controller\n",
    "        u = - Kp*x[0] - Kd*x[1]\n",
    "        return u\n",
    "    \n",
    "model = dynamic_model()\n",
    "def run_sim(control_on, K_p, K_d):\n",
    "    x_0 = np.array([0, 0])\n",
    "    x_history = model.euler(control_on, x_0, K_p, K_d)\n",
    "    return x_history\n",
    "    "
   ]
  },
  {
   "cell_type": "code",
   "execution_count": 104,
   "metadata": {},
   "outputs": [
    {
     "data": {
      "application/vnd.jupyter.widget-view+json": {
       "model_id": "5ec2a47544d34fb395a6acffa690f495",
       "version_major": 2,
       "version_minor": 0
      },
      "text/plain": [
       "HBox(children=(VBox(children=(Checkbox(value=True, description='Control off'), Checkbox(value=False, descripti…"
      ]
     },
     "metadata": {},
     "output_type": "display_data"
    },
    {
     "data": {
      "application/vnd.jupyter.widget-view+json": {
       "model_id": "968562ec1cd34a2fb660092d653d57b7",
       "version_major": 2,
       "version_minor": 0
      },
      "text/plain": [
       "Output()"
      ]
     },
     "metadata": {},
     "output_type": "display_data"
    }
   ],
   "source": [
    "# Initialize a display object\n",
    "output = widgets.Output()\n",
    "\n",
    "# Function to update the plot and title\n",
    "def update_plot(control_off_checkbox, control_on_checkbox, Kp_slider, Kd_slider):\n",
    "    with output:\n",
    "        clear_output(wait=True)  # Clear the previous output\n",
    "        # two subplots next to each other with given figure size:\n",
    "        fig, axs = plt.subplots(1, 2, figsize=(20,5))\n",
    "        \n",
    "        if control_off_checkbox:\n",
    "            x_out = run_sim(control_on=False, K_p=Kp_slider, K_d=Kd_slider)\n",
    "            axs[0].plot(x_out[:,0], label='No Feedback', color='red')\n",
    "            axs[1].plot(x_out[:,1], label='No Feedback', color='red')\n",
    "        \n",
    "        if control_on_checkbox:\n",
    "            x_out = run_sim(control_on=True, K_p=Kp_slider, K_d=Kd_slider)\n",
    "            axs[0].plot(x_out[:,0], label='With Feedback', color='blue')\n",
    "            axs[1].plot(x_out[:,1], label='With Feedback', color='blue')\n",
    "        \n",
    "        # x lable with latex format of theta\n",
    "        axs[0].set_xlabel(r'Time: t[s]')\n",
    "        axs[0].set_ylabel(r'Angle: $\\theta(t) [rad]$')\n",
    "        axs[1].set_xlabel(r'Time: t[s]')\n",
    "        axs[1].set_ylabel(r'Angular Velocity: $\\dot\\theta(t)[rad/s]$')\n",
    "        for ax in axs:\n",
    "            xticks = ax.get_xticks()  # Get current x-ticks\n",
    "            ax.set_xticks(xticks)  # Fix the ticks first\n",
    "            ax.set_xticklabels([f'{int(tick/100)}' for tick in xticks])  # Divide x-ticks by 100\n",
    "\n",
    "        if control_off_checkbox or control_on_checkbox: # avoids legend error if none of the functions are selected\n",
    "            axs[0].legend()\n",
    "            axs[1].legend()\n",
    "        axs[0].grid()\n",
    "        axs[1].grid()\n",
    "        plt.show()\n",
    "\n",
    "# Create checkboxes to show controlled and uncontrolled plots\n",
    "control_off_checkbox = widgets.Checkbox(value=True, description='Control off')\n",
    "control_on_checkbox = widgets.Checkbox(value=False, description='Control on')\n",
    "\n",
    "# Create a slider for Kp and Kd\n",
    "Kp_slider = widgets.FloatSlider(value=0, min=-1, max=70, step=0.1, description=\"K_p gain\")\n",
    "Kd_slider = widgets.FloatSlider(value=0, min=-1, max=2, step=0.1, description=\"K_d gain\")\n",
    "\n",
    "# Arrange checkboxes in a vertical box\n",
    "checkboxes_box = widgets.VBox([control_off_checkbox, control_on_checkbox])\n",
    "\n",
    "# Arrange the checkboxes box and slider in a horizontal box\n",
    "controls_box = widgets.HBox([checkboxes_box, widgets.VBox([Kp_slider, Kd_slider])])\n",
    "\n",
    "# Link the widgets to the update_plot function\n",
    "widgets.interactive_output(update_plot, {\n",
    "    'control_off_checkbox': control_off_checkbox,\n",
    "    'control_on_checkbox': control_on_checkbox,\n",
    "    'Kp_slider': Kp_slider,\n",
    "    'Kd_slider': Kd_slider\n",
    "})\n",
    "\n",
    "# Display the controls and the plot\n",
    "display(controls_box, output)"
   ]
  }
 ],
 "metadata": {
  "kernelspec": {
   "display_name": "Python 3",
   "language": "python",
   "name": "python3"
  },
  "language_info": {
   "codemirror_mode": {
    "name": "ipython",
    "version": 3
   },
   "file_extension": ".py",
   "mimetype": "text/x-python",
   "name": "python",
   "nbconvert_exporter": "python",
   "pygments_lexer": "ipython3",
   "version": "3.12.0"
  }
 },
 "nbformat": 4,
 "nbformat_minor": 2
}
