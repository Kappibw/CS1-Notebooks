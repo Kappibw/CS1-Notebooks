{
 "cells": [
  {
   "cell_type": "markdown",
   "metadata": {},
   "source": [
    "# Introduction to Notebooks\n",
    "\n",
    "\n",
    "In this notebook we will introduce (briefly) certain capabilities of the notebooks (and python)."
   ]
  },
  {
   "cell_type": "code",
   "execution_count": null,
   "metadata": {},
   "outputs": [],
   "source": [
    "print('hello world')"
   ]
  },
  {
   "cell_type": "markdown",
   "metadata": {},
   "source": [
    "We can visualise data"
   ]
  },
  {
   "cell_type": "code",
   "execution_count": 13,
   "metadata": {},
   "outputs": [
    {
     "data": {
      "text/plain": [
       "Text(0.5, 1.0, 'Example visualisation')"
      ]
     },
     "execution_count": 13,
     "metadata": {},
     "output_type": "execute_result"
    },
    {
     "data": {
      "image/png": "[encoded data removed]",
      "text/plain": [
       "<Figure size 500x300 with 1 Axes>"
      ]
     },
     "metadata": {},
     "output_type": "display_data"
    }
   ],
   "source": [
    "import matplotlib.pyplot as plt\n",
    "\n",
    "x = [1, 2, 3, 4, 5]\n",
    "y = [1, 4, 9, 16, 25]\n",
    "\n",
    "plt.figure(figsize=(5,3))\n",
    "plt.plot(x, y)\n",
    "plt.xlabel('x')\n",
    "plt.ylabel('y')\n",
    "plt.legend(['datapoints 1'])\n",
    "plt.title('Example visualisation')"
   ]
  },
  {
   "cell_type": "markdown",
   "metadata": {},
   "source": [
    "We can also do interactive visualisations\n",
    "\n"
   ]
  },
  {
   "cell_type": "code",
   "execution_count": 34,
   "metadata": {},
   "outputs": [
    {
     "data": {
      "application/vnd.jupyter.widget-view+json": {
       "model_id": "957be61bfdcd4ca38a741141be6d2b58",
       "version_major": 2,
       "version_minor": 0
      },
      "text/plain": [
       "FloatSlider(value=1.0, description='Size Factor:', max=3.0, min=0.1)"
      ]
     },
     "metadata": {},
     "output_type": "display_data"
    },
    {
     "data": {
      "application/vnd.jupyter.widget-view+json": {
       "model_id": "5b1988fdf7a540479f10531ee72b5f6b",
       "version_major": 2,
       "version_minor": 0
      },
      "text/plain": [
       "Output()"
      ]
     },
     "metadata": {},
     "output_type": "display_data"
    }
   ],
   "source": [
    "# load dependencies\n",
    "import numpy as np\n",
    "import matplotlib.pyplot as plt\n",
    "import ipywidgets as widgets\n",
    "from IPython.display import display, clear_output\n",
    "\n",
    "# Generate some random data\n",
    "np.random.seed(0)\n",
    "x = np.random.randn(100)\n",
    "y = np.random.randn(100)\n",
    "sizes = np.random.randint(10, 100, 100)\n",
    "\n",
    "# Initialize a display object\n",
    "output = widgets.Output()\n",
    "\n",
    "# Function to update the plot based on slider value\n",
    "def update_plot(size_factor):\n",
    "    with output:\n",
    "        # Clear previous output\n",
    "        clear_output(wait=True)\n",
    "        # Create scatter plot with updated size factor\n",
    "        plt.figure(figsize=(10, 6))\n",
    "        plt.scatter(x, y, s=sizes * size_factor, alpha=0.5, c='blue', edgecolors='w', linewidth=0.5)\n",
    "        plt.title(f\"Interactive Scatter Plot with Size Factor {size_factor}\")\n",
    "        plt.xlabel(\"X Axis\")\n",
    "        plt.ylabel(\"Y Axis\")\n",
    "        plt.grid(True)\n",
    "        plt.show()\n",
    "\n",
    "# Create a slider widget\n",
    "size_slider = widgets.FloatSlider(\n",
    "    value=1.0,\n",
    "    min=0.1,\n",
    "    max=3.0,\n",
    "    step=0.1,\n",
    "    description='Size Factor:',\n",
    "    continuous_update=True\n",
    ")\n",
    "\n",
    "# Bind the update function to the slider and display\n",
    "widgets.interactive(update_plot, size_factor=size_slider)\n",
    "\n",
    "# Display the slider and the plot output area\n",
    "display(size_slider, output)"
   ]
  },
  {
   "cell_type": "code",
   "execution_count": 10,
   "metadata": {},
   "outputs": [
    {
     "data": {
      "application/vnd.jupyter.widget-view+json": {
       "model_id": "c0214ce8548e43cd8bd6cfd196abe5b5",
       "version_major": 2,
       "version_minor": 0
      },
      "text/plain": [
       "interactive(children=(Dropdown(description='Function:', options=('Sine', 'Cosine', 'Tangent'), value='Sine'), …"
      ]
     },
     "execution_count": 10,
     "metadata": {},
     "output_type": "execute_result"
    }
   ],
   "source": [
    "# dropdown menus example\n",
    "\n",
    "import matplotlib.pyplot as plt\n",
    "import numpy as np\n",
    "import ipywidgets as widgets\n",
    "from IPython.display import display, clear_output\n",
    "\n",
    "# Generate sample data\n",
    "x = np.linspace(0, 2 * np.pi, 100)\n",
    "\n",
    "def update_plot(function_name):\n",
    "    # Clear the previous output to avoid overlapping plots\n",
    "    # clear_output(wait=True)\n",
    "    # Plot based on the selected function\n",
    "    if function_name == 'Sine':\n",
    "        plt.plot(x, np.sin(x), label='Sine')\n",
    "    elif function_name == 'Cosine':\n",
    "        plt.plot(x, np.cos(x), label='Cosine')\n",
    "    elif function_name == 'Tangent':\n",
    "        plt.plot(x, np.tan(x), label='Tangent')\n",
    "    \n",
    "    # Set plot title and labels\n",
    "    plt.title(f'{function_name} Function')\n",
    "    plt.xlabel('X')\n",
    "    plt.ylabel('Y')\n",
    "    \n",
    "    # Add a legend to the plot\n",
    "    plt.legend()\n",
    "    \n",
    "    # Display the updated plot\n",
    "    plt.show()\n",
    "\n",
    "# Create a dropdown menu for selecting the function\n",
    "function_dropdown = widgets.Dropdown(\n",
    "    options=['Sine', 'Cosine', 'Tangent'],\n",
    "    value='Sine',\n",
    "    description='Function:'\n",
    ")\n",
    "\n",
    "# Link the dropdown menu to the update_plot function\n",
    "widgets.interactive(update_plot, function_name=function_dropdown)"
   ]
  },
  {
   "cell_type": "code",
   "execution_count": 11,
   "metadata": {},
   "outputs": [
    {
     "data": {
      "application/vnd.jupyter.widget-view+json": {
       "model_id": "f557cab1827c4e39887529e087b20712",
       "version_major": 2,
       "version_minor": 0
      },
      "text/plain": [
       "interactive(children=(Checkbox(value=False, description='Show Cosine'), Output()), _dom_classes=('widget-inter…"
      ]
     },
     "execution_count": 11,
     "metadata": {},
     "output_type": "execute_result"
    }
   ],
   "source": [
    "import matplotlib.pyplot as plt\n",
    "import ipywidgets as widgets\n",
    "from IPython.display import display, clear_output\n",
    "import numpy as np\n",
    "\n",
    "x = np.linspace(0, 2 * np.pi, 100)\n",
    "\n",
    "def update_plot(show_cosine):\n",
    "    clear_output(wait=True)\n",
    "    plt.plot(x, np.sin(x), label='Sine')\n",
    "    if show_cosine:\n",
    "        plt.plot(x, np.cos(x), label='Cosine')\n",
    "    plt.title('Sine and/or Cosine Functions')\n",
    "    plt.xlabel('X')\n",
    "    plt.ylabel('Y')\n",
    "    plt.legend()\n",
    "    plt.show()\n",
    "\n",
    "cosine_checkbox = widgets.Checkbox(\n",
    "    value=False,\n",
    "    description='Show Cosine'\n",
    ")\n",
    "widgets.interactive(update_plot, show_cosine=cosine_checkbox)\n",
    "# display(cosine_checkbox)"
   ]
  },
  {
   "cell_type": "code",
   "execution_count": 13,
   "metadata": {},
   "outputs": [
    {
     "data": {
      "application/vnd.jupyter.widget-view+json": {
       "model_id": "b3f5dd2da4a34df6adaa6c038979cf83",
       "version_major": 2,
       "version_minor": 0
      },
      "text/plain": [
       "interactive(children=(RadioButtons(description='Function:', options=('Sine', 'Cosine', 'Tangent'), value='Sine…"
      ]
     },
     "execution_count": 13,
     "metadata": {},
     "output_type": "execute_result"
    }
   ],
   "source": [
    "import matplotlib.pyplot as plt\n",
    "import ipywidgets as widgets\n",
    "from IPython.display import display, clear_output\n",
    "import numpy as np\n",
    "\n",
    "x = np.linspace(0, 2 * np.pi, 100)\n",
    "\n",
    "def update_plot(function_type):\n",
    "    clear_output(wait=True)\n",
    "    if function_type == 'Sine':\n",
    "        plt.plot(x, np.sin(x))\n",
    "    elif function_type == 'Cosine':\n",
    "        plt.plot(x, np.cos(x))\n",
    "    elif function_type == 'Tangent':\n",
    "        plt.plot(x, np.tan(x))\n",
    "    plt.title(f'{function_type} Function')\n",
    "    plt.xlabel('X')\n",
    "    plt.ylabel('Y')\n",
    "    plt.show()\n",
    "\n",
    "function_radio = widgets.RadioButtons(\n",
    "    options=['Sine', 'Cosine', 'Tangent'],\n",
    "    value='Sine',\n",
    "    description='Function:'\n",
    ")\n",
    "widgets.interactive(update_plot, function_type=function_radio)\n",
    "# display(function_radio)"
   ]
  },
  {
   "cell_type": "code",
   "execution_count": null,
   "metadata": {},
   "outputs": [],
   "source": []
  }
 ],
 "metadata": {
  "kernelspec": {
   "display_name": "venv",
   "language": "python",
   "name": "venv"
  },
  "language_info": {
   "codemirror_mode": {
    "name": "ipython",
    "version": 3
   },
   "file_extension": ".py",
   "mimetype": "text/x-python",
   "name": "python",
   "nbconvert_exporter": "python",
   "pygments_lexer": "ipython3",
   "version": "3.12.5"
  }
 },
 "nbformat": 4,
 "nbformat_minor": 4
}
