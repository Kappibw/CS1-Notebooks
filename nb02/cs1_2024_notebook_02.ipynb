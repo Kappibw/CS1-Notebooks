{
 "cells": [
  {
   "cell_type": "markdown",
   "metadata": {},
   "source": [
    "# Control Systems 1, Coding Exercise 02: Jupyter Notebook on Introduction to System Classification and Properties\n",
    "2024 ETH Zurich, Mark Benazet Castells, Felix Muller, Matteo Penlington; Institute for Dynamic Systems and Control; Prof. Emilio Frazzoli\n",
    "\n",
    "\n",
    "This interactive notebook is designed to introduce fundamental concepts in control systems engineering. It covers the basics of system modeling, classification, and analysis, with a focus on building intuition through visual and interactive examples.\n",
    "\n",
    "Authors:\n",
    "- Mark Benazet Castells; mbenazet@ethz.ch\n",
    "- Felix Muller; fmuller@ethz.ch"
   ]
  },
  {
   "cell_type": "markdown",
   "metadata": {},
   "source": [
    "## Learning Objectives\n",
    "\n",
    "After completing this notebook, you should be able to:\n",
    "\n",
    "1. Understand input-output models of linear time-invariant (LTI) systems.\n",
    "2. Write the model of an LTI system with A, B, C, D matrices.\n",
    "3. Understand the concept of \"state\" to model a system.\n",
    "4. Classify systems as static / dynamic, causal/non-causal, time-invariant/time-varying, linear/nonlinear.\n",
    "5. Understand the notion of equilibrium points.\n",
    "6. Approximate a non-linear system with a linear one."
   ]
  },
  {
   "cell_type": "markdown",
   "metadata": {},
   "source": [
    "# Setup\n",
    "\n",
    "## Installing the required packages:\n",
    "The following packages are required to run this notebook. If you haven't installed them yet, you can do so by running the following cell."
   ]
  },
  {
   "cell_type": "code",
   "execution_count": null,
   "metadata": {},
   "outputs": [],
   "source": [
    "!pip install numpy matplotlib scipy ipywidgets"
   ]
  },
  {
   "cell_type": "markdown",
   "metadata": {},
   "source": [
    "## Import the packages:\n",
    "The following cell imports the required packages. Run it before running the rest of the notebook."
   ]
  },
  {
   "cell_type": "code",
   "execution_count": null,
   "metadata": {},
   "outputs": [],
   "source": [
    "import numpy as np\n",
    "import matplotlib.pyplot as plt\n",
    "from scipy.integrate import odeint\n",
    "from ipywidgets import interact, interactive, fixed, widgets, FloatSlider, Dropdown\n",
    "from IPython.display import display, Markdown, Latex, Image"
   ]
  },
  {
   "cell_type": "markdown",
   "metadata": {},
   "source": [
    "## 1. Input-Output Models\n",
    "\n",
    "An input-output model is a map Σ from an input signal u(t) to an output signal y(t):\n",
    "\n",
    "$$y = \\Sigma u$$\n",
    "\n",
    "or more explicitly:\n",
    "\n",
    "$$y(t) = (\\Sigma u)(t), \\quad \\forall t \\in T$$\n",
    "\n",
    "This can be represented by a block diagram:"
   ]
  },
  {
   "cell_type": "markdown",
   "metadata": {},
   "source": [
    "<div style=\"text-align:center;\">\n",
    "    <img src=\"./img/block_dgm.png\" alt=\"Block Diagram\" width=\"500\">\n",
    "</div>\n",
    "\n",
    "The easiest example of an input-output mode would be $y = u$, This is a simple linear relationship between the input and output signals."
   ]
  },
  {
   "cell_type": "code",
   "execution_count": null,
   "metadata": {},
   "outputs": [],
   "source": [
    "def linear_function(k):\n",
    "    u = np.linspace(-10, 10, 200)\n",
    "    y = k * u\n",
    "    \n",
    "    plt.figure(figsize=(10, 6))\n",
    "    plt.plot(u, y)\n",
    "    plt.title(f'Linear Function: y=u')\n",
    "    plt.xlabel('Input (u)')\n",
    "    plt.ylabel('Output (y)')\n",
    "    plt.grid(True)\n",
    "    plt.axhline(y=0, color='k', linestyle='--')\n",
    "    plt.axvline(x=0, color='k', linestyle='--')\n",
    "    plt.show()\n",
    "\n",
    "display(linear_function(1))"
   ]
  },
  {
   "cell_type": "markdown",
   "metadata": {},
   "source": [
    "Depending on how Σ affects u, we classify the system in different ways:\n",
    "- Linear vs. Nonlinear\n",
    "- Causal vs. Non-causal\n",
    "- Static (memoryless) vs. Dynamic\n",
    "- Time-invariant vs. Time-varying"
   ]
  },
  {
   "cell_type": "markdown",
   "metadata": {},
   "source": [
    "## 1. Linear vs. Nonlinear Systems\n",
    "\n",
    "A system is linear if it satisfies two properties:\n",
    "- Additivity: $\\Sigma(u_1 + u_2) = \\Sigma u_1 + \\Sigma u_2$\n",
    "- Homogeneity: $\\Sigma(ku) = k\\Sigma u$\n",
    "\n",
    "For any input signals $u_1$ and $u_2$, and any scalar $k$.\n",
    "\n",
    "# Checking System Linearity\n",
    "\n",
    "A system is linear if it satisfies the superposition principle:\n",
    "\n",
    "$\\Sigma(a u_1 + b u_2) = a\\Sigma(u_1) + b\\Sigma(u_2)$\n",
    "\n",
    "Or in other words:\n",
    "\n",
    "$y(a u_1 + b u_2) = a y(u_1) + b y(u_2)$\n",
    "\n",
    "\n",
    "Where Σ represents the system, u₁ and u₂ are input signals, and a and b are scalars.\n",
    "\n",
    "Use the interactive plot below to check this property for different systems:\n",
    "\n",
    "- Linear system: $y = u$\n",
    "- Nonlinear system: $y = u^2$\n",
    "- Nonlinear system: $y = \\sin(u)$\n",
    "\n",
    "Parameters:\n",
    "- $a, b$: Scalars for the superposition principle\n",
    "\n",
    "Adjust the parameters and observe:\n",
    "- If the solid and dashed lines overlap for all inputs, the system is linear.\n",
    "- If they diverge, the system is nonlinear."
   ]
  },
  {
   "cell_type": "code",
   "execution_count": null,
   "metadata": {},
   "outputs": [],
   "source": [
    "def system_response(system_type, u):\n",
    "    if system_type == 'Linear':\n",
    "        return u\n",
    "    elif system_type == 'Nonlinear (Quadratic)':\n",
    "        return u**2\n",
    "    elif system_type == 'Nonlinear (Sine)':\n",
    "        return np.sin(u)\n",
    "\n",
    "def check_linearity(system_type, a, b):\n",
    "    u1 = np.linspace(-2, 2, 200)\n",
    "    u2 = np.linspace(-2, 2, 200)\n",
    "    \n",
    "    # Individual responses\n",
    "    y1 = system_response(system_type, u1)\n",
    "    y2 = system_response(system_type, u2)\n",
    "    \n",
    "    # Additivity check\n",
    "    y_sum = system_response(system_type, a*u1 + b*u2)\n",
    "    y_individual_sum = a*y1 + b*y2\n",
    "    \n",
    "    fig, ax = plt.subplots(figsize=(10, 6))\n",
    "    \n",
    "    # Additivity plot\n",
    "    ax.plot(u1, y_sum, label='Σ(au₁ + bu₂)')\n",
    "    ax.plot(u1, y_individual_sum, label='aΣ(u₁) + bΣ(u₂)', linestyle='--')\n",
    "    ax.set_title('Linearity Check')\n",
    "    ax.set_xlabel('Input')\n",
    "    ax.set_ylabel('Output')\n",
    "    ax.legend()\n",
    "    ax.grid(True)\n",
    "    \n",
    "    plt.tight_layout()\n",
    "    plt.show()\n",
    "\n",
    "# Create interactive widgets\n",
    "system_dropdown = Dropdown(options=['Linear', 'Nonlinear (Quadratic)', 'Nonlinear (Sine)'], \n",
    "                           value='Linear', description='System:')\n",
    "a_slider = FloatSlider(min=-2, max=2, step=0.1, value=1, description='a:')\n",
    "b_slider = FloatSlider(min=-2, max=2, step=0.1, value=1, description='b:')\n",
    "\n",
    "# Create interactive plot\n",
    "interactive_plot = interactive(check_linearity, system_type=system_dropdown, a=a_slider, b=b_slider)\n",
    "\n",
    "# Display interactive plot\n",
    "display(interactive_plot)"
   ]
  }
 ],
 "metadata": {
  "kernelspec": {
   "display_name": "cs1",
   "language": "python",
   "name": "python3"
  },
  "language_info": {
   "codemirror_mode": {
    "name": "ipython",
    "version": 3
   },
   "file_extension": ".py",
   "mimetype": "text/x-python",
   "name": "python",
   "nbconvert_exporter": "python",
   "pygments_lexer": "ipython3",
   "version": "3.12.5"
  }
 },
 "nbformat": 4,
 "nbformat_minor": 2
}
