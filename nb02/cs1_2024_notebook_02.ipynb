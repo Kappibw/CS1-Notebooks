{
 "cells": [
  {
   "cell_type": "markdown",
   "metadata": {},
   "source": [
    "# Control Systems 1, Coding Exercise 02: Jupyter Notebook on Introduction to System Classification and Properties\n",
    "2024 ETH Zurich, Mark Benazet Castells, Felix Muller, Matteo Penlington; Institute for Dynamic Systems and Control; Prof. Emilio Frazzoli\n",
    "\n",
    "\n",
    "This interactive notebook is designed to introduce fundamental concepts in control systems engineering. It covers the basics of system modeling, classification, and analysis, with a focus on building intuition through visual and interactive examples. \n",
    "Authors:\n",
    "- Mark Benazet Castells; mbenazet@ethz.ch\n",
    "- Felix Muller; fmuller@ethz.ch"
   ]
  }
 ],
 "metadata": {
  "kernelspec": {
   "display_name": "cs1",
   "language": "python",
   "name": "python3"
  },
  "language_info": {
   "codemirror_mode": {
    "name": "ipython",
    "version": 3
   },
   "file_extension": ".py",
   "mimetype": "text/x-python",
   "name": "python",
   "nbconvert_exporter": "python",
   "pygments_lexer": "ipython3",
   "version": "3.12.5"
  }
 },
 "nbformat": 4,
 "nbformat_minor": 2
}
