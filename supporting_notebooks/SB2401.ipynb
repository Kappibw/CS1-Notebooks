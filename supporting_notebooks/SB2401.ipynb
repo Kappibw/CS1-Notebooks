{
 "cells": [
  {
   "cell_type": "markdown",
   "metadata": {},
   "source": [
    "# Supporting Notebook in CS1 2024\n",
    "\n",
    "In this Notebook, we will look at a few simple systems, and qualitatively assess how different control strategies work on each one. \n",
    "\n",
    "## First-order model\n",
    "Let us consider the system below, which roughly models the speed dynamics of an old-fashioned car, without cruise control or other modern speed control devices. \n",
    "\n",
    "![Image Title](./media/sys1.png)\n"
   ]
  },
  {
   "cell_type": "markdown",
   "metadata": {},
   "source": [
    "Notice that there are two **signals** (i.e., functions of time) going into the \"car\" **system** (i.e., something that converts one or more input signals into one or more output signals):\n",
    "- One of the input signals represents how much the gas (or brake) pedal is pressed, as a function of time. This is called the **control** signal, since this is how we try to influence the speed of the car. (This is an example of an *endogeneous* signal, i.e., something that is controlled by the user)\n",
    "- The other represents the slope of the road, with a positive number referring to an uphill slope. This is a **disturbance** signal, and is typically something generated outside of the system (i.e., an *exogeneous* signal), beyond the user's knowledge or control. \n",
    "- The system in turn generates an **output** signal, which in this case represents how the speed of the vehicle changes over time. \n",
    "\n",
    "Assume that it is desired to maintain a speed of $50$ km/h. This is called the **reference** signal, and for now let us set it to a constant. Note that this signal does not appear in our system yet, this is just a convenience for us to keep in mind what is the control objective. "
   ]
  },
  {
   "cell_type": "code",
   "execution_count": 118,
   "metadata": {},
   "outputs": [],
   "source": [
    "import control as ct\n",
    "import matplotlib.pyplot as plt\n",
    "import numpy as np\n",
    "import ipywidgets as widgets\n",
    "from IPython.display import display, clear_output, Image\n",
    "\n",
    "# Define a time vector\n",
    "time = np.linspace(0, 20, 500)\n",
    "\n",
    "# Define reference signal\n",
    "reference_signal = 50 * np.ones_like(time)"
   ]
  },
  {
   "cell_type": "markdown",
   "metadata": {},
   "source": [
    "Let us also assume that the slope of the road is $0%$, for the first 10 seconds, and then changes to $10%$ for the next 10 secons:"
   ]
  },
  {
   "cell_type": "code",
   "execution_count": 119,
   "metadata": {},
   "outputs": [],
   "source": [
    "disturbance = np.zeros_like(time)\n",
    "disturbance[time >= 10] = 10"
   ]
  },
  {
   "cell_type": "markdown",
   "metadata": {},
   "source": [
    "### Open-loop, Feed-forward Control"
   ]
  },
  {
   "cell_type": "markdown",
   "metadata": {},
   "source": [
    "Let us define a few types of control signals so that the output of the system (i.e., car's speed) matches the desired speed (i.e., the reference)."
   ]
  },
  {
   "cell_type": "code",
   "execution_count": 120,
   "metadata": {},
   "outputs": [],
   "source": [
    "# Define a time-varying input signal (constant)\n",
    "control_signal_1 = 50 * np.ones_like(time)\n",
    "\n",
    "# Define a time-varying input signal (ramp for first 5 seconds, then constant)\n",
    "control_signal_2 = 50 * np.ones_like(time)\n",
    "control_signal_2[time < 5] = np.linspace(0,50,len(time)//4)\n",
    "\n",
    "# Define a time-varying input signal (step for first 15 seconds, then constant)\n",
    "control_signal_3 = 50 * np.ones_like(time)\n",
    "control_signal_3[time < 15] = np.linspace(0,50,3*len(time)//4)\n",
    "\n",
    "control_signals = {\n",
    "    \"constant\": control_signal_1,\n",
    "    \"ramp_until_5sec\": control_signal_2,\n",
    "    \"ramp_until_15sec\": control_signal_3\n",
    "}\n"
   ]
  },
  {
   "cell_type": "markdown",
   "metadata": {},
   "source": [
    "This approach to control design is called **open-loop** or **feed-forward** control. Essentially you are relying on your knowledge of the system to try to \"reverse engineer\" it, and find the control input that generates a desired output. \n",
    "\n",
    "Check how good your choice of control signal was by running a simulation:"
   ]
  },
  {
   "cell_type": "code",
   "execution_count": 121,
   "metadata": {},
   "outputs": [
    {
     "data": {
      "application/vnd.jupyter.widget-view+json": {
       "model_id": "8ceb22bdd239492f917b7498896cfe18",
       "version_major": 2,
       "version_minor": 0
      },
      "text/plain": [
       "interactive(children=(Dropdown(description='Control Signal', options=('constant', 'ramp_until_5sec', 'ramp_unt…"
      ]
     },
     "execution_count": 121,
     "metadata": {},
     "output_type": "execute_result"
    }
   ],
   "source": [
    "def simulate_sys1(time, disturbance, control_signal):\n",
    "    # Define the transfer function\n",
    "    tf = ct.TransferFunction([0.73], [1, 1])\n",
    "\n",
    "    # compute disturbed input\n",
    "    disturbed_input = -2.1 * disturbance + np.clip(control_signal, -100, 100)\n",
    "\n",
    "    time, response = ct.forced_response(tf, T=time, U=disturbed_input)\n",
    "    return response\n",
    "\n",
    "def update_plot(function_name):\n",
    "    control_signal = control_signals[function_name]\n",
    "\n",
    "    response = simulate_sys1(time, disturbance, control_signal)\n",
    "\n",
    "    plt.figure()\n",
    "    plt.plot(time, control_signal, label=\"Control Signal\", linestyle='-')\n",
    "    plt.plot(time, response, label=\"System Response (km/h)\")\n",
    "    plt.plot(time, reference_signal, label=\"Reference Signal (km/h)\", linestyle='--')\n",
    "    plt.title('1st Order System - Feedforward')\n",
    "    plt.xlabel('Time (s)')\n",
    "    plt.ylabel('Speed (km/h)')\n",
    "    plt.legend()\n",
    "    plt.show()\n",
    "\n",
    "# Create a dropdown menu for control signal selection\n",
    "control_signal_dropdown = widgets.Dropdown(\n",
    "    options=list(control_signals.keys()),  # Control signal options\n",
    "    value=\"constant\",              # Default value\n",
    "    description=\"Control Signal\"\n",
    ")\n",
    "\n",
    "# Link the dropdown menu to the update_plot function\n",
    "widgets.interactive(update_plot, function_name=control_signal_dropdown)"
   ]
  },
  {
   "cell_type": "markdown",
   "metadata": {},
   "source": [
    "How good of a job can you do by choosing a control signal this way?\n",
    "\n",
    "Probably not great, especially since your strategy to come up with a control signal would have to be executed again for each change in the car's performance (e.g., how many passengers are on board), and in the profile of the road."
   ]
  },
  {
   "cell_type": "markdown",
   "metadata": {},
   "source": [
    "### Closed-loop,feedback control\n"
   ]
  },
  {
   "cell_type": "markdown",
   "metadata": {},
   "source": [
    "The big problem, as you probably realized, is that you were not able to use the information of the behavior of the system in an on-line fashion, but you had to rely on, e.g., a trial and error strategy. \n",
    "\n",
    "Clearly, this is not what you do when you actually drive a car (or a bike, or walking, etc...). In these cases, you can perceive your speed based on your senses, and possibly sensors in the vehicle, and then use this information to regulate how much to press or depress the gas pedal. \n",
    "\n",
    "What does this new control architecture look like?\n",
    "\n",
    "![Image Title](./media/sys1fb.png)"
   ]
  },
  {
   "cell_type": "markdown",
   "metadata": {},
   "source": [
    "How do we get to this block diagram and control architecture? The idea is as follows:\n",
    "1. We measure the output of interest (in this case, speed) with a sensor;\n",
    "2. We tap that signal and compare it to the reference, i.e., compute the difference between the desired, reference speed, and the actual, measured speed. This is the speed **error**. If the actual speed is lower than the desired speed, we would like to increase the gas pedal %. Viceversa if the actual speed is higher than the desired speed. \n",
    "3. The amount by which we increase the gas for a given speed is called the **control gain**. In this case, the control gain **$K$** measures how much % we increase the gas pedal for a $1$ km/h error in speed. Notice that this is a **negative feedback** because if the speed is lower, the gas command is higher (notice the negative sign in the block combining the measured output and the reference signal). "
   ]
  },
  {
   "cell_type": "code",
   "execution_count": 122,
   "metadata": {},
   "outputs": [
    {
     "data": {
      "application/vnd.jupyter.widget-view+json": {
       "model_id": "b98b645d103f4436aa678d32b9810b9e",
       "version_major": 2,
       "version_minor": 0
      },
      "text/plain": [
       "FloatSlider(value=10.0, description='k', max=20.0, min=-20.0, step=1.0)"
      ]
     },
     "metadata": {},
     "output_type": "display_data"
    },
    {
     "data": {
      "application/vnd.jupyter.widget-view+json": {
       "model_id": "28ce4e5dd37c4772ba124ea6b451389a",
       "version_major": 2,
       "version_minor": 0
      },
      "text/plain": [
       "Output()"
      ]
     },
     "metadata": {},
     "output_type": "display_data"
    }
   ],
   "source": [
    "def simulate_sys1fb(time, disturbance, K):\n",
    "    # Define the transfer function\n",
    "    tf = ct.TransferFunction([0.73], [1, 1])\n",
    "\n",
    "    # Initialize variables for simulation\n",
    "    control_signal = np.zeros_like(time)\n",
    "    response = np.zeros_like(time)\n",
    "    disturbed_input = np.zeros_like(time)\n",
    "\n",
    "    # Simulate the system response over time\n",
    "    for i in range(1, len(time)):\n",
    "        # Calculate error (reference - current output)\n",
    "        error = reference_signal[i] - response[i-1]\n",
    "        \n",
    "        # Compute control signal u based on the error\n",
    "        control_signal[i] = np.clip(K * error, -100, 100)\n",
    "\n",
    "        # Add disturbance and clip the control signal\n",
    "        disturbed_input[i] = -2.1 * disturbance[i] + control_signal[i]\n",
    "\n",
    "        # Simulate the system's response to this disturbed input\n",
    "        t, y = ct.forced_response(tf, T=[time[:i+1]], U=[disturbed_input[:i+1]])\n",
    "\n",
    "        # Update the system response at this time step\n",
    "        response[i] = y[-1]\n",
    "    \n",
    "    control_signal[0] = control_signal[1] # for visualization purposes\n",
    "    return response, control_signal\n",
    "\n",
    "# Initialize a display object\n",
    "output = widgets.Output()\n",
    "\n",
    "# Function to update the plot and title\n",
    "def update_plot(k):\n",
    "    with output:\n",
    "        clear_output(wait=True)  # Clear the previous output\n",
    "        response, control_signal = simulate_sys1fb(time, disturbance, k)\n",
    "\n",
    "        plt.figure()\n",
    "        plt.plot(time, control_signal, label=\"Control Signal\", linestyle='-')\n",
    "        plt.plot(time, response, label=\"System Response (km/h)\")\n",
    "        plt.plot(time, reference_signal, label=\"Reference Signal (km/h)\", linestyle='--')\n",
    "        plt.title('1st Order System - Feedback, K = {}'.format(k))\n",
    "        plt.xlabel('Time (s)')\n",
    "        plt.legend()\n",
    "        plt.show()\n",
    "\n",
    "# Create a slider for b\n",
    "b_slider = widgets.FloatSlider(value=10, min=-20, max=20, step=1.0, description=\"k\")\n",
    "\n",
    "# Link the slider to the update_plot function using interactive_output\n",
    "widgets.interactive(update_plot, k = b_slider)\n",
    "\n",
    "# Display the slider and the plot\n",
    "display(b_slider, output)\n"
   ]
  },
  {
   "cell_type": "markdown",
   "metadata": {},
   "source": [
    "Try to see what happens with different (positive) values of $K$:\n",
    "- How closely does the output match the reference?\n",
    "- What is the effect of the disturbance?\n",
    "- How quickly does the system react?\n",
    "- How aggressive is your control? How comfortable do you think it would be to be a passenger in that car? What about fuel efficiency?\n",
    "\n",
    "Now try with negative values of $K$. What happens? Why?"
   ]
  },
  {
   "cell_type": "markdown",
   "metadata": {},
   "source": [
    "### Two-degrees-of-freedom Control\n",
    "\n"
   ]
  },
  {
   "cell_type": "markdown",
   "metadata": {},
   "source": [
    "One limitation of (proportional) feedback control, is that it needs an error of some sort to figure out a non-zero control gain. In other words, the error needs to be large enough to elicit a reaction in the proportional feedback control. \n",
    "\n",
    "What if we combined both feed-forward and feedback? See for yourself with the system below:\n",
    "\n",
    "![Image Title](./media/sys1twodof.png)"
   ]
  },
  {
   "cell_type": "code",
   "execution_count": 130,
   "metadata": {},
   "outputs": [
    {
     "data": {
      "application/vnd.jupyter.widget-view+json": {
       "model_id": "a415cd004466489d89defb4ff6b21142",
       "version_major": 2,
       "version_minor": 0
      },
      "text/plain": [
       "FloatSlider(value=10.0, description='k', max=20.0, min=-20.0, step=1.0)"
      ]
     },
     "metadata": {},
     "output_type": "display_data"
    },
    {
     "data": {
      "application/vnd.jupyter.widget-view+json": {
       "model_id": "9387b45363ac4812aaae8197d71cea54",
       "version_major": 2,
       "version_minor": 0
      },
      "text/plain": [
       "Dropdown(description='Control Signal', options=('constant', 'ramp_until_5sec', 'ramp_until_15sec'), value='con…"
      ]
     },
     "metadata": {},
     "output_type": "display_data"
    },
    {
     "data": {
      "application/vnd.jupyter.widget-view+json": {
       "model_id": "d0cd1865cc6449109d3cf6525fa95120",
       "version_major": 2,
       "version_minor": 0
      },
      "text/plain": [
       "Output()"
      ]
     },
     "metadata": {},
     "output_type": "display_data"
    }
   ],
   "source": [
    "def simulate_sys1twodof(time, disturbance, control_signal_designer, K):\n",
    "    # Define the transfer function\n",
    "    tf = ct.TransferFunction([0.73], [1, 1])\n",
    "\n",
    "    # Initialize variables for simulation\n",
    "    control_signal = np.zeros_like(time)\n",
    "    response = np.zeros_like(time)\n",
    "    disturbed_input = np.zeros_like(time)\n",
    "\n",
    "    # Simulate the system response over time\n",
    "    for i in range(1, len(time)):\n",
    "        # Calculate error (reference - current output)\n",
    "        error = reference_signal[i] - response[i-1]\n",
    "        \n",
    "        # Compute control signal u based on the error\n",
    "        control_signal[i] = np.clip(K * error + control_signal_designer[i], -100, 100)\n",
    "\n",
    "        # Add disturbance and clip the control signal\n",
    "        disturbed_input[i] = -2.1 * disturbance[i] + control_signal[i]\n",
    "\n",
    "        # Simulate the system's response to this disturbed input\n",
    "        t, y = ct.forced_response(tf, T=[time[:i+1]], U=[disturbed_input[:i+1]])\n",
    "\n",
    "        # Update the system response at this time step\n",
    "        response[i] = y[-1]\n",
    "    control_signal[0] = control_signal[1] # for visualization purposes\n",
    "\n",
    "    return response, control_signal\n",
    "\n",
    "# Initialize a display object\n",
    "output = widgets.Output()\n",
    "\n",
    "# Function to update the plot and title\n",
    "def update_plot(k, control_signal_name):\n",
    "    with output:\n",
    "        clear_output(wait=True)  # Clear the previous output\n",
    "\n",
    "        # Get the control signal based on the dropdown selection\n",
    "        control_signal = control_signals[control_signal_name]\n",
    "        \n",
    "        # Simulate the system response (you can replace this with your actual simulation)\n",
    "        response, control_signal_simulated = simulate_sys1twodof(time, disturbance, control_signal, k)\n",
    "\n",
    "        # Plot the results\n",
    "        plt.figure()\n",
    "        plt.plot(time, control_signal_simulated, label=\"Control Signal\", linestyle='-')\n",
    "        plt.plot(time, response, label=\"System Response (km/h)\")\n",
    "        plt.plot(time, reference_signal, label=\"Reference Signal (km/h)\", linestyle='--')\n",
    "        plt.title('Two-degrees-of-freedom, K = {}'.format(k))\n",
    "        plt.xlabel('Time (s)')\n",
    "        plt.legend()\n",
    "        plt.show()\n",
    "\n",
    "# Create a slider for k\n",
    "k_slider = widgets.FloatSlider(value=10, min=-20, max=20, step=1.0, description=\"k\")\n",
    "\n",
    "# Create a dropdown menu for control signal selection\n",
    "control_signal_dropdown = widgets.Dropdown(\n",
    "    options=list(control_signals.keys()),  # Control signal options\n",
    "    value=\"constant\",              # Default value\n",
    "    description=\"Control Signal\"\n",
    ")\n",
    "\n",
    "# Output widget to display the plot\n",
    "output = widgets.Output()\n",
    "\n",
    "# Link the slider and dropdown to the update_plot function using interactive_output\n",
    "widgets.interactive_output(update_plot, {\"k\": k_slider, \"control_signal_name\": control_signal_dropdown})\n",
    "\n",
    "# Display the widgets and the output\n",
    "display(k_slider, control_signal_dropdown, output)\n",
    "\n"
   ]
  },
  {
   "cell_type": "markdown",
   "metadata": {},
   "source": [
    "In summary, the two-degrees-of-freedom architecture allows the designer to give a \"hint\" to the controller, so that it does not need a large error in order to generate an appropriate control signal.\n",
    "\n",
    "Note that if we set K=0, we recover a purely feed-forward control architecture. Conversely, if we set *control_signal*$=0$, we recover a pure feedback control architecture. Hence, the two-degrees-of-freedom architecture generalizes the other two architectures, and indeed there is nothing wrong in adding a reasonable feedforward in any control design, even though we will focus on feedback control in this course. "
   ]
  },
  {
   "cell_type": "markdown",
   "metadata": {},
   "source": [
    "### Second-order system\n",
    "\n"
   ]
  },
  {
   "cell_type": "markdown",
   "metadata": {},
   "source": [
    "Consider now the problem of controlling the altitude of the helicopter, using the model:\n",
    "\n",
    "![Image Title](./media/sys2twodof.png)"
   ]
  },
  {
   "cell_type": "markdown",
   "metadata": {},
   "source": [
    "Let's assume that we want the helicopter to take off and hover at 50 meters of altitude"
   ]
  },
  {
   "cell_type": "code",
   "execution_count": 132,
   "metadata": {},
   "outputs": [
    {
     "data": {
      "application/vnd.jupyter.widget-view+json": {
       "model_id": "3860bf6d2ba744abb283f6b94fb4b56f",
       "version_major": 2,
       "version_minor": 0
      },
      "text/plain": [
       "FloatSlider(value=1.0, description='k', max=20.0, min=-20.0, step=1.0)"
      ]
     },
     "metadata": {},
     "output_type": "display_data"
    },
    {
     "data": {
      "application/vnd.jupyter.widget-view+json": {
       "model_id": "782a1567c24f4c6b9fd80b04dd1ab86d",
       "version_major": 2,
       "version_minor": 0
      },
      "text/plain": [
       "Dropdown(description='Control Signal', options=('constant', 'ramp_until_5sec', 'ramp_until_15sec'), value='con…"
      ]
     },
     "metadata": {},
     "output_type": "display_data"
    },
    {
     "data": {
      "application/vnd.jupyter.widget-view+json": {
       "model_id": "9f44cbeee8de4873af25420e817acc64",
       "version_major": 2,
       "version_minor": 0
      },
      "text/plain": [
       "Output()"
      ]
     },
     "metadata": {},
     "output_type": "display_data"
    }
   ],
   "source": [
    "def simulate_sys2twodof(time, disturbance, control_signal_designer, K):\n",
    "    tf = ct.TransferFunction([1], [1, 1, 0])\n",
    "\n",
    "    # Initialize variables for simulation\n",
    "    control_signal = np.zeros_like(time)\n",
    "    response = np.zeros_like(time)\n",
    "    disturbed_input = np.zeros_like(time)\n",
    "\n",
    "    # Simulate the system response over time\n",
    "    for i in range(1, len(time)):\n",
    "        # Calculate error (reference - current output)\n",
    "        error = reference_signal[i] - response[i-1]\n",
    "        \n",
    "        # Compute control signal u based on the error\n",
    "        control_signal[i] = np.clip(K * error + control_signal_designer[i], -100, 100)\n",
    "\n",
    "        # Add disturbance and clip the control signal\n",
    "        disturbed_input[i] = -1* (50+disturbance[i]) + control_signal[i]\n",
    "\n",
    "        # Simulate the system's response to this disturbed input\n",
    "        t, y = ct.forced_response(tf, T=[time[:i+1]], U=[disturbed_input[:i+1]])\n",
    "\n",
    "        # Update the system response at this time step\n",
    "        response[i] = y[-1]\n",
    "    control_signal[0] = control_signal[1] # for visualization purposes\n",
    "\n",
    "    return response, control_signal\n",
    "\n",
    "# Initialize a display object\n",
    "output = widgets.Output()\n",
    "\n",
    "# Function to update the plot and title\n",
    "def update_plot(k, control_signal_name):\n",
    "    with output:\n",
    "        clear_output(wait=True)  # Clear the previous output\n",
    "\n",
    "        # Get the control signal based on the dropdown selection\n",
    "        control_signal = control_signals[control_signal_name]\n",
    "        \n",
    "        # Simulate the system response (you can replace this with your actual simulation)\n",
    "        response, control_signal_simulated = simulate_sys2twodof(time, disturbance, control_signal, k)\n",
    "\n",
    "        # Plot the results\n",
    "        plt.figure()\n",
    "        plt.plot(time, control_signal_simulated, label=\"Control Signal\", linestyle='-')\n",
    "        plt.plot(time, response, label=\"System Response (km/h)\")\n",
    "        plt.plot(time, reference_signal, label=\"Reference Signal (km/h)\", linestyle='--')\n",
    "        plt.title('2nd Order System - K = {}'.format(k))\n",
    "        plt.xlabel('Time (s)')\n",
    "        plt.legend()\n",
    "        plt.show()\n",
    "\n",
    "# Create a slider for k\n",
    "k_slider = widgets.FloatSlider(value=1, min=-20, max=20, step=1.0, description=\"k\")\n",
    "\n",
    "# Create a dropdown menu for control signal selection\n",
    "control_signal_dropdown = widgets.Dropdown(\n",
    "    options=list(control_signals.keys()),  # Control signal options\n",
    "    value=\"constant\",              # Default value\n",
    "    description=\"Control Signal\"\n",
    ")\n",
    "\n",
    "# Output widget to display the plot\n",
    "output = widgets.Output()\n",
    "\n",
    "# Link the slider and dropdown to the update_plot function using interactive_output\n",
    "widgets.interactive_output(update_plot, {\"k\": k_slider, \"control_signal_name\": control_signal_dropdown})\n",
    "\n",
    "# Display the widgets and the output\n",
    "display(k_slider, control_signal_dropdown, output)"
   ]
  },
  {
   "cell_type": "markdown",
   "metadata": {},
   "source": [
    "Try different values of K, see how close to the target altitude the helicopter will get. What happens if you make the gain K \"too large\"?"
   ]
  },
  {
   "cell_type": "markdown",
   "metadata": {},
   "source": [
    "### Higher-order system"
   ]
  },
  {
   "cell_type": "markdown",
   "metadata": {},
   "source": [
    "Consider the following higher-order system:\n",
    "\n",
    "![Image Title](./media/sys3fb.png)"
   ]
  },
  {
   "cell_type": "code",
   "execution_count": 133,
   "metadata": {},
   "outputs": [
    {
     "data": {
      "application/vnd.jupyter.widget-view+json": {
       "model_id": "a1cb0a24b2ef4192b47af038b23d3b24",
       "version_major": 2,
       "version_minor": 0
      },
      "text/plain": [
       "FloatSlider(value=0.1, description='k', max=20.0, min=-20.0)"
      ]
     },
     "metadata": {},
     "output_type": "display_data"
    },
    {
     "data": {
      "application/vnd.jupyter.widget-view+json": {
       "model_id": "42313004061c4382b7e35f9d613bc10e",
       "version_major": 2,
       "version_minor": 0
      },
      "text/plain": [
       "Output()"
      ]
     },
     "metadata": {},
     "output_type": "display_data"
    }
   ],
   "source": [
    "def simulate_sys3fb(time, disturbance, K):\n",
    "    tf = ct.TransferFunction([1], [1, 1, 0, 0])\n",
    "\n",
    "    # Initialize variables for simulation\n",
    "    control_signal = np.zeros_like(time)\n",
    "    response = np.zeros_like(time)\n",
    "    disturbed_input = np.zeros_like(time)\n",
    "\n",
    "    # Simulate the system response over time\n",
    "    for i in range(1, len(time)):\n",
    "        # Calculate error (reference - current output)\n",
    "        error = reference_signal[i] - response[i-1]\n",
    "        \n",
    "        # Compute control signal u based on the error\n",
    "        control_signal[i] = np.clip(K * error, -100, 100)\n",
    "\n",
    "        # Add disturbance and clip the control signal\n",
    "        disturbed_input[i] = -1 * disturbance[i] + control_signal[i]\n",
    "\n",
    "        # Simulate the system's response to this disturbed input\n",
    "        t, y = ct.forced_response(tf, T=[time[:i+1]], U=[disturbed_input[:i+1]])\n",
    "\n",
    "        # Update the system response at this time step\n",
    "        response[i] = y[-1]\n",
    "    \n",
    "    control_signal[0] = control_signal[1] # for visualization purposes\n",
    "    return response, control_signal\n",
    "\n",
    "# Initialize a display object\n",
    "output = widgets.Output()\n",
    "\n",
    "# Function to update the plot and title\n",
    "def update_plot(k):\n",
    "    with output:\n",
    "        clear_output(wait=True)  # Clear the previous output\n",
    "        response, control_signal = simulate_sys3fb(time, disturbance, k)\n",
    "\n",
    "        plt.figure()\n",
    "        plt.plot(time, control_signal, label=\"Control Signal\", linestyle='-')\n",
    "        plt.plot(time, response, label=\"System Response (km/h)\")\n",
    "        plt.plot(time, reference_signal, label=\"Reference Signal (km/h)\", linestyle='--')\n",
    "        plt.title('Higher Order System - K = {:.1f}'.format(k))\n",
    "        plt.xlabel('Time (s)')\n",
    "        plt.xlim([0, 20])\n",
    "        plt.ylim([-100,100])\n",
    "        plt.legend()\n",
    "        plt.show()\n",
    "\n",
    "# Create a slider for b\n",
    "b_slider = widgets.FloatSlider(value=0.1, min=-20, max=20, step=0.1, description=\"k\")\n",
    "\n",
    "# Link the slider to the update_plot function using interactive_output\n",
    "widgets.interactive(update_plot, k = b_slider)\n",
    "\n",
    "# Display the slider and the plot\n",
    "display(b_slider, output)"
   ]
  },
  {
   "cell_type": "markdown",
   "metadata": {},
   "source": [
    "What happens as you change K? Can you find \"good\" values of the control gain?\n",
    "\n",
    "Why do you think the system behavior under feedback is so different in this case?\n",
    "\n",
    "We will answer all these questions, and more, in the following weeks. "
   ]
  }
 ],
 "metadata": {
  "kernelspec": {
   "display_name": "venv",
   "language": "python",
   "name": "python3"
  },
  "language_info": {
   "codemirror_mode": {
    "name": "ipython",
    "version": 3
   },
   "file_extension": ".py",
   "mimetype": "text/x-python",
   "name": "python",
   "nbconvert_exporter": "python",
   "pygments_lexer": "ipython3",
   "version": "3.12.5"
  }
 },
 "nbformat": 4,
 "nbformat_minor": 2
}
